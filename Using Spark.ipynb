{
  "nbformat": 4,
  "nbformat_minor": 0,
  "metadata": {
    "colab": {
      "provenance": []
    },
    "kernelspec": {
      "name": "python3",
      "display_name": "Python 3"
    },
    "language_info": {
      "name": "python"
    }
  },
  "cells": [
    {
      "cell_type": "code",
      "execution_count": 38,
      "metadata": {
        "colab": {
          "base_uri": "https://localhost:8080/"
        },
        "id": "k3azM4jTLgkK",
        "outputId": "661a0c5e-c400-4dbb-aa57-f856760f37c5"
      },
      "outputs": [
        {
          "output_type": "stream",
          "name": "stdout",
          "text": [
            "\r0% [Working]\r            \rHit:1 http://security.ubuntu.com/ubuntu jammy-security InRelease\n",
            "\r0% [Connecting to archive.ubuntu.com] [Connected to cloud.r-project.org (3.171.85.66)] [Connecting t\r                                                                                                    \rHit:2 https://cloud.r-project.org/bin/linux/ubuntu jammy-cran40/ InRelease\n",
            "\r0% [Connecting to archive.ubuntu.com] [Connected to r2u.stat.illinois.edu (192.17.190.167)] [Connect\r                                                                                                    \rGet:3 https://developer.download.nvidia.com/compute/cuda/repos/ubuntu2204/x86_64  InRelease [1,581 B]\n",
            "Hit:4 https://r2u.stat.illinois.edu/ubuntu jammy InRelease\n",
            "Hit:5 http://archive.ubuntu.com/ubuntu jammy InRelease\n",
            "Get:6 http://archive.ubuntu.com/ubuntu jammy-updates InRelease [128 kB]\n",
            "Get:7 https://developer.download.nvidia.com/compute/cuda/repos/ubuntu2204/x86_64  Packages [1,108 kB]\n",
            "Hit:8 https://ppa.launchpadcontent.net/deadsnakes/ppa/ubuntu jammy InRelease\n",
            "Hit:9 https://ppa.launchpadcontent.net/graphics-drivers/ppa/ubuntu jammy InRelease\n",
            "Hit:10 https://ppa.launchpadcontent.net/ubuntugis/ppa/ubuntu jammy InRelease\n",
            "Get:11 http://archive.ubuntu.com/ubuntu jammy-backports InRelease [127 kB]\n",
            "Fetched 1,365 kB in 1s (1,137 kB/s)\n",
            "Reading package lists... Done\n",
            "W: Skipping acquire of configured file 'main/source/Sources' as repository 'https://r2u.stat.illinois.edu/ubuntu jammy InRelease' does not seem to provide it (sources.list entry misspelt?)\n"
          ]
        }
      ],
      "source": [
        "!apt-get update\n",
        "!apt-get install openjdk-8-jdk-headless -qq > /dev/null\n",
        "!wget -q https://archive.apache.org/dist/spark/spark-3.0.1/spark-3.0.1-bin-hadoop2.7.tgz\n",
        "!tar xf spark-3.0.1-bin-hadoop2.7.tgz\n",
        "!pip install -q findspark\n",
        "\n",
        "import os\n",
        "os.environ[\"JAVA_HOME\"] = \"/usr/lib/jvm/java-8-openjdk-amd64\"\n",
        "os.environ[\"SPARK_HOME\"] = \"/content/spark-3.0.1-bin-hadoop2.7\"\n",
        "\n",
        "import findspark\n",
        "findspark.init()\n",
        "\n",
        "from pyspark.sql import SparkSession\n",
        "spark = SparkSession.builder.master(\"local[*]\").getOrCreate()\n"
      ]
    },
    {
      "cell_type": "code",
      "source": [
        "income_rdd = spark.sparkContext.textFile(\"/content/trial_incomes.csv\", 32)\n"
      ],
      "metadata": {
        "id": "AKrHZRCsMQoq"
      },
      "execution_count": 39,
      "outputs": []
    },
    {
      "cell_type": "code",
      "source": [
        "reduced_rdd = (\n",
        "    income_rdd\n",
        "    .filter(lambda x: len(x.split(',')) >= 2)\n",
        "    .map(lambda x: (x.split(',')[0], float(x.split(',')[1])))\n",
        "    .reduceByKey(lambda x, y: x + y)\n",
        ")\n",
        "reduced_rdd.collect()\n",
        "\n",
        "income_rdd.take(5)\n"
      ],
      "metadata": {
        "colab": {
          "base_uri": "https://localhost:8080/"
        },
        "id": "el5JOVvHNB34",
        "outputId": "51462614-6ac3-43c5-bcb4-70d95946955c"
      },
      "execution_count": 40,
      "outputs": [
        {
          "output_type": "execute_result",
          "data": {
            "text/plain": [
              "['2', '10', '34', '1', '4']"
            ]
          },
          "metadata": {},
          "execution_count": 40
        }
      ]
    },
    {
      "cell_type": "markdown",
      "source": [
        "Tasks:\n",
        "With respect to the training dataset"
      ],
      "metadata": {
        "id": "d_9uJkEVW4zD"
      }
    },
    {
      "cell_type": "markdown",
      "source": [
        "1.count of distinct incomes – The number of distinct incomes in the dataset"
      ],
      "metadata": {
        "id": "FqkHdQxNV6RB"
      }
    },
    {
      "cell_type": "code",
      "source": [
        "distinct_incomes_rdd = (\n",
        "    income_rdd\n",
        "    .map(lambda x: (x, 1))\n",
        "    .reduceByKey(lambda x, y: x)\n",
        "    .map(lambda x: x[0])\n",
        ")\n",
        "\n",
        "distinct_income_count_test = distinct_incomes_rdd.count()\n",
        "distinct_income_count_test"
      ],
      "metadata": {
        "colab": {
          "base_uri": "https://localhost:8080/"
        },
        "id": "4Sfq6bU7v2_s",
        "outputId": "72a271dc-20c7-46f9-bd39-841b7b3253dc"
      },
      "execution_count": 41,
      "outputs": [
        {
          "output_type": "execute_result",
          "data": {
            "text/plain": [
              "79"
            ]
          },
          "metadata": {},
          "execution_count": 41
        }
      ]
    },
    {
      "cell_type": "markdown",
      "source": [
        "2.median – The median of all incomes in the dataset: the income at which\n",
        "there is an equal number of values greater than the income as there are\n",
        "values less than the income."
      ],
      "metadata": {
        "id": "WWAA5Y2RUze3"
      }
    },
    {
      "cell_type": "code",
      "source": [
        "income_val_rdd= income_rdd.map(lambda x: float(x.split(',')[0]))\n",
        "sorted_incomes = income_val_rdd.sortBy(lambda x: x).collect()\n",
        "\n",
        "count = len(sorted_incomes)\n",
        "if count % 2 == 1:\n",
        "    median_income = sorted_incomes[count // 2]\n",
        "else:\n",
        "    median_income = (sorted_incomes[count // 2 - 1] + sorted_incomes[count // 2]) / 2\n",
        "\n",
        "median_income"
      ],
      "metadata": {
        "colab": {
          "base_uri": "https://localhost:8080/"
        },
        "id": "NvKMPBvJ_Buk",
        "outputId": "c9ee8433-03e2-46df-f0db-3357ee49ab24"
      },
      "execution_count": 54,
      "outputs": [
        {
          "output_type": "execute_result",
          "data": {
            "text/plain": [
              "4.0"
            ]
          },
          "metadata": {},
          "execution_count": 54
        }
      ]
    },
    {
      "cell_type": "markdown",
      "source": [
        "3.mode – The mode of all incomes in the dataset: the most frequently seen\n",
        "income."
      ],
      "metadata": {
        "id": "haQly248c0v6"
      }
    },
    {
      "cell_type": "code",
      "source": [
        "income_counts_rdd = (\n",
        "    income_rdd\n",
        "    .filter(lambda x: len(x.split(',')) >= 1)\n",
        "    .map(lambda x: (float(x.split(',')[0]), 1))\n",
        "    .reduceByKey(lambda x, y: x + y)\n",
        ")\n",
        "\n"
      ],
      "metadata": {
        "id": "Hd0CQU-3XSl2"
      },
      "execution_count": 43,
      "outputs": []
    },
    {
      "cell_type": "code",
      "source": [
        "mode_of_income = income_counts_rdd.max(key=lambda x: x[1])\n",
        "mode_of_income\n"
      ],
      "metadata": {
        "colab": {
          "base_uri": "https://localhost:8080/"
        },
        "id": "867uKFVG0NYD",
        "outputId": "a5827473-436e-479b-94c9-54f0eb91c79a"
      },
      "execution_count": 36,
      "outputs": [
        {
          "output_type": "execute_result",
          "data": {
            "text/plain": [
              "(4.0, 257)"
            ]
          },
          "metadata": {},
          "execution_count": 36
        }
      ]
    },
    {
      "cell_type": "markdown",
      "source": [
        "4.count per 10power – counting the incomes by powers of 10. That is, for\n",
        "each integer round it down to its nearest power of 10 (for example 3 map to\n",
        "1 = 100; 30 would map to 10 = 101. 87 would map to 10 = 101; 870 would\n",
        "map to 100 = 102, 100 would map to 100 = 102 etc….). Your goal is to\n",
        "count the number of integers between each power of 10"
      ],
      "metadata": {
        "id": "Y40YkqmVKYsG"
      }
    },
    {
      "cell_type": "code",
      "source": [
        "import math\n",
        "\n",
        "def nearest_power_of_10(n):\n",
        "    return 10 ** int(math.log10(n)) if n > 0 else 1\n",
        "\n",
        "power_of_10_counts_rdd = (\n",
        "    income_rdd\n",
        "    .filter(lambda x: len(x.split(',')) >= 1)\n",
        "    .map(lambda x: nearest_power_of_10(float(x.split(',')[0])))\n",
        "    .map(lambda x: (x, 1))\n",
        "    .reduceByKey(lambda x, y: x + y)\n",
        ")\n",
        "\n",
        "power_of_10_incomecounts = power_of_10_counts_rdd.collect()\n",
        "power_of_10_incomecounts\n"
      ],
      "metadata": {
        "colab": {
          "base_uri": "https://localhost:8080/"
        },
        "id": "lrNPIn55z8Pl",
        "outputId": "1a2d15a6-42a1-4dc5-9a83-e2bb40178709"
      },
      "execution_count": 44,
      "outputs": [
        {
          "output_type": "execute_result",
          "data": {
            "text/plain": [
              "[(1, 853), (100, 19), (10000, 2), (10, 118), (1000, 8)]"
            ]
          },
          "metadata": {},
          "execution_count": 44
        }
      ]
    },
    {
      "cell_type": "markdown",
      "source": [
        "Tasks:\n",
        "With respect to test dataset"
      ],
      "metadata": {
        "id": "vWnAOZwA4xZ5"
      }
    },
    {
      "cell_type": "code",
      "source": [
        "income_rdd_test = spark.sparkContext.textFile(\"/content/test_incomes.csv\", 32)\n"
      ],
      "metadata": {
        "id": "znzoizoS401-"
      },
      "execution_count": 45,
      "outputs": []
    },
    {
      "cell_type": "code",
      "source": [
        "reduced_rdd_test = (\n",
        "    income_rdd_test\n",
        "    .filter(lambda x: len(x.split(',')) >= 2)\n",
        "    .map(lambda x: (x.split(',')[0], float(x.split(',')[1])))\n",
        "    .reduceByKey(lambda x, y: x + y)\n",
        ")\n",
        "reduced_rdd_test.collect()\n",
        "income_rdd_test.take(5)\n"
      ],
      "metadata": {
        "colab": {
          "base_uri": "https://localhost:8080/"
        },
        "id": "MRg_lTbZ5K6U",
        "outputId": "d0abf32d-742a-4603-8721-684dc3df6ad8"
      },
      "execution_count": 47,
      "outputs": [
        {
          "output_type": "execute_result",
          "data": {
            "text/plain": [
              "['3', '2', '4', '24', '1133']"
            ]
          },
          "metadata": {},
          "execution_count": 47
        }
      ]
    },
    {
      "cell_type": "markdown",
      "source": [
        "1.count of distinct incomes – The number of distinct incomes in the dataset"
      ],
      "metadata": {
        "id": "e_BjoNLG8p6u"
      }
    },
    {
      "cell_type": "code",
      "source": [
        "distinct_incomes_rdd_test = (\n",
        "    income_rdd_test\n",
        "    .map(lambda x: (x, 1))\n",
        "    .reduceByKey(lambda x, y: x)\n",
        "    .map(lambda x: x[0])\n",
        ")\n",
        "\n",
        "distinct_income_count_test = distinct_incomes_rdd_test.count()\n",
        "distinct_income_count_test\n"
      ],
      "metadata": {
        "colab": {
          "base_uri": "https://localhost:8080/"
        },
        "id": "prYOR8Mqus3q",
        "outputId": "f166ea2e-b731-4457-b0d0-3ee54218c4d0"
      },
      "execution_count": 48,
      "outputs": [
        {
          "output_type": "execute_result",
          "data": {
            "text/plain": [
              "5572"
            ]
          },
          "metadata": {},
          "execution_count": 48
        }
      ]
    },
    {
      "cell_type": "markdown",
      "source": [
        "2.median – The median of all incomes in the dataset: the income at which there is an equal number of values greater than the income as there are values less than the income."
      ],
      "metadata": {
        "id": "H_So8inpAAm8"
      }
    },
    {
      "cell_type": "code",
      "source": [
        "income_values_rdd_test= income_rdd_test.map(lambda x: float(x.split(',')[0]))\n",
        "sorted_incomes = income_values_rdd_test.sortBy(lambda x: x).collect()\n",
        "\n",
        "count = len(sorted_incomes)\n",
        "if count % 2 == 1:\n",
        "    median_income = sorted_incomes[count // 2]\n",
        "else:\n",
        "    median_income = (sorted_incomes[count // 2 - 1] + sorted_incomes[count // 2]) / 2\n",
        "\n",
        "median_income\n"
      ],
      "metadata": {
        "colab": {
          "base_uri": "https://localhost:8080/"
        },
        "id": "kN_a4gWLp5Mh",
        "outputId": "12772464-91b7-49d0-a829-937674034058"
      },
      "execution_count": 49,
      "outputs": [
        {
          "output_type": "execute_result",
          "data": {
            "text/plain": [
              "3458.0"
            ]
          },
          "metadata": {},
          "execution_count": 49
        }
      ]
    },
    {
      "cell_type": "markdown",
      "source": [
        "3.mode – The mode of all incomes in the dataset: the most frequently seen\n",
        "income."
      ],
      "metadata": {
        "id": "Rbv4CuIkCyC-"
      }
    },
    {
      "cell_type": "code",
      "source": [
        "income_counts_rdd_test = (\n",
        "    income_rdd_test\n",
        "    .filter(lambda x: len(x.split(',')) >= 1)\n",
        "    .map(lambda x: (float(x.split(',')[0]), 1))\n",
        "    .reduceByKey(lambda x, y: x + y)\n",
        ")\n",
        "\n",
        "mode_income_test = income_counts_rdd_test.max(key=lambda x: x[1])\n",
        "mode_income_test\n"
      ],
      "metadata": {
        "colab": {
          "base_uri": "https://localhost:8080/"
        },
        "id": "9GVJ7RXoCM9M",
        "outputId": "3ac2790c-fcc4-4b4f-cade-1cddf902cf0b"
      },
      "execution_count": 50,
      "outputs": [
        {
          "output_type": "execute_result",
          "data": {
            "text/plain": [
              "(32.0, 1)"
            ]
          },
          "metadata": {},
          "execution_count": 50
        }
      ]
    },
    {
      "cell_type": "markdown",
      "source": [
        "4.count per 10power – counting the incomes by powers of 10. That is, for\n",
        "each integer round it down to its nearest power of 10 (for example 3 map to\n",
        "1 = 100; 30 would map to 10 = 101. 87 would map to 10 = 101; 870 would\n",
        "map to 100 = 102, 100 would map to 100 = 102 etc….). Your goal is to\n",
        "count the number of integers between each power of 10."
      ],
      "metadata": {
        "id": "2e_KPc7KKTS4"
      }
    },
    {
      "cell_type": "code",
      "source": [
        "import math\n",
        "\n",
        "def nearest_power_of_10(n):\n",
        "    return 10 ** int(math.log10(n)) if n > 0 else 1\n",
        "\n",
        "power_of_10_counts_test = (\n",
        "    income_rdd_test\n",
        "    .filter(lambda x: len(x.split(',')) >= 1)\n",
        "    .map(lambda x: nearest_power_of_10(float(x.split(',')[0])))\n",
        "    .map(lambda x: (x, 1))\n",
        "    .reduceByKey(lambda x, y: x + y)\n",
        ")\n",
        "\n",
        "power_of_10_incomecounts_test = power_of_10_counts_test.collect()\n",
        "power_of_10_incomecounts_test\n"
      ],
      "metadata": {
        "colab": {
          "base_uri": "https://localhost:8080/"
        },
        "id": "VCuYAehWAX0D",
        "outputId": "efa15dd5-cd3a-456b-f5fb-09b57f0aef8e"
      },
      "execution_count": 52,
      "outputs": [
        {
          "output_type": "execute_result",
          "data": {
            "text/plain": [
              "[(100000, 218),\n",
              " (1000000, 51),\n",
              " (10000000, 3),\n",
              " (1, 9),\n",
              " (100, 898),\n",
              " (1000, 3175),\n",
              " (10, 90),\n",
              " (10000, 1128)]"
            ]
          },
          "metadata": {},
          "execution_count": 52
        }
      ]
    }
  ]
}