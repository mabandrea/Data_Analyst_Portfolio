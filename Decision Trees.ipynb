{
 "cells": [
  {
   "cell_type": "code",
   "execution_count": 1,
   "id": "29d7e10e",
   "metadata": {},
   "outputs": [],
   "source": [
    "import pandas as pd\n",
    "import numpy as np\n",
    "import matplotlib.pyplot as plt \n",
    "import seaborn as sns"
   ]
  },
  {
   "cell_type": "code",
   "execution_count": 2,
   "id": "062bda4e",
   "metadata": {},
   "outputs": [],
   "source": [
    "#df = pd.read_csv(\"C:/Users/Andrea/Desktop/Decision Tree/iris.csv\")"
   ]
  },
  {
   "cell_type": "code",
   "execution_count": 3,
   "id": "5d6b4e09",
   "metadata": {},
   "outputs": [],
   "source": [
    "from sklearn.datasets import load_iris\n",
    "\n",
    "iris = load_iris()\n",
    "X, y = iris.data, iris.target"
   ]
  },
  {
   "cell_type": "code",
   "execution_count": 4,
   "id": "7403b24e",
   "metadata": {},
   "outputs": [
    {
     "name": "stdout",
     "output_type": "stream",
     "text": [
      "['setosa' 'versicolor' 'virginica']\n"
     ]
    }
   ],
   "source": [
    "print(iris.target_names)\n"
   ]
  },
  {
   "cell_type": "markdown",
   "id": "d9222569",
   "metadata": {},
   "source": [
    "Create pandas DataFrame from the data and use feature names as collumn names "
   ]
  },
  {
   "cell_type": "code",
   "execution_count": 5,
   "id": "f0deda02",
   "metadata": {},
   "outputs": [
    {
     "data": {
      "text/plain": [
       "Index(['sepal length (cm)', 'sepal width (cm)', 'petal length (cm)',\n",
       "       'petal width (cm)'],\n",
       "      dtype='object')"
      ]
     },
     "execution_count": 5,
     "metadata": {},
     "output_type": "execute_result"
    }
   ],
   "source": [
    "df = pd.DataFrame(iris.data, columns=iris.feature_names)\n",
    "df.columns\n"
   ]
  },
  {
   "cell_type": "code",
   "execution_count": 6,
   "id": "00162f6a",
   "metadata": {},
   "outputs": [
    {
     "data": {
      "text/html": [
       "<div>\n",
       "<style scoped>\n",
       "    .dataframe tbody tr th:only-of-type {\n",
       "        vertical-align: middle;\n",
       "    }\n",
       "\n",
       "    .dataframe tbody tr th {\n",
       "        vertical-align: top;\n",
       "    }\n",
       "\n",
       "    .dataframe thead th {\n",
       "        text-align: right;\n",
       "    }\n",
       "</style>\n",
       "<table border=\"1\" class=\"dataframe\">\n",
       "  <thead>\n",
       "    <tr style=\"text-align: right;\">\n",
       "      <th></th>\n",
       "      <th>sepal length (cm)</th>\n",
       "      <th>sepal width (cm)</th>\n",
       "      <th>petal length (cm)</th>\n",
       "      <th>petal width (cm)</th>\n",
       "    </tr>\n",
       "  </thead>\n",
       "  <tbody>\n",
       "    <tr>\n",
       "      <th>0</th>\n",
       "      <td>5.1</td>\n",
       "      <td>3.5</td>\n",
       "      <td>1.4</td>\n",
       "      <td>0.2</td>\n",
       "    </tr>\n",
       "    <tr>\n",
       "      <th>1</th>\n",
       "      <td>4.9</td>\n",
       "      <td>3.0</td>\n",
       "      <td>1.4</td>\n",
       "      <td>0.2</td>\n",
       "    </tr>\n",
       "    <tr>\n",
       "      <th>2</th>\n",
       "      <td>4.7</td>\n",
       "      <td>3.2</td>\n",
       "      <td>1.3</td>\n",
       "      <td>0.2</td>\n",
       "    </tr>\n",
       "    <tr>\n",
       "      <th>3</th>\n",
       "      <td>4.6</td>\n",
       "      <td>3.1</td>\n",
       "      <td>1.5</td>\n",
       "      <td>0.2</td>\n",
       "    </tr>\n",
       "    <tr>\n",
       "      <th>4</th>\n",
       "      <td>5.0</td>\n",
       "      <td>3.6</td>\n",
       "      <td>1.4</td>\n",
       "      <td>0.2</td>\n",
       "    </tr>\n",
       "  </tbody>\n",
       "</table>\n",
       "</div>"
      ],
      "text/plain": [
       "   sepal length (cm)  sepal width (cm)  petal length (cm)  petal width (cm)\n",
       "0                5.1               3.5                1.4               0.2\n",
       "1                4.9               3.0                1.4               0.2\n",
       "2                4.7               3.2                1.3               0.2\n",
       "3                4.6               3.1                1.5               0.2\n",
       "4                5.0               3.6                1.4               0.2"
      ]
     },
     "execution_count": 6,
     "metadata": {},
     "output_type": "execute_result"
    }
   ],
   "source": [
    "df.head()"
   ]
  },
  {
   "cell_type": "code",
   "execution_count": 7,
   "id": "03b92572",
   "metadata": {},
   "outputs": [
    {
     "name": "stdout",
     "output_type": "stream",
     "text": [
      "[0 0 0 0 0 0 0 0 0 0 0 0 0 0 0 0 0 0 0 0 0 0 0 0 0 0 0 0 0 0 0 0 0 0 0 0 0\n",
      " 0 0 0 0 0 0 0 0 0 0 0 0 0 1 1 1 1 1 1 1 1 1 1 1 1 1 1 1 1 1 1 1 1 1 1 1 1\n",
      " 1 1 1 1 1 1 1 1 1 1 1 1 1 1 1 1 1 1 1 1 1 1 1 1 1 1 2 2 2 2 2 2 2 2 2 2 2\n",
      " 2 2 2 2 2 2 2 2 2 2 2 2 2 2 2 2 2 2 2 2 2 2 2 2 2 2 2 2 2 2 2 2 2 2 2 2 2\n",
      " 2 2]\n"
     ]
    }
   ],
   "source": [
    "print(iris.target)"
   ]
  },
  {
   "cell_type": "markdown",
   "id": "356da6d8",
   "metadata": {},
   "source": [
    " Question 01 - Calculate the statistis (mean and standard deviation)\n",
    " "
   ]
  },
  {
   "cell_type": "code",
   "execution_count": 8,
   "id": "9af9b647",
   "metadata": {},
   "outputs": [
    {
     "data": {
      "text/html": [
       "<div>\n",
       "<style scoped>\n",
       "    .dataframe tbody tr th:only-of-type {\n",
       "        vertical-align: middle;\n",
       "    }\n",
       "\n",
       "    .dataframe tbody tr th {\n",
       "        vertical-align: top;\n",
       "    }\n",
       "\n",
       "    .dataframe thead th {\n",
       "        text-align: right;\n",
       "    }\n",
       "</style>\n",
       "<table border=\"1\" class=\"dataframe\">\n",
       "  <thead>\n",
       "    <tr style=\"text-align: right;\">\n",
       "      <th></th>\n",
       "      <th>sepal length (cm)</th>\n",
       "      <th>sepal width (cm)</th>\n",
       "      <th>petal length (cm)</th>\n",
       "      <th>petal width (cm)</th>\n",
       "    </tr>\n",
       "  </thead>\n",
       "  <tbody>\n",
       "    <tr>\n",
       "      <th>count</th>\n",
       "      <td>150.000000</td>\n",
       "      <td>150.000000</td>\n",
       "      <td>150.000000</td>\n",
       "      <td>150.000000</td>\n",
       "    </tr>\n",
       "    <tr>\n",
       "      <th>mean</th>\n",
       "      <td>5.843333</td>\n",
       "      <td>3.057333</td>\n",
       "      <td>3.758000</td>\n",
       "      <td>1.199333</td>\n",
       "    </tr>\n",
       "    <tr>\n",
       "      <th>std</th>\n",
       "      <td>0.828066</td>\n",
       "      <td>0.435866</td>\n",
       "      <td>1.765298</td>\n",
       "      <td>0.762238</td>\n",
       "    </tr>\n",
       "    <tr>\n",
       "      <th>min</th>\n",
       "      <td>4.300000</td>\n",
       "      <td>2.000000</td>\n",
       "      <td>1.000000</td>\n",
       "      <td>0.100000</td>\n",
       "    </tr>\n",
       "    <tr>\n",
       "      <th>25%</th>\n",
       "      <td>5.100000</td>\n",
       "      <td>2.800000</td>\n",
       "      <td>1.600000</td>\n",
       "      <td>0.300000</td>\n",
       "    </tr>\n",
       "    <tr>\n",
       "      <th>50%</th>\n",
       "      <td>5.800000</td>\n",
       "      <td>3.000000</td>\n",
       "      <td>4.350000</td>\n",
       "      <td>1.300000</td>\n",
       "    </tr>\n",
       "    <tr>\n",
       "      <th>75%</th>\n",
       "      <td>6.400000</td>\n",
       "      <td>3.300000</td>\n",
       "      <td>5.100000</td>\n",
       "      <td>1.800000</td>\n",
       "    </tr>\n",
       "    <tr>\n",
       "      <th>max</th>\n",
       "      <td>7.900000</td>\n",
       "      <td>4.400000</td>\n",
       "      <td>6.900000</td>\n",
       "      <td>2.500000</td>\n",
       "    </tr>\n",
       "  </tbody>\n",
       "</table>\n",
       "</div>"
      ],
      "text/plain": [
       "       sepal length (cm)  sepal width (cm)  petal length (cm)  \\\n",
       "count         150.000000        150.000000         150.000000   \n",
       "mean            5.843333          3.057333           3.758000   \n",
       "std             0.828066          0.435866           1.765298   \n",
       "min             4.300000          2.000000           1.000000   \n",
       "25%             5.100000          2.800000           1.600000   \n",
       "50%             5.800000          3.000000           4.350000   \n",
       "75%             6.400000          3.300000           5.100000   \n",
       "max             7.900000          4.400000           6.900000   \n",
       "\n",
       "       petal width (cm)  \n",
       "count        150.000000  \n",
       "mean           1.199333  \n",
       "std            0.762238  \n",
       "min            0.100000  \n",
       "25%            0.300000  \n",
       "50%            1.300000  \n",
       "75%            1.800000  \n",
       "max            2.500000  "
      ]
     },
     "execution_count": 8,
     "metadata": {},
     "output_type": "execute_result"
    }
   ],
   "source": [
    "#Calculate the statistics (mean and standard deviation)\n",
    "\n",
    "df.describe()"
   ]
  },
  {
   "cell_type": "markdown",
   "id": "6a4618c0",
   "metadata": {},
   "source": [
    "Question 2 How many examples of each class are there ?\n"
   ]
  },
  {
   "cell_type": "code",
   "execution_count": 9,
   "id": "889a120d",
   "metadata": {},
   "outputs": [
    {
     "name": "stdout",
     "output_type": "stream",
     "text": [
      "<class 'pandas.core.frame.DataFrame'>\n",
      "RangeIndex: 150 entries, 0 to 149\n",
      "Data columns (total 1 columns):\n",
      " #   Column  Non-Null Count  Dtype\n",
      "---  ------  --------------  -----\n",
      " 0   target  150 non-null    int32\n",
      "dtypes: int32(1)\n",
      "memory usage: 728.0 bytes\n"
     ]
    },
    {
     "data": {
      "text/plain": [
       "target\n",
       "0         50\n",
       "1         50\n",
       "2         50\n",
       "dtype: int64"
      ]
     },
     "execution_count": 9,
     "metadata": {},
     "output_type": "execute_result"
    }
   ],
   "source": [
    "target = pd.DataFrame( iris.target)\n",
    "target= target.rename(columns = { 0 : 'target'}) \n",
    "target.info()\n",
    "\n",
    "target.value_counts()"
   ]
  },
  {
   "cell_type": "code",
   "execution_count": 10,
   "id": "c914796e",
   "metadata": {},
   "outputs": [
    {
     "data": {
      "text/plain": [
       "150"
      ]
     },
     "execution_count": 10,
     "metadata": {},
     "output_type": "execute_result"
    }
   ],
   "source": [
    "iris.target.sum()"
   ]
  },
  {
   "cell_type": "code",
   "execution_count": 11,
   "id": "3866fe58",
   "metadata": {},
   "outputs": [
    {
     "data": {
      "text/html": [
       "<div>\n",
       "<style scoped>\n",
       "    .dataframe tbody tr th:only-of-type {\n",
       "        vertical-align: middle;\n",
       "    }\n",
       "\n",
       "    .dataframe tbody tr th {\n",
       "        vertical-align: top;\n",
       "    }\n",
       "\n",
       "    .dataframe thead th {\n",
       "        text-align: right;\n",
       "    }\n",
       "</style>\n",
       "<table border=\"1\" class=\"dataframe\">\n",
       "  <thead>\n",
       "    <tr style=\"text-align: right;\">\n",
       "      <th></th>\n",
       "      <th>target</th>\n",
       "    </tr>\n",
       "  </thead>\n",
       "  <tbody>\n",
       "    <tr>\n",
       "      <th>140</th>\n",
       "      <td>2</td>\n",
       "    </tr>\n",
       "    <tr>\n",
       "      <th>141</th>\n",
       "      <td>2</td>\n",
       "    </tr>\n",
       "    <tr>\n",
       "      <th>142</th>\n",
       "      <td>2</td>\n",
       "    </tr>\n",
       "    <tr>\n",
       "      <th>143</th>\n",
       "      <td>2</td>\n",
       "    </tr>\n",
       "    <tr>\n",
       "      <th>144</th>\n",
       "      <td>2</td>\n",
       "    </tr>\n",
       "    <tr>\n",
       "      <th>145</th>\n",
       "      <td>2</td>\n",
       "    </tr>\n",
       "    <tr>\n",
       "      <th>146</th>\n",
       "      <td>2</td>\n",
       "    </tr>\n",
       "    <tr>\n",
       "      <th>147</th>\n",
       "      <td>2</td>\n",
       "    </tr>\n",
       "    <tr>\n",
       "      <th>148</th>\n",
       "      <td>2</td>\n",
       "    </tr>\n",
       "    <tr>\n",
       "      <th>149</th>\n",
       "      <td>2</td>\n",
       "    </tr>\n",
       "  </tbody>\n",
       "</table>\n",
       "</div>"
      ],
      "text/plain": [
       "     target\n",
       "140       2\n",
       "141       2\n",
       "142       2\n",
       "143       2\n",
       "144       2\n",
       "145       2\n",
       "146       2\n",
       "147       2\n",
       "148       2\n",
       "149       2"
      ]
     },
     "execution_count": 11,
     "metadata": {},
     "output_type": "execute_result"
    }
   ],
   "source": [
    "target.tail(10)"
   ]
  },
  {
   "cell_type": "markdown",
   "id": "6a7b6891",
   "metadata": {},
   "source": [
    "Before building the model, let's split the dataset into two : 70% for training and 30 % for testing "
   ]
  },
  {
   "cell_type": "code",
   "execution_count": 12,
   "id": "41872bf9",
   "metadata": {},
   "outputs": [],
   "source": [
    "from sklearn.model_selection import train_test_split\n",
    "X_train, X_test, y_train, y_test = train_test_split(X, y, train_size=0.7, random_state=0)"
   ]
  },
  {
   "cell_type": "markdown",
   "id": "e1144174",
   "metadata": {},
   "source": [
    "We can now build a decision tree on this data :"
   ]
  },
  {
   "cell_type": "code",
   "execution_count": 13,
   "id": "d8021e3b",
   "metadata": {},
   "outputs": [
    {
     "data": {
      "text/html": [
       "<style>#sk-container-id-1 {color: black;}#sk-container-id-1 pre{padding: 0;}#sk-container-id-1 div.sk-toggleable {background-color: white;}#sk-container-id-1 label.sk-toggleable__label {cursor: pointer;display: block;width: 100%;margin-bottom: 0;padding: 0.3em;box-sizing: border-box;text-align: center;}#sk-container-id-1 label.sk-toggleable__label-arrow:before {content: \"▸\";float: left;margin-right: 0.25em;color: #696969;}#sk-container-id-1 label.sk-toggleable__label-arrow:hover:before {color: black;}#sk-container-id-1 div.sk-estimator:hover label.sk-toggleable__label-arrow:before {color: black;}#sk-container-id-1 div.sk-toggleable__content {max-height: 0;max-width: 0;overflow: hidden;text-align: left;background-color: #f0f8ff;}#sk-container-id-1 div.sk-toggleable__content pre {margin: 0.2em;color: black;border-radius: 0.25em;background-color: #f0f8ff;}#sk-container-id-1 input.sk-toggleable__control:checked~div.sk-toggleable__content {max-height: 200px;max-width: 100%;overflow: auto;}#sk-container-id-1 input.sk-toggleable__control:checked~label.sk-toggleable__label-arrow:before {content: \"▾\";}#sk-container-id-1 div.sk-estimator input.sk-toggleable__control:checked~label.sk-toggleable__label {background-color: #d4ebff;}#sk-container-id-1 div.sk-label input.sk-toggleable__control:checked~label.sk-toggleable__label {background-color: #d4ebff;}#sk-container-id-1 input.sk-hidden--visually {border: 0;clip: rect(1px 1px 1px 1px);clip: rect(1px, 1px, 1px, 1px);height: 1px;margin: -1px;overflow: hidden;padding: 0;position: absolute;width: 1px;}#sk-container-id-1 div.sk-estimator {font-family: monospace;background-color: #f0f8ff;border: 1px dotted black;border-radius: 0.25em;box-sizing: border-box;margin-bottom: 0.5em;}#sk-container-id-1 div.sk-estimator:hover {background-color: #d4ebff;}#sk-container-id-1 div.sk-parallel-item::after {content: \"\";width: 100%;border-bottom: 1px solid gray;flex-grow: 1;}#sk-container-id-1 div.sk-label:hover label.sk-toggleable__label {background-color: #d4ebff;}#sk-container-id-1 div.sk-serial::before {content: \"\";position: absolute;border-left: 1px solid gray;box-sizing: border-box;top: 0;bottom: 0;left: 50%;z-index: 0;}#sk-container-id-1 div.sk-serial {display: flex;flex-direction: column;align-items: center;background-color: white;padding-right: 0.2em;padding-left: 0.2em;position: relative;}#sk-container-id-1 div.sk-item {position: relative;z-index: 1;}#sk-container-id-1 div.sk-parallel {display: flex;align-items: stretch;justify-content: center;background-color: white;position: relative;}#sk-container-id-1 div.sk-item::before, #sk-container-id-1 div.sk-parallel-item::before {content: \"\";position: absolute;border-left: 1px solid gray;box-sizing: border-box;top: 0;bottom: 0;left: 50%;z-index: -1;}#sk-container-id-1 div.sk-parallel-item {display: flex;flex-direction: column;z-index: 1;position: relative;background-color: white;}#sk-container-id-1 div.sk-parallel-item:first-child::after {align-self: flex-end;width: 50%;}#sk-container-id-1 div.sk-parallel-item:last-child::after {align-self: flex-start;width: 50%;}#sk-container-id-1 div.sk-parallel-item:only-child::after {width: 0;}#sk-container-id-1 div.sk-dashed-wrapped {border: 1px dashed gray;margin: 0 0.4em 0.5em 0.4em;box-sizing: border-box;padding-bottom: 0.4em;background-color: white;}#sk-container-id-1 div.sk-label label {font-family: monospace;font-weight: bold;display: inline-block;line-height: 1.2em;}#sk-container-id-1 div.sk-label-container {text-align: center;}#sk-container-id-1 div.sk-container {/* jupyter's `normalize.less` sets `[hidden] { display: none; }` but bootstrap.min.css set `[hidden] { display: none !important; }` so we also need the `!important` here to be able to override the default hidden behavior on the sphinx rendered scikit-learn.org. See: https://github.com/scikit-learn/scikit-learn/issues/21755 */display: inline-block !important;position: relative;}#sk-container-id-1 div.sk-text-repr-fallback {display: none;}</style><div id=\"sk-container-id-1\" class=\"sk-top-container\"><div class=\"sk-text-repr-fallback\"><pre>DecisionTreeClassifier()</pre><b>In a Jupyter environment, please rerun this cell to show the HTML representation or trust the notebook. <br />On GitHub, the HTML representation is unable to render, please try loading this page with nbviewer.org.</b></div><div class=\"sk-container\" hidden><div class=\"sk-item\"><div class=\"sk-estimator sk-toggleable\"><input class=\"sk-toggleable__control sk-hidden--visually\" id=\"sk-estimator-id-1\" type=\"checkbox\" checked><label for=\"sk-estimator-id-1\" class=\"sk-toggleable__label sk-toggleable__label-arrow\">DecisionTreeClassifier</label><div class=\"sk-toggleable__content\"><pre>DecisionTreeClassifier()</pre></div></div></div></div></div>"
      ],
      "text/plain": [
       "DecisionTreeClassifier()"
      ]
     },
     "execution_count": 13,
     "metadata": {},
     "output_type": "execute_result"
    }
   ],
   "source": [
    "from sklearn import tree\n",
    "clf = tree.DecisionTreeClassifier()\n",
    "clf.fit(X_train, y_train)"
   ]
  },
  {
   "cell_type": "code",
   "execution_count": 14,
   "id": "b7eca799",
   "metadata": {},
   "outputs": [
    {
     "data": {
      "text/plain": [
       "[Text(0.4, 0.9, 'x[2] <= 2.35\\ngini = 0.664\\nsamples = 105\\nvalue = [34, 32, 39]'),\n",
       " Text(0.3, 0.7, 'gini = 0.0\\nsamples = 34\\nvalue = [34, 0, 0]'),\n",
       " Text(0.5, 0.7, 'x[2] <= 4.95\\ngini = 0.495\\nsamples = 71\\nvalue = [0, 32, 39]'),\n",
       " Text(0.2, 0.5, 'x[3] <= 1.65\\ngini = 0.161\\nsamples = 34\\nvalue = [0, 31, 3]'),\n",
       " Text(0.1, 0.3, 'gini = 0.0\\nsamples = 30\\nvalue = [0, 30, 0]'),\n",
       " Text(0.3, 0.3, 'x[1] <= 3.1\\ngini = 0.375\\nsamples = 4\\nvalue = [0, 1, 3]'),\n",
       " Text(0.2, 0.1, 'gini = 0.0\\nsamples = 3\\nvalue = [0, 0, 3]'),\n",
       " Text(0.4, 0.1, 'gini = 0.0\\nsamples = 1\\nvalue = [0, 1, 0]'),\n",
       " Text(0.8, 0.5, 'x[3] <= 1.75\\ngini = 0.053\\nsamples = 37\\nvalue = [0, 1, 36]'),\n",
       " Text(0.7, 0.3, 'x[3] <= 1.65\\ngini = 0.375\\nsamples = 4\\nvalue = [0, 1, 3]'),\n",
       " Text(0.6, 0.1, 'gini = 0.0\\nsamples = 3\\nvalue = [0, 0, 3]'),\n",
       " Text(0.8, 0.1, 'gini = 0.0\\nsamples = 1\\nvalue = [0, 1, 0]'),\n",
       " Text(0.9, 0.3, 'gini = 0.0\\nsamples = 33\\nvalue = [0, 0, 33]')]"
      ]
     },
     "execution_count": 14,
     "metadata": {},
     "output_type": "execute_result"
    },
    {
     "data": {
      "image/png": "[encoded data removed]",
      "text/plain": [
       "<Figure size 432x288 with 1 Axes>"
      ]
     },
     "metadata": {
      "needs_background": "light"
     },
     "output_type": "display_data"
    }
   ],
   "source": [
    "tree.plot_tree(clf, filled=True)"
   ]
  },
  {
   "cell_type": "code",
   "execution_count": 15,
   "id": "1eda734c",
   "metadata": {},
   "outputs": [
    {
     "data": {
      "text/plain": [
       "array([2, 1, 0, 2, 0, 2, 0, 1, 1, 1, 2, 1, 1, 1, 1, 0, 1, 1, 0, 0, 2, 1,\n",
       "       0, 0, 2, 0, 0, 1, 1, 0, 2, 1, 0, 2, 2, 1, 0, 2, 1, 1, 2, 0, 2, 0,\n",
       "       0])"
      ]
     },
     "execution_count": 15,
     "metadata": {},
     "output_type": "execute_result"
    }
   ],
   "source": [
    "clf.predict(X_test)"
   ]
  },
  {
   "cell_type": "code",
   "execution_count": 16,
   "id": "6c4005e1",
   "metadata": {},
   "outputs": [
    {
     "data": {
      "text/plain": [
       "0.9777777777777777"
      ]
     },
     "execution_count": 16,
     "metadata": {},
     "output_type": "execute_result"
    }
   ],
   "source": [
    "clf.score(X_test, y_test)"
   ]
  },
  {
   "cell_type": "markdown",
   "id": "5aa7756a",
   "metadata": {},
   "source": [
    "Question 3 : Change the max_depth and min_samples_leaf parameter values, what do you notice\n",
    "\n"
   ]
  },
  {
   "cell_type": "code",
   "execution_count": 17,
   "id": "10341cfa",
   "metadata": {},
   "outputs": [
    {
     "data": {
      "text/html": [
       "<style>#sk-container-id-2 {color: black;}#sk-container-id-2 pre{padding: 0;}#sk-container-id-2 div.sk-toggleable {background-color: white;}#sk-container-id-2 label.sk-toggleable__label {cursor: pointer;display: block;width: 100%;margin-bottom: 0;padding: 0.3em;box-sizing: border-box;text-align: center;}#sk-container-id-2 label.sk-toggleable__label-arrow:before {content: \"▸\";float: left;margin-right: 0.25em;color: #696969;}#sk-container-id-2 label.sk-toggleable__label-arrow:hover:before {color: black;}#sk-container-id-2 div.sk-estimator:hover label.sk-toggleable__label-arrow:before {color: black;}#sk-container-id-2 div.sk-toggleable__content {max-height: 0;max-width: 0;overflow: hidden;text-align: left;background-color: #f0f8ff;}#sk-container-id-2 div.sk-toggleable__content pre {margin: 0.2em;color: black;border-radius: 0.25em;background-color: #f0f8ff;}#sk-container-id-2 input.sk-toggleable__control:checked~div.sk-toggleable__content {max-height: 200px;max-width: 100%;overflow: auto;}#sk-container-id-2 input.sk-toggleable__control:checked~label.sk-toggleable__label-arrow:before {content: \"▾\";}#sk-container-id-2 div.sk-estimator input.sk-toggleable__control:checked~label.sk-toggleable__label {background-color: #d4ebff;}#sk-container-id-2 div.sk-label input.sk-toggleable__control:checked~label.sk-toggleable__label {background-color: #d4ebff;}#sk-container-id-2 input.sk-hidden--visually {border: 0;clip: rect(1px 1px 1px 1px);clip: rect(1px, 1px, 1px, 1px);height: 1px;margin: -1px;overflow: hidden;padding: 0;position: absolute;width: 1px;}#sk-container-id-2 div.sk-estimator {font-family: monospace;background-color: #f0f8ff;border: 1px dotted black;border-radius: 0.25em;box-sizing: border-box;margin-bottom: 0.5em;}#sk-container-id-2 div.sk-estimator:hover {background-color: #d4ebff;}#sk-container-id-2 div.sk-parallel-item::after {content: \"\";width: 100%;border-bottom: 1px solid gray;flex-grow: 1;}#sk-container-id-2 div.sk-label:hover label.sk-toggleable__label {background-color: #d4ebff;}#sk-container-id-2 div.sk-serial::before {content: \"\";position: absolute;border-left: 1px solid gray;box-sizing: border-box;top: 0;bottom: 0;left: 50%;z-index: 0;}#sk-container-id-2 div.sk-serial {display: flex;flex-direction: column;align-items: center;background-color: white;padding-right: 0.2em;padding-left: 0.2em;position: relative;}#sk-container-id-2 div.sk-item {position: relative;z-index: 1;}#sk-container-id-2 div.sk-parallel {display: flex;align-items: stretch;justify-content: center;background-color: white;position: relative;}#sk-container-id-2 div.sk-item::before, #sk-container-id-2 div.sk-parallel-item::before {content: \"\";position: absolute;border-left: 1px solid gray;box-sizing: border-box;top: 0;bottom: 0;left: 50%;z-index: -1;}#sk-container-id-2 div.sk-parallel-item {display: flex;flex-direction: column;z-index: 1;position: relative;background-color: white;}#sk-container-id-2 div.sk-parallel-item:first-child::after {align-self: flex-end;width: 50%;}#sk-container-id-2 div.sk-parallel-item:last-child::after {align-self: flex-start;width: 50%;}#sk-container-id-2 div.sk-parallel-item:only-child::after {width: 0;}#sk-container-id-2 div.sk-dashed-wrapped {border: 1px dashed gray;margin: 0 0.4em 0.5em 0.4em;box-sizing: border-box;padding-bottom: 0.4em;background-color: white;}#sk-container-id-2 div.sk-label label {font-family: monospace;font-weight: bold;display: inline-block;line-height: 1.2em;}#sk-container-id-2 div.sk-label-container {text-align: center;}#sk-container-id-2 div.sk-container {/* jupyter's `normalize.less` sets `[hidden] { display: none; }` but bootstrap.min.css set `[hidden] { display: none !important; }` so we also need the `!important` here to be able to override the default hidden behavior on the sphinx rendered scikit-learn.org. See: https://github.com/scikit-learn/scikit-learn/issues/21755 */display: inline-block !important;position: relative;}#sk-container-id-2 div.sk-text-repr-fallback {display: none;}</style><div id=\"sk-container-id-2\" class=\"sk-top-container\"><div class=\"sk-text-repr-fallback\"><pre>DecisionTreeClassifier()</pre><b>In a Jupyter environment, please rerun this cell to show the HTML representation or trust the notebook. <br />On GitHub, the HTML representation is unable to render, please try loading this page with nbviewer.org.</b></div><div class=\"sk-container\" hidden><div class=\"sk-item\"><div class=\"sk-estimator sk-toggleable\"><input class=\"sk-toggleable__control sk-hidden--visually\" id=\"sk-estimator-id-2\" type=\"checkbox\" checked><label for=\"sk-estimator-id-2\" class=\"sk-toggleable__label sk-toggleable__label-arrow\">DecisionTreeClassifier</label><div class=\"sk-toggleable__content\"><pre>DecisionTreeClassifier()</pre></div></div></div></div></div>"
      ],
      "text/plain": [
       "DecisionTreeClassifier()"
      ]
     },
     "execution_count": 17,
     "metadata": {},
     "output_type": "execute_result"
    }
   ],
   "source": [
    "clf.fit(X_train, y_train)"
   ]
  },
  {
   "cell_type": "code",
   "execution_count": 19,
   "id": "5e1e4d75",
   "metadata": {},
   "outputs": [],
   "source": [
    "y_pred = clf.predict(X_test)"
   ]
  },
  {
   "cell_type": "code",
   "execution_count": 20,
   "id": "d9c83eac",
   "metadata": {},
   "outputs": [
    {
     "data": {
      "text/plain": [
       "0.9777777777777777"
      ]
     },
     "execution_count": 20,
     "metadata": {},
     "output_type": "execute_result"
    }
   ],
   "source": [
    "from sklearn.metrics import accuracy_score\n",
    "accuracy_score( y_test, y_pred)"
   ]
  },
  {
   "cell_type": "code",
   "execution_count": 21,
   "id": "9b7cd62e",
   "metadata": {},
   "outputs": [],
   "source": [
    "clf = tree.DecisionTreeClassifier(max_depth = 3)"
   ]
  },
  {
   "cell_type": "code",
   "execution_count": 22,
   "id": "130df910",
   "metadata": {},
   "outputs": [
    {
     "name": "stdout",
     "output_type": "stream",
     "text": [
      "DecisionTreeClassifier(max_depth=3)\n"
     ]
    }
   ],
   "source": [
    "clf.fit(X_train, y_train)\n",
    "print(clf)"
   ]
  },
  {
   "cell_type": "code",
   "execution_count": 23,
   "id": "73ff7326",
   "metadata": {},
   "outputs": [
    {
     "data": {
      "text/plain": [
       "[Text(0.375, 0.875, 'x[3] <= 0.75\\ngini = 0.664\\nsamples = 105\\nvalue = [34, 32, 39]'),\n",
       " Text(0.25, 0.625, 'gini = 0.0\\nsamples = 34\\nvalue = [34, 0, 0]'),\n",
       " Text(0.5, 0.625, 'x[2] <= 4.95\\ngini = 0.495\\nsamples = 71\\nvalue = [0, 32, 39]'),\n",
       " Text(0.25, 0.375, 'x[3] <= 1.65\\ngini = 0.161\\nsamples = 34\\nvalue = [0, 31, 3]'),\n",
       " Text(0.125, 0.125, 'gini = 0.0\\nsamples = 30\\nvalue = [0, 30, 0]'),\n",
       " Text(0.375, 0.125, 'gini = 0.375\\nsamples = 4\\nvalue = [0, 1, 3]'),\n",
       " Text(0.75, 0.375, 'x[2] <= 5.05\\ngini = 0.053\\nsamples = 37\\nvalue = [0, 1, 36]'),\n",
       " Text(0.625, 0.125, 'gini = 0.375\\nsamples = 4\\nvalue = [0, 1, 3]'),\n",
       " Text(0.875, 0.125, 'gini = 0.0\\nsamples = 33\\nvalue = [0, 0, 33]')]"
      ]
     },
     "execution_count": 23,
     "metadata": {},
     "output_type": "execute_result"
    },
    {
     "data": {
      "image/png": "[encoded data removed]",
      "text/plain": [
       "<Figure size 432x288 with 1 Axes>"
      ]
     },
     "metadata": {
      "needs_background": "light"
     },
     "output_type": "display_data"
    }
   ],
   "source": [
    "tree.plot_tree(clf, filled=True)"
   ]
  },
  {
   "cell_type": "code",
   "execution_count": 24,
   "id": "9d8d5680",
   "metadata": {},
   "outputs": [
    {
     "data": {
      "text/plain": [
       "0.9809523809523809"
      ]
     },
     "execution_count": 24,
     "metadata": {},
     "output_type": "execute_result"
    }
   ],
   "source": [
    "clf.score(X_train, y_train)"
   ]
  },
  {
   "cell_type": "code",
   "execution_count": 25,
   "id": "22cda297",
   "metadata": {},
   "outputs": [
    {
     "data": {
      "text/plain": [
       "0.9777777777777777"
      ]
     },
     "execution_count": 25,
     "metadata": {},
     "output_type": "execute_result"
    }
   ],
   "source": [
    "clf.score(X_test, y_test)"
   ]
  },
  {
   "cell_type": "markdown",
   "id": "df3eb56c",
   "metadata": {},
   "source": [
    "Overfitting can take place for large depth values, thereby making sure that the tree perfectly predicts all of the train data but leads to poor generalization perforance for the new data. In order to prevent overfitting of the data we should limit the depth of the tree by setting a maximum value for max_depth. "
   ]
  },
  {
   "cell_type": "code",
   "execution_count": 26,
   "id": "5f4c5497",
   "metadata": {},
   "outputs": [],
   "source": [
    "# When we assign a value for min_samples_leaf\n",
    "\n",
    "clf = tree.DecisionTreeClassifier(min_samples_leaf= 1)"
   ]
  },
  {
   "cell_type": "code",
   "execution_count": 27,
   "id": "615bf8f9",
   "metadata": {},
   "outputs": [
    {
     "name": "stdout",
     "output_type": "stream",
     "text": [
      "DecisionTreeClassifier()\n"
     ]
    }
   ],
   "source": [
    "clf.fit(X_train, y_train)\n",
    "print(clf)"
   ]
  },
  {
   "cell_type": "code",
   "execution_count": 28,
   "id": "f2dd1edc",
   "metadata": {},
   "outputs": [
    {
     "data": {
      "text/plain": [
       "[Text(0.4, 0.9, 'x[2] <= 2.35\\ngini = 0.664\\nsamples = 105\\nvalue = [34, 32, 39]'),\n",
       " Text(0.3, 0.7, 'gini = 0.0\\nsamples = 34\\nvalue = [34, 0, 0]'),\n",
       " Text(0.5, 0.7, 'x[2] <= 4.95\\ngini = 0.495\\nsamples = 71\\nvalue = [0, 32, 39]'),\n",
       " Text(0.2, 0.5, 'x[3] <= 1.65\\ngini = 0.161\\nsamples = 34\\nvalue = [0, 31, 3]'),\n",
       " Text(0.1, 0.3, 'gini = 0.0\\nsamples = 30\\nvalue = [0, 30, 0]'),\n",
       " Text(0.3, 0.3, 'x[1] <= 3.1\\ngini = 0.375\\nsamples = 4\\nvalue = [0, 1, 3]'),\n",
       " Text(0.2, 0.1, 'gini = 0.0\\nsamples = 3\\nvalue = [0, 0, 3]'),\n",
       " Text(0.4, 0.1, 'gini = 0.0\\nsamples = 1\\nvalue = [0, 1, 0]'),\n",
       " Text(0.8, 0.5, 'x[3] <= 1.75\\ngini = 0.053\\nsamples = 37\\nvalue = [0, 1, 36]'),\n",
       " Text(0.7, 0.3, 'x[3] <= 1.65\\ngini = 0.375\\nsamples = 4\\nvalue = [0, 1, 3]'),\n",
       " Text(0.6, 0.1, 'gini = 0.0\\nsamples = 3\\nvalue = [0, 0, 3]'),\n",
       " Text(0.8, 0.1, 'gini = 0.0\\nsamples = 1\\nvalue = [0, 1, 0]'),\n",
       " Text(0.9, 0.3, 'gini = 0.0\\nsamples = 33\\nvalue = [0, 0, 33]')]"
      ]
     },
     "execution_count": 28,
     "metadata": {},
     "output_type": "execute_result"
    },
    {
     "data": {
      "image/png": "[encoded data removed]",
      "text/plain": [
       "<Figure size 432x288 with 1 Axes>"
      ]
     },
     "metadata": {
      "needs_background": "light"
     },
     "output_type": "display_data"
    }
   ],
   "source": [
    "tree.plot_tree(clf, filled=True)"
   ]
  },
  {
   "cell_type": "code",
   "execution_count": 29,
   "id": "e26dd138",
   "metadata": {},
   "outputs": [
    {
     "data": {
      "text/plain": [
       "1.0"
      ]
     },
     "execution_count": 29,
     "metadata": {},
     "output_type": "execute_result"
    }
   ],
   "source": [
    "clf.score(X_train, y_train)"
   ]
  },
  {
   "cell_type": "code",
   "execution_count": 30,
   "id": "52d2a617",
   "metadata": {},
   "outputs": [
    {
     "data": {
      "text/plain": [
       "0.9777777777777777"
      ]
     },
     "execution_count": 30,
     "metadata": {},
     "output_type": "execute_result"
    }
   ],
   "source": [
    "clf.score(X_test, y_test)"
   ]
  },
  {
   "cell_type": "markdown",
   "id": "1f3bc279",
   "metadata": {},
   "source": [
    "min_samples_leaf is the minimum number of samples required to be at a leaf node. This parameter is similar to min_samples_splits, however, this describe the minimum number of samples of samples at the leafs, the base of the tree."
   ]
  },
  {
   "cell_type": "markdown",
   "id": "84f87553",
   "metadata": {},
   "source": [
    "Question 4: The problem here being particularly simple, redo a training/test division with\n",
    "5% of the data in training and 95% test. Calculate the rate of misclassified items on the test\n",
    "set. Vary (or better, perform a grid search with GridSearchCV) the values of the max_depth\n",
    "and min_samples_leaf parameters to measure their impact on this score."
   ]
  },
  {
   "cell_type": "markdown",
   "id": "c1a1ca72",
   "metadata": {},
   "source": [
    "We are building a model with 5% training data and 95% testing data "
   ]
  },
  {
   "cell_type": "code",
   "execution_count": 31,
   "id": "1cd3f266",
   "metadata": {},
   "outputs": [],
   "source": [
    "from sklearn.model_selection import train_test_split\n",
    "X_train, X_test, y_train, y_test = train_test_split(X, y, train_size=0.05, random_state=47)"
   ]
  },
  {
   "cell_type": "markdown",
   "id": "be1edac6",
   "metadata": {},
   "source": [
    "We can now build a decision tree on this data:"
   ]
  },
  {
   "cell_type": "code",
   "execution_count": 32,
   "id": "b9029f27",
   "metadata": {},
   "outputs": [
    {
     "data": {
      "text/html": [
       "<style>#sk-container-id-3 {color: black;}#sk-container-id-3 pre{padding: 0;}#sk-container-id-3 div.sk-toggleable {background-color: white;}#sk-container-id-3 label.sk-toggleable__label {cursor: pointer;display: block;width: 100%;margin-bottom: 0;padding: 0.3em;box-sizing: border-box;text-align: center;}#sk-container-id-3 label.sk-toggleable__label-arrow:before {content: \"▸\";float: left;margin-right: 0.25em;color: #696969;}#sk-container-id-3 label.sk-toggleable__label-arrow:hover:before {color: black;}#sk-container-id-3 div.sk-estimator:hover label.sk-toggleable__label-arrow:before {color: black;}#sk-container-id-3 div.sk-toggleable__content {max-height: 0;max-width: 0;overflow: hidden;text-align: left;background-color: #f0f8ff;}#sk-container-id-3 div.sk-toggleable__content pre {margin: 0.2em;color: black;border-radius: 0.25em;background-color: #f0f8ff;}#sk-container-id-3 input.sk-toggleable__control:checked~div.sk-toggleable__content {max-height: 200px;max-width: 100%;overflow: auto;}#sk-container-id-3 input.sk-toggleable__control:checked~label.sk-toggleable__label-arrow:before {content: \"▾\";}#sk-container-id-3 div.sk-estimator input.sk-toggleable__control:checked~label.sk-toggleable__label {background-color: #d4ebff;}#sk-container-id-3 div.sk-label input.sk-toggleable__control:checked~label.sk-toggleable__label {background-color: #d4ebff;}#sk-container-id-3 input.sk-hidden--visually {border: 0;clip: rect(1px 1px 1px 1px);clip: rect(1px, 1px, 1px, 1px);height: 1px;margin: -1px;overflow: hidden;padding: 0;position: absolute;width: 1px;}#sk-container-id-3 div.sk-estimator {font-family: monospace;background-color: #f0f8ff;border: 1px dotted black;border-radius: 0.25em;box-sizing: border-box;margin-bottom: 0.5em;}#sk-container-id-3 div.sk-estimator:hover {background-color: #d4ebff;}#sk-container-id-3 div.sk-parallel-item::after {content: \"\";width: 100%;border-bottom: 1px solid gray;flex-grow: 1;}#sk-container-id-3 div.sk-label:hover label.sk-toggleable__label {background-color: #d4ebff;}#sk-container-id-3 div.sk-serial::before {content: \"\";position: absolute;border-left: 1px solid gray;box-sizing: border-box;top: 0;bottom: 0;left: 50%;z-index: 0;}#sk-container-id-3 div.sk-serial {display: flex;flex-direction: column;align-items: center;background-color: white;padding-right: 0.2em;padding-left: 0.2em;position: relative;}#sk-container-id-3 div.sk-item {position: relative;z-index: 1;}#sk-container-id-3 div.sk-parallel {display: flex;align-items: stretch;justify-content: center;background-color: white;position: relative;}#sk-container-id-3 div.sk-item::before, #sk-container-id-3 div.sk-parallel-item::before {content: \"\";position: absolute;border-left: 1px solid gray;box-sizing: border-box;top: 0;bottom: 0;left: 50%;z-index: -1;}#sk-container-id-3 div.sk-parallel-item {display: flex;flex-direction: column;z-index: 1;position: relative;background-color: white;}#sk-container-id-3 div.sk-parallel-item:first-child::after {align-self: flex-end;width: 50%;}#sk-container-id-3 div.sk-parallel-item:last-child::after {align-self: flex-start;width: 50%;}#sk-container-id-3 div.sk-parallel-item:only-child::after {width: 0;}#sk-container-id-3 div.sk-dashed-wrapped {border: 1px dashed gray;margin: 0 0.4em 0.5em 0.4em;box-sizing: border-box;padding-bottom: 0.4em;background-color: white;}#sk-container-id-3 div.sk-label label {font-family: monospace;font-weight: bold;display: inline-block;line-height: 1.2em;}#sk-container-id-3 div.sk-label-container {text-align: center;}#sk-container-id-3 div.sk-container {/* jupyter's `normalize.less` sets `[hidden] { display: none; }` but bootstrap.min.css set `[hidden] { display: none !important; }` so we also need the `!important` here to be able to override the default hidden behavior on the sphinx rendered scikit-learn.org. See: https://github.com/scikit-learn/scikit-learn/issues/21755 */display: inline-block !important;position: relative;}#sk-container-id-3 div.sk-text-repr-fallback {display: none;}</style><div id=\"sk-container-id-3\" class=\"sk-top-container\"><div class=\"sk-text-repr-fallback\"><pre>DecisionTreeClassifier()</pre><b>In a Jupyter environment, please rerun this cell to show the HTML representation or trust the notebook. <br />On GitHub, the HTML representation is unable to render, please try loading this page with nbviewer.org.</b></div><div class=\"sk-container\" hidden><div class=\"sk-item\"><div class=\"sk-estimator sk-toggleable\"><input class=\"sk-toggleable__control sk-hidden--visually\" id=\"sk-estimator-id-3\" type=\"checkbox\" checked><label for=\"sk-estimator-id-3\" class=\"sk-toggleable__label sk-toggleable__label-arrow\">DecisionTreeClassifier</label><div class=\"sk-toggleable__content\"><pre>DecisionTreeClassifier()</pre></div></div></div></div></div>"
      ],
      "text/plain": [
       "DecisionTreeClassifier()"
      ]
     },
     "execution_count": 32,
     "metadata": {},
     "output_type": "execute_result"
    }
   ],
   "source": [
    "from sklearn import tree\n",
    "clf = tree.DecisionTreeClassifier()\n",
    "clf.fit(X_train, y_train)"
   ]
  },
  {
   "cell_type": "code",
   "execution_count": 33,
   "id": "0c34b1b2",
   "metadata": {},
   "outputs": [
    {
     "data": {
      "text/plain": [
       "[Text(0.4, 0.8333333333333334, 'x[3] <= 0.8\\ngini = 0.653\\nsamples = 7\\nvalue = [2, 3, 2]'),\n",
       " Text(0.2, 0.5, 'gini = 0.0\\nsamples = 2\\nvalue = [2, 0, 0]'),\n",
       " Text(0.6, 0.5, 'x[2] <= 5.25\\ngini = 0.48\\nsamples = 5\\nvalue = [0, 3, 2]'),\n",
       " Text(0.4, 0.16666666666666666, 'gini = 0.0\\nsamples = 3\\nvalue = [0, 3, 0]'),\n",
       " Text(0.8, 0.16666666666666666, 'gini = 0.0\\nsamples = 2\\nvalue = [0, 0, 2]')]"
      ]
     },
     "execution_count": 33,
     "metadata": {},
     "output_type": "execute_result"
    },
    {
     "data": {
      "image/png": "[encoded data removed]",
      "text/plain": [
       "<Figure size 432x288 with 1 Axes>"
      ]
     },
     "metadata": {
      "needs_background": "light"
     },
     "output_type": "display_data"
    }
   ],
   "source": [
    "tree.plot_tree(clf, filled=True)"
   ]
  },
  {
   "cell_type": "code",
   "execution_count": 34,
   "id": "ae9a4842",
   "metadata": {},
   "outputs": [
    {
     "data": {
      "text/plain": [
       "array([0, 0, 1, 0, 0, 2, 1, 2, 1, 0, 2, 0, 1, 2, 1, 2, 1, 0, 0, 0, 2, 1,\n",
       "       1, 1, 2, 2, 1, 2, 0, 0, 2, 1, 2, 0, 1, 0, 0, 0, 1, 0, 1, 0, 2, 0,\n",
       "       2, 0, 2, 0, 2, 1, 0, 1, 2, 1, 0, 0, 1, 2, 2, 0, 0, 0, 1, 1, 0, 0,\n",
       "       2, 2, 1, 0, 1, 2, 2, 2, 0, 1, 0, 1, 0, 1, 2, 2, 1, 2, 2, 1, 2, 1,\n",
       "       1, 0, 1, 0, 1, 0, 2, 1, 1, 1, 0, 2, 1, 1, 1, 1, 1, 0, 1, 0, 0, 0,\n",
       "       0, 0, 1, 1, 1, 1, 0, 1, 1, 0, 0, 1, 1, 1, 1, 1, 0, 1, 1, 0, 1, 1,\n",
       "       1, 1, 1, 1, 1, 1, 1, 1, 1, 0, 1])"
      ]
     },
     "execution_count": 34,
     "metadata": {},
     "output_type": "execute_result"
    }
   ],
   "source": [
    "clf.predict(X_test)"
   ]
  },
  {
   "cell_type": "code",
   "execution_count": 35,
   "id": "c910b407",
   "metadata": {},
   "outputs": [
    {
     "data": {
      "text/plain": [
       "0.8741258741258742"
      ]
     },
     "execution_count": 35,
     "metadata": {},
     "output_type": "execute_result"
    }
   ],
   "source": [
    "clf.score(X_test, y_test)"
   ]
  },
  {
   "cell_type": "code",
   "execution_count": 39,
   "id": "c62d8b3c",
   "metadata": {},
   "outputs": [],
   "source": [
    "from sklearn.model_selection import GridSearchCV\n",
    "from sklearn.model_selection import KFold\n",
    "from sklearn.model_selection import cross_val_score\n",
    "from sklearn.metrics import accuracy_score"
   ]
  },
  {
   "cell_type": "code",
   "execution_count": 40,
   "id": "bea4492f",
   "metadata": {},
   "outputs": [],
   "source": [
    "from sklearn.metrics import accuracy_score\n",
    "def scores(dt):\n",
    "    y_train_pred = dt.predict(X_train)\n",
    "    y_test_pred = dt.predict(X_test)\n",
    "    train_score = accuracy_score(y_train, y_train_pred)\n",
    "    test_score=  accuracy_score(y_test, y_test_pred)\n",
    "    print(\"train_score\", train_score)\n",
    "    print(\"test_score\", test_score)"
   ]
  },
  {
   "cell_type": "code",
   "execution_count": 41,
   "id": "f353eb0b",
   "metadata": {},
   "outputs": [],
   "source": [
    "kfold = KFold(n_splits = 5, random_state = 47, shuffle = True)\n"
   ]
  },
  {
   "cell_type": "code",
   "execution_count": 42,
   "id": "dba6ff0c",
   "metadata": {},
   "outputs": [],
   "source": [
    "# Create the parameter grid based on the results of random search\n",
    "params = {\n",
    "    'max_depth': [2,3, 5, 16, 20],\n",
    "    'min_samples_leaf': [5, 10, 20, 50, 100],\n",
    "    'criterion': [\"gini\", \"entropy\"]\n",
    "    \n",
    "}"
   ]
  },
  {
   "cell_type": "code",
   "execution_count": 43,
   "id": "38d6e366",
   "metadata": {},
   "outputs": [],
   "source": [
    "dt = tree.DecisionTreeClassifier()"
   ]
  },
  {
   "cell_type": "code",
   "execution_count": 44,
   "id": "b44a047d",
   "metadata": {},
   "outputs": [],
   "source": [
    "#Instantiate the grid search model \n",
    "grid_search = GridSearchCV( estimator = dt,\n",
    "                          param_grid = params,\n",
    "                          cv = kfold, n_jobs = 1, verbose = 1, scoring = \"accuracy\")"
   ]
  },
  {
   "cell_type": "code",
   "execution_count": 45,
   "id": "e8c38988",
   "metadata": {},
   "outputs": [
    {
     "name": "stdout",
     "output_type": "stream",
     "text": [
      "Fitting 5 folds for each of 50 candidates, totalling 250 fits\n"
     ]
    },
    {
     "data": {
      "text/html": [
       "<style>#sk-container-id-4 {color: black;}#sk-container-id-4 pre{padding: 0;}#sk-container-id-4 div.sk-toggleable {background-color: white;}#sk-container-id-4 label.sk-toggleable__label {cursor: pointer;display: block;width: 100%;margin-bottom: 0;padding: 0.3em;box-sizing: border-box;text-align: center;}#sk-container-id-4 label.sk-toggleable__label-arrow:before {content: \"▸\";float: left;margin-right: 0.25em;color: #696969;}#sk-container-id-4 label.sk-toggleable__label-arrow:hover:before {color: black;}#sk-container-id-4 div.sk-estimator:hover label.sk-toggleable__label-arrow:before {color: black;}#sk-container-id-4 div.sk-toggleable__content {max-height: 0;max-width: 0;overflow: hidden;text-align: left;background-color: #f0f8ff;}#sk-container-id-4 div.sk-toggleable__content pre {margin: 0.2em;color: black;border-radius: 0.25em;background-color: #f0f8ff;}#sk-container-id-4 input.sk-toggleable__control:checked~div.sk-toggleable__content {max-height: 200px;max-width: 100%;overflow: auto;}#sk-container-id-4 input.sk-toggleable__control:checked~label.sk-toggleable__label-arrow:before {content: \"▾\";}#sk-container-id-4 div.sk-estimator input.sk-toggleable__control:checked~label.sk-toggleable__label {background-color: #d4ebff;}#sk-container-id-4 div.sk-label input.sk-toggleable__control:checked~label.sk-toggleable__label {background-color: #d4ebff;}#sk-container-id-4 input.sk-hidden--visually {border: 0;clip: rect(1px 1px 1px 1px);clip: rect(1px, 1px, 1px, 1px);height: 1px;margin: -1px;overflow: hidden;padding: 0;position: absolute;width: 1px;}#sk-container-id-4 div.sk-estimator {font-family: monospace;background-color: #f0f8ff;border: 1px dotted black;border-radius: 0.25em;box-sizing: border-box;margin-bottom: 0.5em;}#sk-container-id-4 div.sk-estimator:hover {background-color: #d4ebff;}#sk-container-id-4 div.sk-parallel-item::after {content: \"\";width: 100%;border-bottom: 1px solid gray;flex-grow: 1;}#sk-container-id-4 div.sk-label:hover label.sk-toggleable__label {background-color: #d4ebff;}#sk-container-id-4 div.sk-serial::before {content: \"\";position: absolute;border-left: 1px solid gray;box-sizing: border-box;top: 0;bottom: 0;left: 50%;z-index: 0;}#sk-container-id-4 div.sk-serial {display: flex;flex-direction: column;align-items: center;background-color: white;padding-right: 0.2em;padding-left: 0.2em;position: relative;}#sk-container-id-4 div.sk-item {position: relative;z-index: 1;}#sk-container-id-4 div.sk-parallel {display: flex;align-items: stretch;justify-content: center;background-color: white;position: relative;}#sk-container-id-4 div.sk-item::before, #sk-container-id-4 div.sk-parallel-item::before {content: \"\";position: absolute;border-left: 1px solid gray;box-sizing: border-box;top: 0;bottom: 0;left: 50%;z-index: -1;}#sk-container-id-4 div.sk-parallel-item {display: flex;flex-direction: column;z-index: 1;position: relative;background-color: white;}#sk-container-id-4 div.sk-parallel-item:first-child::after {align-self: flex-end;width: 50%;}#sk-container-id-4 div.sk-parallel-item:last-child::after {align-self: flex-start;width: 50%;}#sk-container-id-4 div.sk-parallel-item:only-child::after {width: 0;}#sk-container-id-4 div.sk-dashed-wrapped {border: 1px dashed gray;margin: 0 0.4em 0.5em 0.4em;box-sizing: border-box;padding-bottom: 0.4em;background-color: white;}#sk-container-id-4 div.sk-label label {font-family: monospace;font-weight: bold;display: inline-block;line-height: 1.2em;}#sk-container-id-4 div.sk-label-container {text-align: center;}#sk-container-id-4 div.sk-container {/* jupyter's `normalize.less` sets `[hidden] { display: none; }` but bootstrap.min.css set `[hidden] { display: none !important; }` so we also need the `!important` here to be able to override the default hidden behavior on the sphinx rendered scikit-learn.org. See: https://github.com/scikit-learn/scikit-learn/issues/21755 */display: inline-block !important;position: relative;}#sk-container-id-4 div.sk-text-repr-fallback {display: none;}</style><div id=\"sk-container-id-4\" class=\"sk-top-container\"><div class=\"sk-text-repr-fallback\"><pre>GridSearchCV(cv=KFold(n_splits=5, random_state=47, shuffle=True),\n",
       "             estimator=DecisionTreeClassifier(), n_jobs=1,\n",
       "             param_grid={&#x27;criterion&#x27;: [&#x27;gini&#x27;, &#x27;entropy&#x27;],\n",
       "                         &#x27;max_depth&#x27;: [2, 3, 5, 16, 20],\n",
       "                         &#x27;min_samples_leaf&#x27;: [5, 10, 20, 50, 100]},\n",
       "             scoring=&#x27;accuracy&#x27;, verbose=1)</pre><b>In a Jupyter environment, please rerun this cell to show the HTML representation or trust the notebook. <br />On GitHub, the HTML representation is unable to render, please try loading this page with nbviewer.org.</b></div><div class=\"sk-container\" hidden><div class=\"sk-item sk-dashed-wrapped\"><div class=\"sk-label-container\"><div class=\"sk-label sk-toggleable\"><input class=\"sk-toggleable__control sk-hidden--visually\" id=\"sk-estimator-id-4\" type=\"checkbox\" ><label for=\"sk-estimator-id-4\" class=\"sk-toggleable__label sk-toggleable__label-arrow\">GridSearchCV</label><div class=\"sk-toggleable__content\"><pre>GridSearchCV(cv=KFold(n_splits=5, random_state=47, shuffle=True),\n",
       "             estimator=DecisionTreeClassifier(), n_jobs=1,\n",
       "             param_grid={&#x27;criterion&#x27;: [&#x27;gini&#x27;, &#x27;entropy&#x27;],\n",
       "                         &#x27;max_depth&#x27;: [2, 3, 5, 16, 20],\n",
       "                         &#x27;min_samples_leaf&#x27;: [5, 10, 20, 50, 100]},\n",
       "             scoring=&#x27;accuracy&#x27;, verbose=1)</pre></div></div></div><div class=\"sk-parallel\"><div class=\"sk-parallel-item\"><div class=\"sk-item\"><div class=\"sk-label-container\"><div class=\"sk-label sk-toggleable\"><input class=\"sk-toggleable__control sk-hidden--visually\" id=\"sk-estimator-id-5\" type=\"checkbox\" ><label for=\"sk-estimator-id-5\" class=\"sk-toggleable__label sk-toggleable__label-arrow\">estimator: DecisionTreeClassifier</label><div class=\"sk-toggleable__content\"><pre>DecisionTreeClassifier()</pre></div></div></div><div class=\"sk-serial\"><div class=\"sk-item\"><div class=\"sk-estimator sk-toggleable\"><input class=\"sk-toggleable__control sk-hidden--visually\" id=\"sk-estimator-id-6\" type=\"checkbox\" ><label for=\"sk-estimator-id-6\" class=\"sk-toggleable__label sk-toggleable__label-arrow\">DecisionTreeClassifier</label><div class=\"sk-toggleable__content\"><pre>DecisionTreeClassifier()</pre></div></div></div></div></div></div></div></div></div></div>"
      ],
      "text/plain": [
       "GridSearchCV(cv=KFold(n_splits=5, random_state=47, shuffle=True),\n",
       "             estimator=DecisionTreeClassifier(), n_jobs=1,\n",
       "             param_grid={'criterion': ['gini', 'entropy'],\n",
       "                         'max_depth': [2, 3, 5, 16, 20],\n",
       "                         'min_samples_leaf': [5, 10, 20, 50, 100]},\n",
       "             scoring='accuracy', verbose=1)"
      ]
     },
     "execution_count": 45,
     "metadata": {},
     "output_type": "execute_result"
    }
   ],
   "source": [
    "grid_search.fit(X_train, y_train)"
   ]
  },
  {
   "cell_type": "code",
   "execution_count": 46,
   "id": "4039219e",
   "metadata": {},
   "outputs": [
    {
     "name": "stdout",
     "output_type": "stream",
     "text": [
      "    mean_fit_time  std_fit_time  mean_score_time  std_score_time  \\\n",
      "0        0.000799      0.001599         0.001599        0.001958   \n",
      "1        0.001599      0.001958         0.000016        0.000031   \n",
      "2        0.001599      0.003198         0.000000        0.000000   \n",
      "3        0.000000      0.000000         0.001302        0.002604   \n",
      "4        0.000000      0.000000         0.003200        0.003919   \n",
      "5        0.000000      0.000000         0.001598        0.003197   \n",
      "6        0.000000      0.000000         0.001599        0.003197   \n",
      "7        0.000000      0.000000         0.001605        0.003210   \n",
      "8        0.001599      0.003197         0.000000        0.000000   \n",
      "9        0.000000      0.000000         0.000000        0.000000   \n",
      "10       0.000000      0.000000         0.000000        0.000000   \n",
      "11       0.000000      0.000000         0.001599        0.003197   \n",
      "12       0.001599      0.003199         0.000000        0.000000   \n",
      "13       0.001599      0.003198         0.000000        0.000000   \n",
      "14       0.000000      0.000000         0.000000        0.000000   \n",
      "15       0.000000      0.000000         0.001606        0.003212   \n",
      "16       0.000000      0.000000         0.000000        0.000000   \n",
      "17       0.001606      0.003212         0.000000        0.000000   \n",
      "18       0.000000      0.000000         0.000000        0.000000   \n",
      "19       0.000000      0.000000         0.000000        0.000000   \n",
      "20       0.001599      0.003198         0.000000        0.000000   \n",
      "21       0.000000      0.000000         0.000000        0.000000   \n",
      "22       0.001598      0.003197         0.000000        0.000000   \n",
      "23       0.000000      0.000000         0.000000        0.000000   \n",
      "24       0.000000      0.000000         0.001599        0.003198   \n",
      "25       0.001599      0.003199         0.000000        0.000000   \n",
      "26       0.000000      0.000000         0.000000        0.000000   \n",
      "27       0.000000      0.000000         0.000000        0.000000   \n",
      "28       0.000000      0.000000         0.001599        0.003198   \n",
      "29       0.000000      0.000000         0.001599        0.003198   \n",
      "30       0.001593      0.003186         0.000000        0.000000   \n",
      "31       0.000000      0.000000         0.001914        0.003117   \n",
      "32       0.000000      0.000000         0.000000        0.000000   \n",
      "33       0.001606      0.003213         0.000000        0.000000   \n",
      "34       0.001598      0.003196         0.000000        0.000000   \n",
      "35       0.001600      0.003200         0.000000        0.000000   \n",
      "36       0.000000      0.000000         0.000000        0.000000   \n",
      "37       0.001595      0.003190         0.000000        0.000000   \n",
      "38       0.001602      0.003205         0.000000        0.000000   \n",
      "39       0.000000      0.000000         0.001599        0.003198   \n",
      "40       0.000000      0.000000         0.000000        0.000000   \n",
      "41       0.000000      0.000000         0.001599        0.003198   \n",
      "42       0.000000      0.000000         0.001599        0.003198   \n",
      "43       0.001599      0.003198         0.000000        0.000000   \n",
      "44       0.000000      0.000000         0.000000        0.000000   \n",
      "45       0.001600      0.003199         0.000000        0.000000   \n",
      "46       0.000000      0.000000         0.000000        0.000000   \n",
      "47       0.000000      0.000000         0.001615        0.002194   \n",
      "48       0.000000      0.000000         0.000000        0.000000   \n",
      "49       0.000000      0.000000         0.001607        0.003214   \n",
      "\n",
      "   param_criterion param_max_depth param_min_samples_leaf  \\\n",
      "0             gini               2                      5   \n",
      "1             gini               2                     10   \n",
      "2             gini               2                     20   \n",
      "3             gini               2                     50   \n",
      "4             gini               2                    100   \n",
      "5             gini               3                      5   \n",
      "6             gini               3                     10   \n",
      "7             gini               3                     20   \n",
      "8             gini               3                     50   \n",
      "9             gini               3                    100   \n",
      "10            gini               5                      5   \n",
      "11            gini               5                     10   \n",
      "12            gini               5                     20   \n",
      "13            gini               5                     50   \n",
      "14            gini               5                    100   \n",
      "15            gini              16                      5   \n",
      "16            gini              16                     10   \n",
      "17            gini              16                     20   \n",
      "18            gini              16                     50   \n",
      "19            gini              16                    100   \n",
      "20            gini              20                      5   \n",
      "21            gini              20                     10   \n",
      "22            gini              20                     20   \n",
      "23            gini              20                     50   \n",
      "24            gini              20                    100   \n",
      "25         entropy               2                      5   \n",
      "26         entropy               2                     10   \n",
      "27         entropy               2                     20   \n",
      "28         entropy               2                     50   \n",
      "29         entropy               2                    100   \n",
      "30         entropy               3                      5   \n",
      "31         entropy               3                     10   \n",
      "32         entropy               3                     20   \n",
      "33         entropy               3                     50   \n",
      "34         entropy               3                    100   \n",
      "35         entropy               5                      5   \n",
      "36         entropy               5                     10   \n",
      "37         entropy               5                     20   \n",
      "38         entropy               5                     50   \n",
      "39         entropy               5                    100   \n",
      "40         entropy              16                      5   \n",
      "41         entropy              16                     10   \n",
      "42         entropy              16                     20   \n",
      "43         entropy              16                     50   \n",
      "44         entropy              16                    100   \n",
      "45         entropy              20                      5   \n",
      "46         entropy              20                     10   \n",
      "47         entropy              20                     20   \n",
      "48         entropy              20                     50   \n",
      "49         entropy              20                    100   \n",
      "\n",
      "                                               params  split0_test_score  \\\n",
      "0   {'criterion': 'gini', 'max_depth': 2, 'min_sam...                0.0   \n",
      "1   {'criterion': 'gini', 'max_depth': 2, 'min_sam...                0.0   \n",
      "2   {'criterion': 'gini', 'max_depth': 2, 'min_sam...                0.0   \n",
      "3   {'criterion': 'gini', 'max_depth': 2, 'min_sam...                0.0   \n",
      "4   {'criterion': 'gini', 'max_depth': 2, 'min_sam...                0.0   \n",
      "5   {'criterion': 'gini', 'max_depth': 3, 'min_sam...                0.0   \n",
      "6   {'criterion': 'gini', 'max_depth': 3, 'min_sam...                0.0   \n",
      "7   {'criterion': 'gini', 'max_depth': 3, 'min_sam...                0.0   \n",
      "8   {'criterion': 'gini', 'max_depth': 3, 'min_sam...                0.0   \n",
      "9   {'criterion': 'gini', 'max_depth': 3, 'min_sam...                0.0   \n",
      "10  {'criterion': 'gini', 'max_depth': 5, 'min_sam...                0.0   \n",
      "11  {'criterion': 'gini', 'max_depth': 5, 'min_sam...                0.0   \n",
      "12  {'criterion': 'gini', 'max_depth': 5, 'min_sam...                0.0   \n",
      "13  {'criterion': 'gini', 'max_depth': 5, 'min_sam...                0.0   \n",
      "14  {'criterion': 'gini', 'max_depth': 5, 'min_sam...                0.0   \n",
      "15  {'criterion': 'gini', 'max_depth': 16, 'min_sa...                0.0   \n",
      "16  {'criterion': 'gini', 'max_depth': 16, 'min_sa...                0.0   \n",
      "17  {'criterion': 'gini', 'max_depth': 16, 'min_sa...                0.0   \n",
      "18  {'criterion': 'gini', 'max_depth': 16, 'min_sa...                0.0   \n",
      "19  {'criterion': 'gini', 'max_depth': 16, 'min_sa...                0.0   \n",
      "20  {'criterion': 'gini', 'max_depth': 20, 'min_sa...                0.0   \n",
      "21  {'criterion': 'gini', 'max_depth': 20, 'min_sa...                0.0   \n",
      "22  {'criterion': 'gini', 'max_depth': 20, 'min_sa...                0.0   \n",
      "23  {'criterion': 'gini', 'max_depth': 20, 'min_sa...                0.0   \n",
      "24  {'criterion': 'gini', 'max_depth': 20, 'min_sa...                0.0   \n",
      "25  {'criterion': 'entropy', 'max_depth': 2, 'min_...                0.0   \n",
      "26  {'criterion': 'entropy', 'max_depth': 2, 'min_...                0.0   \n",
      "27  {'criterion': 'entropy', 'max_depth': 2, 'min_...                0.0   \n",
      "28  {'criterion': 'entropy', 'max_depth': 2, 'min_...                0.0   \n",
      "29  {'criterion': 'entropy', 'max_depth': 2, 'min_...                0.0   \n",
      "30  {'criterion': 'entropy', 'max_depth': 3, 'min_...                0.0   \n",
      "31  {'criterion': 'entropy', 'max_depth': 3, 'min_...                0.0   \n",
      "32  {'criterion': 'entropy', 'max_depth': 3, 'min_...                0.0   \n",
      "33  {'criterion': 'entropy', 'max_depth': 3, 'min_...                0.0   \n",
      "34  {'criterion': 'entropy', 'max_depth': 3, 'min_...                0.0   \n",
      "35  {'criterion': 'entropy', 'max_depth': 5, 'min_...                0.0   \n",
      "36  {'criterion': 'entropy', 'max_depth': 5, 'min_...                0.0   \n",
      "37  {'criterion': 'entropy', 'max_depth': 5, 'min_...                0.0   \n",
      "38  {'criterion': 'entropy', 'max_depth': 5, 'min_...                0.0   \n",
      "39  {'criterion': 'entropy', 'max_depth': 5, 'min_...                0.0   \n",
      "40  {'criterion': 'entropy', 'max_depth': 16, 'min...                0.0   \n",
      "41  {'criterion': 'entropy', 'max_depth': 16, 'min...                0.0   \n",
      "42  {'criterion': 'entropy', 'max_depth': 16, 'min...                0.0   \n",
      "43  {'criterion': 'entropy', 'max_depth': 16, 'min...                0.0   \n",
      "44  {'criterion': 'entropy', 'max_depth': 16, 'min...                0.0   \n",
      "45  {'criterion': 'entropy', 'max_depth': 20, 'min...                0.0   \n",
      "46  {'criterion': 'entropy', 'max_depth': 20, 'min...                0.0   \n",
      "47  {'criterion': 'entropy', 'max_depth': 20, 'min...                0.0   \n",
      "48  {'criterion': 'entropy', 'max_depth': 20, 'min...                0.0   \n",
      "49  {'criterion': 'entropy', 'max_depth': 20, 'min...                0.0   \n",
      "\n",
      "    split1_test_score  split2_test_score  split3_test_score  \\\n",
      "0                 0.5                0.0                0.0   \n",
      "1                 0.5                0.0                0.0   \n",
      "2                 0.5                0.0                0.0   \n",
      "3                 0.5                0.0                0.0   \n",
      "4                 0.5                0.0                0.0   \n",
      "5                 0.5                0.0                0.0   \n",
      "6                 0.5                0.0                0.0   \n",
      "7                 0.5                0.0                0.0   \n",
      "8                 0.5                0.0                0.0   \n",
      "9                 0.5                0.0                0.0   \n",
      "10                0.5                0.0                0.0   \n",
      "11                0.5                0.0                0.0   \n",
      "12                0.5                0.0                0.0   \n",
      "13                0.5                0.0                0.0   \n",
      "14                0.5                0.0                0.0   \n",
      "15                0.5                0.0                0.0   \n",
      "16                0.5                0.0                0.0   \n",
      "17                0.5                0.0                0.0   \n",
      "18                0.5                0.0                0.0   \n",
      "19                0.5                0.0                0.0   \n",
      "20                0.5                0.0                0.0   \n",
      "21                0.5                0.0                0.0   \n",
      "22                0.5                0.0                0.0   \n",
      "23                0.5                0.0                0.0   \n",
      "24                0.5                0.0                0.0   \n",
      "25                0.5                0.0                0.0   \n",
      "26                0.5                0.0                0.0   \n",
      "27                0.5                0.0                0.0   \n",
      "28                0.5                0.0                0.0   \n",
      "29                0.5                0.0                0.0   \n",
      "30                0.5                0.0                0.0   \n",
      "31                0.5                0.0                0.0   \n",
      "32                0.5                0.0                0.0   \n",
      "33                0.5                0.0                0.0   \n",
      "34                0.5                0.0                0.0   \n",
      "35                0.5                0.0                0.0   \n",
      "36                0.5                0.0                0.0   \n",
      "37                0.5                0.0                0.0   \n",
      "38                0.5                0.0                0.0   \n",
      "39                0.5                0.0                0.0   \n",
      "40                0.5                0.0                0.0   \n",
      "41                0.5                0.0                0.0   \n",
      "42                0.5                0.0                0.0   \n",
      "43                0.5                0.0                0.0   \n",
      "44                0.5                0.0                0.0   \n",
      "45                0.5                0.0                0.0   \n",
      "46                0.5                0.0                0.0   \n",
      "47                0.5                0.0                0.0   \n",
      "48                0.5                0.0                0.0   \n",
      "49                0.5                0.0                0.0   \n",
      "\n",
      "    split4_test_score  mean_test_score  std_test_score  rank_test_score  \n",
      "0                 0.0              0.1             0.2                1  \n",
      "1                 0.0              0.1             0.2                1  \n",
      "2                 0.0              0.1             0.2                1  \n",
      "3                 0.0              0.1             0.2                1  \n",
      "4                 0.0              0.1             0.2                1  \n",
      "5                 0.0              0.1             0.2                1  \n",
      "6                 0.0              0.1             0.2                1  \n",
      "7                 0.0              0.1             0.2                1  \n",
      "8                 0.0              0.1             0.2                1  \n",
      "9                 0.0              0.1             0.2                1  \n",
      "10                0.0              0.1             0.2                1  \n",
      "11                0.0              0.1             0.2                1  \n",
      "12                0.0              0.1             0.2                1  \n",
      "13                0.0              0.1             0.2                1  \n",
      "14                0.0              0.1             0.2                1  \n",
      "15                0.0              0.1             0.2                1  \n",
      "16                0.0              0.1             0.2                1  \n",
      "17                0.0              0.1             0.2                1  \n",
      "18                0.0              0.1             0.2                1  \n",
      "19                0.0              0.1             0.2                1  \n",
      "20                0.0              0.1             0.2                1  \n",
      "21                0.0              0.1             0.2                1  \n",
      "22                0.0              0.1             0.2                1  \n",
      "23                0.0              0.1             0.2                1  \n",
      "24                0.0              0.1             0.2                1  \n",
      "25                0.0              0.1             0.2                1  \n",
      "26                0.0              0.1             0.2                1  \n",
      "27                0.0              0.1             0.2                1  \n",
      "28                0.0              0.1             0.2                1  \n",
      "29                0.0              0.1             0.2                1  \n",
      "30                0.0              0.1             0.2                1  \n",
      "31                0.0              0.1             0.2                1  \n",
      "32                0.0              0.1             0.2                1  \n",
      "33                0.0              0.1             0.2                1  \n",
      "34                0.0              0.1             0.2                1  \n",
      "35                0.0              0.1             0.2                1  \n",
      "36                0.0              0.1             0.2                1  \n",
      "37                0.0              0.1             0.2                1  \n",
      "38                0.0              0.1             0.2                1  \n",
      "39                0.0              0.1             0.2                1  \n",
      "40                0.0              0.1             0.2                1  \n",
      "41                0.0              0.1             0.2                1  \n",
      "42                0.0              0.1             0.2                1  \n",
      "43                0.0              0.1             0.2                1  \n",
      "44                0.0              0.1             0.2                1  \n",
      "45                0.0              0.1             0.2                1  \n",
      "46                0.0              0.1             0.2                1  \n",
      "47                0.0              0.1             0.2                1  \n",
      "48                0.0              0.1             0.2                1  \n",
      "49                0.0              0.1             0.2                1  \n"
     ]
    }
   ],
   "source": [
    "score_df = pd.DataFrame(grid_search.cv_results_)\n",
    "print(score_df)"
   ]
  },
  {
   "cell_type": "code",
   "execution_count": 47,
   "id": "276273b1",
   "metadata": {},
   "outputs": [
    {
     "data": {
      "text/html": [
       "<style>#sk-container-id-5 {color: black;}#sk-container-id-5 pre{padding: 0;}#sk-container-id-5 div.sk-toggleable {background-color: white;}#sk-container-id-5 label.sk-toggleable__label {cursor: pointer;display: block;width: 100%;margin-bottom: 0;padding: 0.3em;box-sizing: border-box;text-align: center;}#sk-container-id-5 label.sk-toggleable__label-arrow:before {content: \"▸\";float: left;margin-right: 0.25em;color: #696969;}#sk-container-id-5 label.sk-toggleable__label-arrow:hover:before {color: black;}#sk-container-id-5 div.sk-estimator:hover label.sk-toggleable__label-arrow:before {color: black;}#sk-container-id-5 div.sk-toggleable__content {max-height: 0;max-width: 0;overflow: hidden;text-align: left;background-color: #f0f8ff;}#sk-container-id-5 div.sk-toggleable__content pre {margin: 0.2em;color: black;border-radius: 0.25em;background-color: #f0f8ff;}#sk-container-id-5 input.sk-toggleable__control:checked~div.sk-toggleable__content {max-height: 200px;max-width: 100%;overflow: auto;}#sk-container-id-5 input.sk-toggleable__control:checked~label.sk-toggleable__label-arrow:before {content: \"▾\";}#sk-container-id-5 div.sk-estimator input.sk-toggleable__control:checked~label.sk-toggleable__label {background-color: #d4ebff;}#sk-container-id-5 div.sk-label input.sk-toggleable__control:checked~label.sk-toggleable__label {background-color: #d4ebff;}#sk-container-id-5 input.sk-hidden--visually {border: 0;clip: rect(1px 1px 1px 1px);clip: rect(1px, 1px, 1px, 1px);height: 1px;margin: -1px;overflow: hidden;padding: 0;position: absolute;width: 1px;}#sk-container-id-5 div.sk-estimator {font-family: monospace;background-color: #f0f8ff;border: 1px dotted black;border-radius: 0.25em;box-sizing: border-box;margin-bottom: 0.5em;}#sk-container-id-5 div.sk-estimator:hover {background-color: #d4ebff;}#sk-container-id-5 div.sk-parallel-item::after {content: \"\";width: 100%;border-bottom: 1px solid gray;flex-grow: 1;}#sk-container-id-5 div.sk-label:hover label.sk-toggleable__label {background-color: #d4ebff;}#sk-container-id-5 div.sk-serial::before {content: \"\";position: absolute;border-left: 1px solid gray;box-sizing: border-box;top: 0;bottom: 0;left: 50%;z-index: 0;}#sk-container-id-5 div.sk-serial {display: flex;flex-direction: column;align-items: center;background-color: white;padding-right: 0.2em;padding-left: 0.2em;position: relative;}#sk-container-id-5 div.sk-item {position: relative;z-index: 1;}#sk-container-id-5 div.sk-parallel {display: flex;align-items: stretch;justify-content: center;background-color: white;position: relative;}#sk-container-id-5 div.sk-item::before, #sk-container-id-5 div.sk-parallel-item::before {content: \"\";position: absolute;border-left: 1px solid gray;box-sizing: border-box;top: 0;bottom: 0;left: 50%;z-index: -1;}#sk-container-id-5 div.sk-parallel-item {display: flex;flex-direction: column;z-index: 1;position: relative;background-color: white;}#sk-container-id-5 div.sk-parallel-item:first-child::after {align-self: flex-end;width: 50%;}#sk-container-id-5 div.sk-parallel-item:last-child::after {align-self: flex-start;width: 50%;}#sk-container-id-5 div.sk-parallel-item:only-child::after {width: 0;}#sk-container-id-5 div.sk-dashed-wrapped {border: 1px dashed gray;margin: 0 0.4em 0.5em 0.4em;box-sizing: border-box;padding-bottom: 0.4em;background-color: white;}#sk-container-id-5 div.sk-label label {font-family: monospace;font-weight: bold;display: inline-block;line-height: 1.2em;}#sk-container-id-5 div.sk-label-container {text-align: center;}#sk-container-id-5 div.sk-container {/* jupyter's `normalize.less` sets `[hidden] { display: none; }` but bootstrap.min.css set `[hidden] { display: none !important; }` so we also need the `!important` here to be able to override the default hidden behavior on the sphinx rendered scikit-learn.org. See: https://github.com/scikit-learn/scikit-learn/issues/21755 */display: inline-block !important;position: relative;}#sk-container-id-5 div.sk-text-repr-fallback {display: none;}</style><div id=\"sk-container-id-5\" class=\"sk-top-container\"><div class=\"sk-text-repr-fallback\"><pre>DecisionTreeClassifier(max_depth=2, min_samples_leaf=5)</pre><b>In a Jupyter environment, please rerun this cell to show the HTML representation or trust the notebook. <br />On GitHub, the HTML representation is unable to render, please try loading this page with nbviewer.org.</b></div><div class=\"sk-container\" hidden><div class=\"sk-item\"><div class=\"sk-estimator sk-toggleable\"><input class=\"sk-toggleable__control sk-hidden--visually\" id=\"sk-estimator-id-7\" type=\"checkbox\" checked><label for=\"sk-estimator-id-7\" class=\"sk-toggleable__label sk-toggleable__label-arrow\">DecisionTreeClassifier</label><div class=\"sk-toggleable__content\"><pre>DecisionTreeClassifier(max_depth=2, min_samples_leaf=5)</pre></div></div></div></div></div>"
      ],
      "text/plain": [
       "DecisionTreeClassifier(max_depth=2, min_samples_leaf=5)"
      ]
     },
     "execution_count": 47,
     "metadata": {},
     "output_type": "execute_result"
    }
   ],
   "source": [
    "dt_1 = grid_search.best_estimator_\n",
    "dt_1"
   ]
  },
  {
   "cell_type": "code",
   "execution_count": 48,
   "id": "3559a2df",
   "metadata": {},
   "outputs": [
    {
     "data": {
      "text/html": [
       "<div>\n",
       "<style scoped>\n",
       "    .dataframe tbody tr th:only-of-type {\n",
       "        vertical-align: middle;\n",
       "    }\n",
       "\n",
       "    .dataframe tbody tr th {\n",
       "        vertical-align: top;\n",
       "    }\n",
       "\n",
       "    .dataframe thead th {\n",
       "        text-align: right;\n",
       "    }\n",
       "</style>\n",
       "<table border=\"1\" class=\"dataframe\">\n",
       "  <thead>\n",
       "    <tr style=\"text-align: right;\">\n",
       "      <th></th>\n",
       "      <th>mean_fit_time</th>\n",
       "      <th>std_fit_time</th>\n",
       "      <th>mean_score_time</th>\n",
       "      <th>std_score_time</th>\n",
       "      <th>param_criterion</th>\n",
       "      <th>param_max_depth</th>\n",
       "      <th>param_min_samples_leaf</th>\n",
       "      <th>params</th>\n",
       "      <th>split0_test_score</th>\n",
       "      <th>split1_test_score</th>\n",
       "      <th>split2_test_score</th>\n",
       "      <th>split3_test_score</th>\n",
       "      <th>split4_test_score</th>\n",
       "      <th>mean_test_score</th>\n",
       "      <th>std_test_score</th>\n",
       "      <th>rank_test_score</th>\n",
       "    </tr>\n",
       "  </thead>\n",
       "  <tbody>\n",
       "    <tr>\n",
       "      <th>0</th>\n",
       "      <td>0.000799</td>\n",
       "      <td>0.001599</td>\n",
       "      <td>0.001599</td>\n",
       "      <td>0.001958</td>\n",
       "      <td>gini</td>\n",
       "      <td>2</td>\n",
       "      <td>5</td>\n",
       "      <td>{'criterion': 'gini', 'max_depth': 2, 'min_sam...</td>\n",
       "      <td>0.0</td>\n",
       "      <td>0.5</td>\n",
       "      <td>0.0</td>\n",
       "      <td>0.0</td>\n",
       "      <td>0.0</td>\n",
       "      <td>0.1</td>\n",
       "      <td>0.2</td>\n",
       "      <td>1</td>\n",
       "    </tr>\n",
       "  </tbody>\n",
       "</table>\n",
       "</div>"
      ],
      "text/plain": [
       "   mean_fit_time  std_fit_time  mean_score_time  std_score_time  \\\n",
       "0       0.000799      0.001599         0.001599        0.001958   \n",
       "\n",
       "  param_criterion param_max_depth param_min_samples_leaf  \\\n",
       "0            gini               2                      5   \n",
       "\n",
       "                                              params  split0_test_score  \\\n",
       "0  {'criterion': 'gini', 'max_depth': 2, 'min_sam...                0.0   \n",
       "\n",
       "   split1_test_score  split2_test_score  split3_test_score  split4_test_score  \\\n",
       "0                0.5                0.0                0.0                0.0   \n",
       "\n",
       "   mean_test_score  std_test_score  rank_test_score  \n",
       "0              0.1             0.2                1  "
      ]
     },
     "execution_count": 48,
     "metadata": {},
     "output_type": "execute_result"
    }
   ],
   "source": [
    "score_df.nlargest(1, \"mean_test_score\")"
   ]
  },
  {
   "cell_type": "code",
   "execution_count": 49,
   "id": "bdb57037",
   "metadata": {},
   "outputs": [
    {
     "data": {
      "text/plain": [
       "{'criterion': 'gini', 'max_depth': 2, 'min_samples_leaf': 5}"
      ]
     },
     "execution_count": 49,
     "metadata": {},
     "output_type": "execute_result"
    }
   ],
   "source": [
    "grid_search.best_params_"
   ]
  },
  {
   "cell_type": "code",
   "execution_count": 50,
   "id": "d63313c6",
   "metadata": {},
   "outputs": [
    {
     "data": {
      "text/plain": [
       "0.1"
      ]
     },
     "execution_count": 50,
     "metadata": {},
     "output_type": "execute_result"
    }
   ],
   "source": [
    "grid_search.best_score_"
   ]
  },
  {
   "cell_type": "code",
   "execution_count": 51,
   "id": "54fa20b9",
   "metadata": {},
   "outputs": [
    {
     "data": {
      "text/plain": [
       "{'max_depth': [2, 3, 5, 16, 20],\n",
       " 'min_samples_leaf': [5, 10, 20, 50, 100],\n",
       " 'criterion': ['gini', 'entropy']}"
      ]
     },
     "execution_count": 51,
     "metadata": {},
     "output_type": "execute_result"
    }
   ],
   "source": [
    "grid_search.param_grid"
   ]
  },
  {
   "cell_type": "code",
   "execution_count": 52,
   "id": "99dc1694",
   "metadata": {},
   "outputs": [
    {
     "name": "stdout",
     "output_type": "stream",
     "text": [
      "train_score 0.42857142857142855\n",
      "test_score 0.32867132867132864\n"
     ]
    }
   ],
   "source": [
    "scores(dt_1)"
   ]
  },
  {
   "cell_type": "code",
   "execution_count": null,
   "id": "16ed2bbe",
   "metadata": {},
   "outputs": [],
   "source": []
  },
  {
   "cell_type": "markdown",
   "id": "d9f45713",
   "metadata": {},
   "source": [
    "5. Display of the decision surface\n",
    "For a pair of attributes, i.e., for two-dimensional observations, we can visualize the decision\n",
    "surface in 2 dimensions. First, we discretize the two-dimensional domain with a constant\n",
    "step and then we evaluate the model on each point of the grid.\n",
    "In this example, we only keep the length and width of the petals."
   ]
  },
  {
   "cell_type": "code",
   "execution_count": 53,
   "id": "cfc169eb",
   "metadata": {},
   "outputs": [],
   "source": [
    "import numpy as np\n",
    "import matplotlib.pyplot as plt\n",
    "# Settings\n",
    "n_classes = 3\n",
    "plot_colors = \"bry\" # blue-red-yellow\n",
    "plot_step = 0.02\n",
    "# Choose the length and width attributes of the petals\n",
    "pair = [2, 3]\n",
    "# We only keep the two attributes\n",
    "X = iris.data[:, pair]\n",
    "y = iris.target"
   ]
  },
  {
   "cell_type": "code",
   "execution_count": 54,
   "id": "6e3370ad",
   "metadata": {},
   "outputs": [
    {
     "data": {
      "text/plain": [
       "(0.0, 7.88, -0.9, 3.4800000000000044)"
      ]
     },
     "execution_count": 54,
     "metadata": {},
     "output_type": "execute_result"
    },
    {
     "data": {
      "image/png": "[encoded data removed]",
      "text/plain": [
       "<Figure size 432x288 with 1 Axes>"
      ]
     },
     "metadata": {
      "needs_background": "light"
     },
     "output_type": "display_data"
    }
   ],
   "source": [
    "# Tree learning\n",
    "clf = tree.DecisionTreeClassifier().fit(X, y)\n",
    "# Display of the decision surface\n",
    "x_min, x_max = X[:, 0].min() - 1, X[:, 0].max() + 1\n",
    "y_min, y_max = X[:, 1].min() - 1, X[:, 1].max() + 1\n",
    "xx, yy = np.meshgrid(np.arange(x_min, x_max, plot_step), np.arange(y_min,\n",
    "y_max, plot_step))\n",
    "Z = clf.predict(np.c_[xx.ravel(), yy.ravel()])\n",
    "Z = Z.reshape(xx.shape)\n",
    "cs = plt.contourf(xx, yy, Z, cmap=plt.cm.Paired)\n",
    "plt.xlabel(iris.feature_names[pair[0]])\n",
    "plt.ylabel(iris.feature_names[pair[1]])\n",
    "plt.axis(\"tight\")"
   ]
  },
  {
   "cell_type": "code",
   "execution_count": 55,
   "id": "f53f53e3",
   "metadata": {},
   "outputs": [
    {
     "data": {
      "image/png": "[encoded data removed]",
      "text/plain": [
       "<Figure size 432x288 with 1 Axes>"
      ]
     },
     "metadata": {
      "needs_background": "light"
     },
     "output_type": "display_data"
    }
   ],
   "source": [
    "# Display of learning points\n",
    "for i, color in zip(range(n_classes), plot_colors):\n",
    "    idx = np.where(y == i)\n",
    "plt.scatter(X[idx, 0], X[idx, 1], c=color,\n",
    "label=iris.target_names[i], cmap=plt.cm.Paired)\n",
    "plt.axis(\"tight\")\n",
    "plt.suptitle(\"Decision surface of a decision tree using paired features\")\n",
    "plt.legend()\n",
    "plt.show()"
   ]
  },
  {
   "cell_type": "markdown",
   "id": "26a3973d",
   "metadata": {},
   "source": [
    "Question 5: Redo the display for the other pairs of attributes. On which pair is the\n",
    "separation between the classes the most marked?"
   ]
  },
  {
   "cell_type": "code",
   "execution_count": null,
   "id": "eaea637d",
   "metadata": {},
   "outputs": [],
   "source": []
  },
  {
   "cell_type": "code",
   "execution_count": null,
   "id": "3c871eb9",
   "metadata": {},
   "outputs": [],
   "source": []
  },
  {
   "cell_type": "markdown",
   "id": "5bdc44a0",
   "metadata": {},
   "source": [
    "6. Decision trees for regression\n",
    "For regression with decision trees, scikit-learn offers the DecisionTreeRegressor class. As\n",
    "for the classification, the fit(...) method takes as input the parameter X (attributes of the\n",
    "observations). Warning: the y are not class labels but real values."
   ]
  },
  {
   "cell_type": "code",
   "execution_count": 56,
   "id": "fac108bf",
   "metadata": {},
   "outputs": [],
   "source": [
    "from sklearn import tree\n",
    "X = [[0, 0], [2, 2]]\n",
    "y = [0.5, 2.5]"
   ]
  },
  {
   "cell_type": "code",
   "execution_count": 57,
   "id": "da80aefa",
   "metadata": {},
   "outputs": [
    {
     "data": {
      "text/plain": [
       "array([0.5])"
      ]
     },
     "execution_count": 57,
     "metadata": {},
     "output_type": "execute_result"
    }
   ],
   "source": [
    "clf = tree.DecisionTreeRegressor()\n",
    "clf = clf.fit(X, y)\n",
    "clf.predict([[1, 1]])"
   ]
  },
  {
   "cell_type": "markdown",
   "id": "7c28f073",
   "metadata": {},
   "source": [
    "In the following example, we will construct a sinusoidal signal affected by white noise and\n",
    "we will train a regression tree on this training data"
   ]
  },
  {
   "cell_type": "code",
   "execution_count": 58,
   "id": "e7ab7831",
   "metadata": {},
   "outputs": [
    {
     "data": {
      "text/plain": [
       "Text(0.5, 1.0, 'Noisy sine wave')"
      ]
     },
     "execution_count": 58,
     "metadata": {},
     "output_type": "execute_result"
    },
    {
     "data": {
      "image/png": "[encoded data removed]",
      "text/plain": [
       "<Figure size 864x288 with 2 Axes>"
      ]
     },
     "metadata": {
      "needs_background": "light"
     },
     "output_type": "display_data"
    }
   ],
   "source": [
    "import numpy as np\n",
    "import matplotlib.pyplot as plt\n",
    "from sklearn.tree import DecisionTreeRegressor\n",
    "# Create the training data\n",
    "np.random.seed(0)\n",
    "X = np.sort(5 * np.random.rand(80, 1), axis=0)\n",
    "y = np.sin(X).ravel()\n",
    "fig = plt.figure(figsize=(12, 4))\n",
    "fig.add_subplot(121)\n",
    "plt.plot(X, y)\n",
    "plt.title(\"Pure sine wave\")\n",
    "# We add a random noise every 5 samples\n",
    "y[::5] += 3 * (0.5 - np.random.rand(16))\n",
    "fig.add_subplot(122)\n",
    "plt.plot(X, y)\n",
    "plt.title(\"Noisy sine wave\")"
   ]
  },
  {
   "cell_type": "markdown",
   "id": "970e83ce",
   "metadata": {},
   "source": [
    "The objective is to regress this signal y from the values of x. For this, we use a regression\n",
    "tree."
   ]
  },
  {
   "cell_type": "code",
   "execution_count": 59,
   "id": "91265d01",
   "metadata": {},
   "outputs": [
    {
     "data": {
      "image/png": "[encoded data removed]",
      "text/plain": [
       "<Figure size 432x288 with 1 Axes>"
      ]
     },
     "metadata": {
      "needs_background": "light"
     },
     "output_type": "display_data"
    }
   ],
   "source": [
    " #Learn the model\n",
    "reg = DecisionTreeRegressor(max_depth=2)\n",
    "reg.fit(X, y)\n",
    "# Prediction on the same range of values\n",
    "X_test = np.arange(0.0, 5.0, 0.01)[:, np.newaxis]\n",
    "y_pred = reg.predict(X_test)\n",
    "# Display of results\n",
    "plt.figure()\n",
    "plt.scatter(X, y, c=\"darkorange\", label=\"Training Examples\")\n",
    "8\n",
    "plt.plot(X_test, y_pred, color=\"cornflowerblue\", label=\"Prediction\",\n",
    "linewidth=2)\n",
    "plt.xlabel(\"x\")\n",
    "plt.ylabel(\"y\")\n",
    "plt.title(\"Decision Tree Regression\")\n",
    "plt.legend()\n",
    "plt.show()"
   ]
  },
  {
   "cell_type": "markdown",
   "id": "65d531bf",
   "metadata": {},
   "source": [
    "Question 6: Change the value of the max_depth parameter. What happens if we take too\n",
    "large a value? Too small? Change the rate of elements affected by noise (the y[::5]). When\n",
    "all elements are affected by noise, should a high or low value for max_depth be preferred?"
   ]
  },
  {
   "cell_type": "code",
   "execution_count": 60,
   "id": "44e4b3fd",
   "metadata": {},
   "outputs": [
    {
     "data": {
      "image/png": "[encoded data removed]",
      "text/plain": [
       "<Figure size 432x288 with 1 Axes>"
      ]
     },
     "metadata": {
      "needs_background": "light"
     },
     "output_type": "display_data"
    }
   ],
   "source": [
    "# Changing the max_depth parameter (checking for a small and a large value for max_depth)\n",
    "#Learn the model\n",
    "reg = DecisionTreeRegressor(max_depth=9)\n",
    "reg.fit(X, y)\n",
    "# Prediction on the same range of values\n",
    "X_test = np.arange(0.0, 5.0, 0.01)[:, np.newaxis]\n",
    "y_pred = reg.predict(X_test)\n",
    "# Display of results\n",
    "plt.figure()\n",
    "plt.scatter(X, y, c=\"darkorange\", label=\"Training Examples\")\n",
    "8\n",
    "plt.plot(X_test, y_pred, color=\"cornflowerblue\", label=\"Prediction\",\n",
    "linewidth=2)\n",
    "plt.xlabel(\"x\")\n",
    "plt.ylabel(\"y\")\n",
    "plt.title(\"Decision Tree Regression\")\n",
    "plt.legend()\n",
    "plt.show()"
   ]
  },
  {
   "cell_type": "markdown",
   "id": "2e64fa78",
   "metadata": {},
   "source": [
    "When all the elements are affected by noise , a smaller value for max_depth must be considered."
   ]
  },
  {
   "cell_type": "code",
   "execution_count": 61,
   "id": "1567bcab",
   "metadata": {},
   "outputs": [
    {
     "data": {
      "image/png": "[encoded data removed]",
      "text/plain": [
       "<Figure size 432x288 with 1 Axes>"
      ]
     },
     "metadata": {
      "needs_background": "light"
     },
     "output_type": "display_data"
    }
   ],
   "source": [
    "# Changing the max_depth parameter (checking for a small and a large value for max_depth)\n",
    "#Learn the model\n",
    "reg = DecisionTreeRegressor(max_depth= 5)\n",
    "reg.fit(X, y)\n",
    "# Prediction on the same range of values\n",
    "X_test = np.arange(0.0, 5.0, 0.01)[:, np.newaxis]\n",
    "y_pred = reg.predict(X_test)\n",
    "# Display of results\n",
    "plt.figure()\n",
    "plt.scatter(X, y, c=\"darkorange\", label=\"Training Examples\")\n",
    "8\n",
    "plt.plot(X_test, y_pred, color=\"cornflowerblue\", label=\"Prediction\",\n",
    "linewidth=2)\n",
    "plt.xlabel(\"x\")\n",
    "plt.ylabel(\"y\")\n",
    "plt.title(\"Decision Tree Regression\")\n",
    "plt.legend()\n",
    "plt.show()"
   ]
  },
  {
   "cell_type": "code",
   "execution_count": null,
   "id": "e7d6a45e",
   "metadata": {},
   "outputs": [],
   "source": []
  },
  {
   "cell_type": "markdown",
   "id": "2fe63e7d",
   "metadata": {},
   "source": [
    "Question 7: To deepen, load the Diabetes dataset from the sklearn.datasets module and\n",
    "make a random partition into learning part and test part (70% learning, 30% testing). Build\n",
    "a regression tree model on this basis. Calculate the root mean square error on the test set.\n",
    "Do a grid search to find the max_depth parameter value that minimizes this error."
   ]
  },
  {
   "cell_type": "code",
   "execution_count": 62,
   "id": "5acade4d",
   "metadata": {},
   "outputs": [],
   "source": [
    "import pandas as pd\n",
    "import numpy as np\n",
    "import matplotlib.pyplot as plt\n",
    "import seaborn as sns\n",
    "import sklearn"
   ]
  },
  {
   "cell_type": "code",
   "execution_count": 63,
   "id": "01ba324b",
   "metadata": {},
   "outputs": [],
   "source": [
    "from sklearn.datasets import load_diabetes\n",
    "\n",
    "X, y = load_diabetes(return_X_y = True)"
   ]
  },
  {
   "cell_type": "code",
   "execution_count": 64,
   "id": "22c054b0",
   "metadata": {},
   "outputs": [
    {
     "data": {
      "text/plain": [
       "(442, 10)"
      ]
     },
     "execution_count": 64,
     "metadata": {},
     "output_type": "execute_result"
    }
   ],
   "source": [
    "X.shape"
   ]
  },
  {
   "cell_type": "code",
   "execution_count": 65,
   "id": "e8603c12",
   "metadata": {},
   "outputs": [
    {
     "data": {
      "text/plain": [
       "(442,)"
      ]
     },
     "execution_count": 65,
     "metadata": {},
     "output_type": "execute_result"
    }
   ],
   "source": [
    "y.shape"
   ]
  },
  {
   "cell_type": "code",
   "execution_count": 66,
   "id": "f75961c2",
   "metadata": {},
   "outputs": [
    {
     "data": {
      "text/plain": [
       "array([[ 0.03807591,  0.05068012,  0.06169621, ..., -0.00259226,\n",
       "         0.01990749, -0.01764613],\n",
       "       [-0.00188202, -0.04464164, -0.05147406, ..., -0.03949338,\n",
       "        -0.06833155, -0.09220405],\n",
       "       [ 0.08529891,  0.05068012,  0.04445121, ..., -0.00259226,\n",
       "         0.00286131, -0.02593034],\n",
       "       ...,\n",
       "       [ 0.04170844,  0.05068012, -0.01590626, ..., -0.01107952,\n",
       "        -0.04688253,  0.01549073],\n",
       "       [-0.04547248, -0.04464164,  0.03906215, ...,  0.02655962,\n",
       "         0.04452873, -0.02593034],\n",
       "       [-0.04547248, -0.04464164, -0.0730303 , ..., -0.03949338,\n",
       "        -0.00422151,  0.00306441]])"
      ]
     },
     "execution_count": 66,
     "metadata": {},
     "output_type": "execute_result"
    }
   ],
   "source": [
    "X"
   ]
  },
  {
   "cell_type": "code",
   "execution_count": 67,
   "id": "a1fafd3a",
   "metadata": {},
   "outputs": [
    {
     "data": {
      "text/plain": [
       "array([151.,  75., 141., 206., 135.,  97., 138.,  63., 110., 310., 101.,\n",
       "        69., 179., 185., 118., 171., 166., 144.,  97., 168.,  68.,  49.,\n",
       "        68., 245., 184., 202., 137.,  85., 131., 283., 129.,  59., 341.,\n",
       "        87.,  65., 102., 265., 276., 252.,  90., 100.,  55.,  61.,  92.,\n",
       "       259.,  53., 190., 142.,  75., 142., 155., 225.,  59., 104., 182.,\n",
       "       128.,  52.,  37., 170., 170.,  61., 144.,  52., 128.,  71., 163.,\n",
       "       150.,  97., 160., 178.,  48., 270., 202., 111.,  85.,  42., 170.,\n",
       "       200., 252., 113., 143.,  51.,  52., 210.,  65., 141.,  55., 134.,\n",
       "        42., 111.,  98., 164.,  48.,  96.,  90., 162., 150., 279.,  92.,\n",
       "        83., 128., 102., 302., 198.,  95.,  53., 134., 144., 232.,  81.,\n",
       "       104.,  59., 246., 297., 258., 229., 275., 281., 179., 200., 200.,\n",
       "       173., 180.,  84., 121., 161.,  99., 109., 115., 268., 274., 158.,\n",
       "       107.,  83., 103., 272.,  85., 280., 336., 281., 118., 317., 235.,\n",
       "        60., 174., 259., 178., 128.,  96., 126., 288.,  88., 292.,  71.,\n",
       "       197., 186.,  25.,  84.,  96., 195.,  53., 217., 172., 131., 214.,\n",
       "        59.,  70., 220., 268., 152.,  47.,  74., 295., 101., 151., 127.,\n",
       "       237., 225.,  81., 151., 107.,  64., 138., 185., 265., 101., 137.,\n",
       "       143., 141.,  79., 292., 178.,  91., 116.,  86., 122.,  72., 129.,\n",
       "       142.,  90., 158.,  39., 196., 222., 277.,  99., 196., 202., 155.,\n",
       "        77., 191.,  70.,  73.,  49.,  65., 263., 248., 296., 214., 185.,\n",
       "        78.,  93., 252., 150.,  77., 208.,  77., 108., 160.,  53., 220.,\n",
       "       154., 259.,  90., 246., 124.,  67.,  72., 257., 262., 275., 177.,\n",
       "        71.,  47., 187., 125.,  78.,  51., 258., 215., 303., 243.,  91.,\n",
       "       150., 310., 153., 346.,  63.,  89.,  50.,  39., 103., 308., 116.,\n",
       "       145.,  74.,  45., 115., 264.,  87., 202., 127., 182., 241.,  66.,\n",
       "        94., 283.,  64., 102., 200., 265.,  94., 230., 181., 156., 233.,\n",
       "        60., 219.,  80.,  68., 332., 248.,  84., 200.,  55.,  85.,  89.,\n",
       "        31., 129.,  83., 275.,  65., 198., 236., 253., 124.,  44., 172.,\n",
       "       114., 142., 109., 180., 144., 163., 147.,  97., 220., 190., 109.,\n",
       "       191., 122., 230., 242., 248., 249., 192., 131., 237.,  78., 135.,\n",
       "       244., 199., 270., 164.,  72.,  96., 306.,  91., 214.,  95., 216.,\n",
       "       263., 178., 113., 200., 139., 139.,  88., 148.,  88., 243.,  71.,\n",
       "        77., 109., 272.,  60.,  54., 221.,  90., 311., 281., 182., 321.,\n",
       "        58., 262., 206., 233., 242., 123., 167.,  63., 197.,  71., 168.,\n",
       "       140., 217., 121., 235., 245.,  40.,  52., 104., 132.,  88.,  69.,\n",
       "       219.,  72., 201., 110.,  51., 277.,  63., 118.,  69., 273., 258.,\n",
       "        43., 198., 242., 232., 175.,  93., 168., 275., 293., 281.,  72.,\n",
       "       140., 189., 181., 209., 136., 261., 113., 131., 174., 257.,  55.,\n",
       "        84.,  42., 146., 212., 233.,  91., 111., 152., 120.,  67., 310.,\n",
       "        94., 183.,  66., 173.,  72.,  49.,  64.,  48., 178., 104., 132.,\n",
       "       220.,  57.])"
      ]
     },
     "execution_count": 67,
     "metadata": {},
     "output_type": "execute_result"
    }
   ],
   "source": [
    "y"
   ]
  },
  {
   "cell_type": "code",
   "execution_count": 68,
   "id": "1d202b0f",
   "metadata": {},
   "outputs": [
    {
     "name": "stdout",
     "output_type": "stream",
     "text": [
      "          age       sex       bmi        bp        tc       ldl       hdl  \\\n",
      "0    0.038076  0.050680  0.061696  0.021872 -0.044223 -0.034821 -0.043401   \n",
      "1   -0.001882 -0.044642 -0.051474 -0.026328 -0.008449 -0.019163  0.074412   \n",
      "2    0.085299  0.050680  0.044451 -0.005670 -0.045599 -0.034194 -0.032356   \n",
      "3   -0.089063 -0.044642 -0.011595 -0.036656  0.012191  0.024991 -0.036038   \n",
      "4    0.005383 -0.044642 -0.036385  0.021872  0.003935  0.015596  0.008142   \n",
      "..        ...       ...       ...       ...       ...       ...       ...   \n",
      "437  0.041708  0.050680  0.019662  0.059744 -0.005697 -0.002566 -0.028674   \n",
      "438 -0.005515  0.050680 -0.015906 -0.067642  0.049341  0.079165 -0.028674   \n",
      "439  0.041708  0.050680 -0.015906  0.017293 -0.037344 -0.013840 -0.024993   \n",
      "440 -0.045472 -0.044642  0.039062  0.001215  0.016318  0.015283 -0.028674   \n",
      "441 -0.045472 -0.044642 -0.073030 -0.081413  0.083740  0.027809  0.173816   \n",
      "\n",
      "          tch       ltg       glu  \n",
      "0   -0.002592  0.019907 -0.017646  \n",
      "1   -0.039493 -0.068332 -0.092204  \n",
      "2   -0.002592  0.002861 -0.025930  \n",
      "3    0.034309  0.022688 -0.009362  \n",
      "4   -0.002592 -0.031988 -0.046641  \n",
      "..        ...       ...       ...  \n",
      "437 -0.002592  0.031193  0.007207  \n",
      "438  0.034309 -0.018114  0.044485  \n",
      "439 -0.011080 -0.046883  0.015491  \n",
      "440  0.026560  0.044529 -0.025930  \n",
      "441 -0.039493 -0.004222  0.003064  \n",
      "\n",
      "[442 rows x 10 columns]\n"
     ]
    }
   ],
   "source": [
    "df1 = pd.DataFrame( X, columns = [\"age\", \"sex\", \"bmi\", \"bp\", \"tc\", \"ldl\", \"hdl\", \"tch\", \"ltg\", \"glu\"])\n",
    "\n",
    "print(df1)"
   ]
  },
  {
   "cell_type": "code",
   "execution_count": 69,
   "id": "38136dc8",
   "metadata": {},
   "outputs": [
    {
     "name": "stdout",
     "output_type": "stream",
     "text": [
      "     disease_progression\n",
      "0                  151.0\n",
      "1                   75.0\n",
      "2                  141.0\n",
      "3                  206.0\n",
      "4                  135.0\n",
      "..                   ...\n",
      "437                178.0\n",
      "438                104.0\n",
      "439                132.0\n",
      "440                220.0\n",
      "441                 57.0\n",
      "\n",
      "[442 rows x 1 columns]\n"
     ]
    }
   ],
   "source": [
    "df2 = pd.DataFrame(y, columns= [\"disease_progression\"])\n",
    "print(df2)"
   ]
  },
  {
   "cell_type": "code",
   "execution_count": 70,
   "id": "ac28daee",
   "metadata": {},
   "outputs": [],
   "source": [
    "df_new = pd.merge(df1, df2, left_index = True, right_index = True)"
   ]
  },
  {
   "cell_type": "code",
   "execution_count": 71,
   "id": "132f5ed5",
   "metadata": {},
   "outputs": [
    {
     "data": {
      "text/html": [
       "<div>\n",
       "<style scoped>\n",
       "    .dataframe tbody tr th:only-of-type {\n",
       "        vertical-align: middle;\n",
       "    }\n",
       "\n",
       "    .dataframe tbody tr th {\n",
       "        vertical-align: top;\n",
       "    }\n",
       "\n",
       "    .dataframe thead th {\n",
       "        text-align: right;\n",
       "    }\n",
       "</style>\n",
       "<table border=\"1\" class=\"dataframe\">\n",
       "  <thead>\n",
       "    <tr style=\"text-align: right;\">\n",
       "      <th></th>\n",
       "      <th>age</th>\n",
       "      <th>sex</th>\n",
       "      <th>bmi</th>\n",
       "      <th>bp</th>\n",
       "      <th>tc</th>\n",
       "      <th>ldl</th>\n",
       "      <th>hdl</th>\n",
       "      <th>tch</th>\n",
       "      <th>ltg</th>\n",
       "      <th>glu</th>\n",
       "      <th>disease_progression</th>\n",
       "    </tr>\n",
       "  </thead>\n",
       "  <tbody>\n",
       "    <tr>\n",
       "      <th>0</th>\n",
       "      <td>0.038076</td>\n",
       "      <td>0.050680</td>\n",
       "      <td>0.061696</td>\n",
       "      <td>0.021872</td>\n",
       "      <td>-0.044223</td>\n",
       "      <td>-0.034821</td>\n",
       "      <td>-0.043401</td>\n",
       "      <td>-0.002592</td>\n",
       "      <td>0.019907</td>\n",
       "      <td>-0.017646</td>\n",
       "      <td>151.0</td>\n",
       "    </tr>\n",
       "    <tr>\n",
       "      <th>1</th>\n",
       "      <td>-0.001882</td>\n",
       "      <td>-0.044642</td>\n",
       "      <td>-0.051474</td>\n",
       "      <td>-0.026328</td>\n",
       "      <td>-0.008449</td>\n",
       "      <td>-0.019163</td>\n",
       "      <td>0.074412</td>\n",
       "      <td>-0.039493</td>\n",
       "      <td>-0.068332</td>\n",
       "      <td>-0.092204</td>\n",
       "      <td>75.0</td>\n",
       "    </tr>\n",
       "    <tr>\n",
       "      <th>2</th>\n",
       "      <td>0.085299</td>\n",
       "      <td>0.050680</td>\n",
       "      <td>0.044451</td>\n",
       "      <td>-0.005670</td>\n",
       "      <td>-0.045599</td>\n",
       "      <td>-0.034194</td>\n",
       "      <td>-0.032356</td>\n",
       "      <td>-0.002592</td>\n",
       "      <td>0.002861</td>\n",
       "      <td>-0.025930</td>\n",
       "      <td>141.0</td>\n",
       "    </tr>\n",
       "    <tr>\n",
       "      <th>3</th>\n",
       "      <td>-0.089063</td>\n",
       "      <td>-0.044642</td>\n",
       "      <td>-0.011595</td>\n",
       "      <td>-0.036656</td>\n",
       "      <td>0.012191</td>\n",
       "      <td>0.024991</td>\n",
       "      <td>-0.036038</td>\n",
       "      <td>0.034309</td>\n",
       "      <td>0.022688</td>\n",
       "      <td>-0.009362</td>\n",
       "      <td>206.0</td>\n",
       "    </tr>\n",
       "    <tr>\n",
       "      <th>4</th>\n",
       "      <td>0.005383</td>\n",
       "      <td>-0.044642</td>\n",
       "      <td>-0.036385</td>\n",
       "      <td>0.021872</td>\n",
       "      <td>0.003935</td>\n",
       "      <td>0.015596</td>\n",
       "      <td>0.008142</td>\n",
       "      <td>-0.002592</td>\n",
       "      <td>-0.031988</td>\n",
       "      <td>-0.046641</td>\n",
       "      <td>135.0</td>\n",
       "    </tr>\n",
       "    <tr>\n",
       "      <th>...</th>\n",
       "      <td>...</td>\n",
       "      <td>...</td>\n",
       "      <td>...</td>\n",
       "      <td>...</td>\n",
       "      <td>...</td>\n",
       "      <td>...</td>\n",
       "      <td>...</td>\n",
       "      <td>...</td>\n",
       "      <td>...</td>\n",
       "      <td>...</td>\n",
       "      <td>...</td>\n",
       "    </tr>\n",
       "    <tr>\n",
       "      <th>437</th>\n",
       "      <td>0.041708</td>\n",
       "      <td>0.050680</td>\n",
       "      <td>0.019662</td>\n",
       "      <td>0.059744</td>\n",
       "      <td>-0.005697</td>\n",
       "      <td>-0.002566</td>\n",
       "      <td>-0.028674</td>\n",
       "      <td>-0.002592</td>\n",
       "      <td>0.031193</td>\n",
       "      <td>0.007207</td>\n",
       "      <td>178.0</td>\n",
       "    </tr>\n",
       "    <tr>\n",
       "      <th>438</th>\n",
       "      <td>-0.005515</td>\n",
       "      <td>0.050680</td>\n",
       "      <td>-0.015906</td>\n",
       "      <td>-0.067642</td>\n",
       "      <td>0.049341</td>\n",
       "      <td>0.079165</td>\n",
       "      <td>-0.028674</td>\n",
       "      <td>0.034309</td>\n",
       "      <td>-0.018114</td>\n",
       "      <td>0.044485</td>\n",
       "      <td>104.0</td>\n",
       "    </tr>\n",
       "    <tr>\n",
       "      <th>439</th>\n",
       "      <td>0.041708</td>\n",
       "      <td>0.050680</td>\n",
       "      <td>-0.015906</td>\n",
       "      <td>0.017293</td>\n",
       "      <td>-0.037344</td>\n",
       "      <td>-0.013840</td>\n",
       "      <td>-0.024993</td>\n",
       "      <td>-0.011080</td>\n",
       "      <td>-0.046883</td>\n",
       "      <td>0.015491</td>\n",
       "      <td>132.0</td>\n",
       "    </tr>\n",
       "    <tr>\n",
       "      <th>440</th>\n",
       "      <td>-0.045472</td>\n",
       "      <td>-0.044642</td>\n",
       "      <td>0.039062</td>\n",
       "      <td>0.001215</td>\n",
       "      <td>0.016318</td>\n",
       "      <td>0.015283</td>\n",
       "      <td>-0.028674</td>\n",
       "      <td>0.026560</td>\n",
       "      <td>0.044529</td>\n",
       "      <td>-0.025930</td>\n",
       "      <td>220.0</td>\n",
       "    </tr>\n",
       "    <tr>\n",
       "      <th>441</th>\n",
       "      <td>-0.045472</td>\n",
       "      <td>-0.044642</td>\n",
       "      <td>-0.073030</td>\n",
       "      <td>-0.081413</td>\n",
       "      <td>0.083740</td>\n",
       "      <td>0.027809</td>\n",
       "      <td>0.173816</td>\n",
       "      <td>-0.039493</td>\n",
       "      <td>-0.004222</td>\n",
       "      <td>0.003064</td>\n",
       "      <td>57.0</td>\n",
       "    </tr>\n",
       "  </tbody>\n",
       "</table>\n",
       "<p>442 rows × 11 columns</p>\n",
       "</div>"
      ],
      "text/plain": [
       "          age       sex       bmi        bp        tc       ldl       hdl  \\\n",
       "0    0.038076  0.050680  0.061696  0.021872 -0.044223 -0.034821 -0.043401   \n",
       "1   -0.001882 -0.044642 -0.051474 -0.026328 -0.008449 -0.019163  0.074412   \n",
       "2    0.085299  0.050680  0.044451 -0.005670 -0.045599 -0.034194 -0.032356   \n",
       "3   -0.089063 -0.044642 -0.011595 -0.036656  0.012191  0.024991 -0.036038   \n",
       "4    0.005383 -0.044642 -0.036385  0.021872  0.003935  0.015596  0.008142   \n",
       "..        ...       ...       ...       ...       ...       ...       ...   \n",
       "437  0.041708  0.050680  0.019662  0.059744 -0.005697 -0.002566 -0.028674   \n",
       "438 -0.005515  0.050680 -0.015906 -0.067642  0.049341  0.079165 -0.028674   \n",
       "439  0.041708  0.050680 -0.015906  0.017293 -0.037344 -0.013840 -0.024993   \n",
       "440 -0.045472 -0.044642  0.039062  0.001215  0.016318  0.015283 -0.028674   \n",
       "441 -0.045472 -0.044642 -0.073030 -0.081413  0.083740  0.027809  0.173816   \n",
       "\n",
       "          tch       ltg       glu  disease_progression  \n",
       "0   -0.002592  0.019907 -0.017646                151.0  \n",
       "1   -0.039493 -0.068332 -0.092204                 75.0  \n",
       "2   -0.002592  0.002861 -0.025930                141.0  \n",
       "3    0.034309  0.022688 -0.009362                206.0  \n",
       "4   -0.002592 -0.031988 -0.046641                135.0  \n",
       "..        ...       ...       ...                  ...  \n",
       "437 -0.002592  0.031193  0.007207                178.0  \n",
       "438  0.034309 -0.018114  0.044485                104.0  \n",
       "439 -0.011080 -0.046883  0.015491                132.0  \n",
       "440  0.026560  0.044529 -0.025930                220.0  \n",
       "441 -0.039493 -0.004222  0.003064                 57.0  \n",
       "\n",
       "[442 rows x 11 columns]"
      ]
     },
     "execution_count": 71,
     "metadata": {},
     "output_type": "execute_result"
    }
   ],
   "source": [
    "df_new"
   ]
  },
  {
   "cell_type": "code",
   "execution_count": 72,
   "id": "d977fb07",
   "metadata": {},
   "outputs": [
    {
     "name": "stdout",
     "output_type": "stream",
     "text": [
      "<class 'pandas.core.frame.DataFrame'>\n",
      "RangeIndex: 442 entries, 0 to 441\n",
      "Data columns (total 11 columns):\n",
      " #   Column               Non-Null Count  Dtype  \n",
      "---  ------               --------------  -----  \n",
      " 0   age                  442 non-null    float64\n",
      " 1   sex                  442 non-null    float64\n",
      " 2   bmi                  442 non-null    float64\n",
      " 3   bp                   442 non-null    float64\n",
      " 4   tc                   442 non-null    float64\n",
      " 5   ldl                  442 non-null    float64\n",
      " 6   hdl                  442 non-null    float64\n",
      " 7   tch                  442 non-null    float64\n",
      " 8   ltg                  442 non-null    float64\n",
      " 9   glu                  442 non-null    float64\n",
      " 10  disease_progression  442 non-null    float64\n",
      "dtypes: float64(11)\n",
      "memory usage: 38.1 KB\n"
     ]
    }
   ],
   "source": [
    "df_new.info()"
   ]
  },
  {
   "cell_type": "code",
   "execution_count": 73,
   "id": "8cc87866",
   "metadata": {},
   "outputs": [
    {
     "data": {
      "text/html": [
       "<div>\n",
       "<style scoped>\n",
       "    .dataframe tbody tr th:only-of-type {\n",
       "        vertical-align: middle;\n",
       "    }\n",
       "\n",
       "    .dataframe tbody tr th {\n",
       "        vertical-align: top;\n",
       "    }\n",
       "\n",
       "    .dataframe thead th {\n",
       "        text-align: right;\n",
       "    }\n",
       "</style>\n",
       "<table border=\"1\" class=\"dataframe\">\n",
       "  <thead>\n",
       "    <tr style=\"text-align: right;\">\n",
       "      <th></th>\n",
       "      <th>age</th>\n",
       "      <th>sex</th>\n",
       "      <th>bmi</th>\n",
       "      <th>bp</th>\n",
       "      <th>tc</th>\n",
       "      <th>ldl</th>\n",
       "      <th>hdl</th>\n",
       "      <th>tch</th>\n",
       "      <th>ltg</th>\n",
       "      <th>glu</th>\n",
       "      <th>disease_progression</th>\n",
       "    </tr>\n",
       "  </thead>\n",
       "  <tbody>\n",
       "    <tr>\n",
       "      <th>count</th>\n",
       "      <td>4.420000e+02</td>\n",
       "      <td>4.420000e+02</td>\n",
       "      <td>4.420000e+02</td>\n",
       "      <td>4.420000e+02</td>\n",
       "      <td>4.420000e+02</td>\n",
       "      <td>4.420000e+02</td>\n",
       "      <td>4.420000e+02</td>\n",
       "      <td>4.420000e+02</td>\n",
       "      <td>4.420000e+02</td>\n",
       "      <td>4.420000e+02</td>\n",
       "      <td>442.000000</td>\n",
       "    </tr>\n",
       "    <tr>\n",
       "      <th>mean</th>\n",
       "      <td>-1.444295e-18</td>\n",
       "      <td>2.543215e-18</td>\n",
       "      <td>-2.255925e-16</td>\n",
       "      <td>-4.854086e-17</td>\n",
       "      <td>-1.428596e-17</td>\n",
       "      <td>3.898811e-17</td>\n",
       "      <td>-6.028360e-18</td>\n",
       "      <td>-1.788100e-17</td>\n",
       "      <td>9.243486e-17</td>\n",
       "      <td>1.351770e-17</td>\n",
       "      <td>152.133484</td>\n",
       "    </tr>\n",
       "    <tr>\n",
       "      <th>std</th>\n",
       "      <td>4.761905e-02</td>\n",
       "      <td>4.761905e-02</td>\n",
       "      <td>4.761905e-02</td>\n",
       "      <td>4.761905e-02</td>\n",
       "      <td>4.761905e-02</td>\n",
       "      <td>4.761905e-02</td>\n",
       "      <td>4.761905e-02</td>\n",
       "      <td>4.761905e-02</td>\n",
       "      <td>4.761905e-02</td>\n",
       "      <td>4.761905e-02</td>\n",
       "      <td>77.093005</td>\n",
       "    </tr>\n",
       "    <tr>\n",
       "      <th>min</th>\n",
       "      <td>-1.072256e-01</td>\n",
       "      <td>-4.464164e-02</td>\n",
       "      <td>-9.027530e-02</td>\n",
       "      <td>-1.123988e-01</td>\n",
       "      <td>-1.267807e-01</td>\n",
       "      <td>-1.156131e-01</td>\n",
       "      <td>-1.023071e-01</td>\n",
       "      <td>-7.639450e-02</td>\n",
       "      <td>-1.260971e-01</td>\n",
       "      <td>-1.377672e-01</td>\n",
       "      <td>25.000000</td>\n",
       "    </tr>\n",
       "    <tr>\n",
       "      <th>25%</th>\n",
       "      <td>-3.729927e-02</td>\n",
       "      <td>-4.464164e-02</td>\n",
       "      <td>-3.422907e-02</td>\n",
       "      <td>-3.665608e-02</td>\n",
       "      <td>-3.424784e-02</td>\n",
       "      <td>-3.035840e-02</td>\n",
       "      <td>-3.511716e-02</td>\n",
       "      <td>-3.949338e-02</td>\n",
       "      <td>-3.324559e-02</td>\n",
       "      <td>-3.317903e-02</td>\n",
       "      <td>87.000000</td>\n",
       "    </tr>\n",
       "    <tr>\n",
       "      <th>50%</th>\n",
       "      <td>5.383060e-03</td>\n",
       "      <td>-4.464164e-02</td>\n",
       "      <td>-7.283766e-03</td>\n",
       "      <td>-5.670422e-03</td>\n",
       "      <td>-4.320866e-03</td>\n",
       "      <td>-3.819065e-03</td>\n",
       "      <td>-6.584468e-03</td>\n",
       "      <td>-2.592262e-03</td>\n",
       "      <td>-1.947171e-03</td>\n",
       "      <td>-1.077698e-03</td>\n",
       "      <td>140.500000</td>\n",
       "    </tr>\n",
       "    <tr>\n",
       "      <th>75%</th>\n",
       "      <td>3.807591e-02</td>\n",
       "      <td>5.068012e-02</td>\n",
       "      <td>3.124802e-02</td>\n",
       "      <td>3.564379e-02</td>\n",
       "      <td>2.835801e-02</td>\n",
       "      <td>2.984439e-02</td>\n",
       "      <td>2.931150e-02</td>\n",
       "      <td>3.430886e-02</td>\n",
       "      <td>3.243232e-02</td>\n",
       "      <td>2.791705e-02</td>\n",
       "      <td>211.500000</td>\n",
       "    </tr>\n",
       "    <tr>\n",
       "      <th>max</th>\n",
       "      <td>1.107267e-01</td>\n",
       "      <td>5.068012e-02</td>\n",
       "      <td>1.705552e-01</td>\n",
       "      <td>1.320436e-01</td>\n",
       "      <td>1.539137e-01</td>\n",
       "      <td>1.987880e-01</td>\n",
       "      <td>1.811791e-01</td>\n",
       "      <td>1.852344e-01</td>\n",
       "      <td>1.335973e-01</td>\n",
       "      <td>1.356118e-01</td>\n",
       "      <td>346.000000</td>\n",
       "    </tr>\n",
       "  </tbody>\n",
       "</table>\n",
       "</div>"
      ],
      "text/plain": [
       "                age           sex           bmi            bp            tc  \\\n",
       "count  4.420000e+02  4.420000e+02  4.420000e+02  4.420000e+02  4.420000e+02   \n",
       "mean  -1.444295e-18  2.543215e-18 -2.255925e-16 -4.854086e-17 -1.428596e-17   \n",
       "std    4.761905e-02  4.761905e-02  4.761905e-02  4.761905e-02  4.761905e-02   \n",
       "min   -1.072256e-01 -4.464164e-02 -9.027530e-02 -1.123988e-01 -1.267807e-01   \n",
       "25%   -3.729927e-02 -4.464164e-02 -3.422907e-02 -3.665608e-02 -3.424784e-02   \n",
       "50%    5.383060e-03 -4.464164e-02 -7.283766e-03 -5.670422e-03 -4.320866e-03   \n",
       "75%    3.807591e-02  5.068012e-02  3.124802e-02  3.564379e-02  2.835801e-02   \n",
       "max    1.107267e-01  5.068012e-02  1.705552e-01  1.320436e-01  1.539137e-01   \n",
       "\n",
       "                ldl           hdl           tch           ltg           glu  \\\n",
       "count  4.420000e+02  4.420000e+02  4.420000e+02  4.420000e+02  4.420000e+02   \n",
       "mean   3.898811e-17 -6.028360e-18 -1.788100e-17  9.243486e-17  1.351770e-17   \n",
       "std    4.761905e-02  4.761905e-02  4.761905e-02  4.761905e-02  4.761905e-02   \n",
       "min   -1.156131e-01 -1.023071e-01 -7.639450e-02 -1.260971e-01 -1.377672e-01   \n",
       "25%   -3.035840e-02 -3.511716e-02 -3.949338e-02 -3.324559e-02 -3.317903e-02   \n",
       "50%   -3.819065e-03 -6.584468e-03 -2.592262e-03 -1.947171e-03 -1.077698e-03   \n",
       "75%    2.984439e-02  2.931150e-02  3.430886e-02  3.243232e-02  2.791705e-02   \n",
       "max    1.987880e-01  1.811791e-01  1.852344e-01  1.335973e-01  1.356118e-01   \n",
       "\n",
       "       disease_progression  \n",
       "count           442.000000  \n",
       "mean            152.133484  \n",
       "std              77.093005  \n",
       "min              25.000000  \n",
       "25%              87.000000  \n",
       "50%             140.500000  \n",
       "75%             211.500000  \n",
       "max             346.000000  "
      ]
     },
     "execution_count": 73,
     "metadata": {},
     "output_type": "execute_result"
    }
   ],
   "source": [
    "df_new.describe()"
   ]
  },
  {
   "cell_type": "code",
   "execution_count": 74,
   "id": "56b90c79",
   "metadata": {},
   "outputs": [
    {
     "data": {
      "text/plain": [
       "age                    0\n",
       "sex                    0\n",
       "bmi                    0\n",
       "bp                     0\n",
       "tc                     0\n",
       "ldl                    0\n",
       "hdl                    0\n",
       "tch                    0\n",
       "ltg                    0\n",
       "glu                    0\n",
       "disease_progression    0\n",
       "dtype: int64"
      ]
     },
     "execution_count": 74,
     "metadata": {},
     "output_type": "execute_result"
    }
   ],
   "source": [
    "df_new.isnull().sum()"
   ]
  },
  {
   "cell_type": "markdown",
   "id": "3e52c0de",
   "metadata": {},
   "source": [
    "Implementing the Decision Tree for Diabetes dataset"
   ]
  },
  {
   "cell_type": "markdown",
   "id": "8a48660f",
   "metadata": {},
   "source": [
    "We are going to split the dataset into train and test dataset as 70% learning and 30% testing"
   ]
  },
  {
   "cell_type": "code",
   "execution_count": 75,
   "id": "254f6f9b",
   "metadata": {},
   "outputs": [],
   "source": [
    "from sklearn.model_selection import train_test_split\n",
    "X_train, X_test, y_train, y_test = train_test_split(X, y, train_size=0.7, random_state=0)"
   ]
  },
  {
   "cell_type": "markdown",
   "id": "1cbe0753",
   "metadata": {},
   "source": [
    "We now build a decision tree on this data "
   ]
  },
  {
   "cell_type": "code",
   "execution_count": 76,
   "id": "b90bf95d",
   "metadata": {},
   "outputs": [],
   "source": [
    "from sklearn import tree\n",
    "clf = tree.DecisionTreeRegressor()\n",
    "clf = clf.fit(X, y)"
   ]
  },
  {
   "cell_type": "code",
   "execution_count": 77,
   "id": "90bb95cc",
   "metadata": {},
   "outputs": [
    {
     "data": {
      "text/plain": [
       "[Text(0.5344324802580893, 0.9761904761904762, 'x[8] <= -0.004\\nsquared_error = 5929.885\\nsamples = 442\\nvalue = 152.133'),\n",
       " Text(0.3103291923472008, 0.9285714285714286, 'x[2] <= 0.006\\nsquared_error = 3240.821\\nsamples = 218\\nvalue = 109.986'),\n",
       " Text(0.2100587442218798, 0.8809523809523809, 'x[6] <= 0.021\\nsquared_error = 2143.968\\nsamples = 171\\nvalue = 96.31'),\n",
       " Text(0.1182909604519774, 0.8333333333333334, 'x[5] <= 0.091\\nsquared_error = 2856.847\\nsamples = 87\\nvalue = 108.805'),\n",
       " Text(0.09200051361068311, 0.7857142857142857, 'x[1] <= 0.003\\nsquared_error = 2496.899\\nsamples = 85\\nvalue = 105.682'),\n",
       " Text(0.04558294812532101, 0.7380952380952381, 'x[3] <= -0.035\\nsquared_error = 2955.72\\nsamples = 39\\nvalue = 118.846'),\n",
       " Text(0.027221366204417053, 0.6904761904761905, 'x[0] <= -0.051\\nsquared_error = 2357.959\\nsamples = 21\\nvalue = 100.429'),\n",
       " Text(0.012326656394453005, 0.6428571428571429, 'x[3] <= -0.092\\nsquared_error = 2049.0\\nsamples = 8\\nvalue = 133.5'),\n",
       " Text(0.01027221366204417, 0.5952380952380952, 'squared_error = 0.0\\nsamples = 1\\nvalue = 55.0'),\n",
       " Text(0.014381099126861838, 0.5952380952380952, 'x[3] <= -0.05\\nsquared_error = 1335.633\\nsamples = 7\\nvalue = 144.714'),\n",
       " Text(0.01027221366204417, 0.5476190476190477, 'x[9] <= -0.026\\nsquared_error = 401.6\\nsamples = 5\\nvalue = 162.0'),\n",
       " Text(0.008217770929635337, 0.5, 'x[5] <= -0.035\\nsquared_error = 50.75\\nsamples = 4\\nvalue = 152.5'),\n",
       " Text(0.004108885464817668, 0.4523809523809524, 'x[6] <= -0.007\\nsquared_error = 16.0\\nsamples = 2\\nvalue = 146.0'),\n",
       " Text(0.002054442732408834, 0.40476190476190477, 'squared_error = 0.0\\nsamples = 1\\nvalue = 142.0'),\n",
       " Text(0.0061633281972265025, 0.40476190476190477, 'squared_error = 0.0\\nsamples = 1\\nvalue = 150.0'),\n",
       " Text(0.012326656394453005, 0.4523809523809524, 'x[7] <= -0.021\\nsquared_error = 1.0\\nsamples = 2\\nvalue = 159.0'),\n",
       " Text(0.01027221366204417, 0.40476190476190477, 'squared_error = 0.0\\nsamples = 1\\nvalue = 158.0'),\n",
       " Text(0.014381099126861838, 0.40476190476190477, 'squared_error = 0.0\\nsamples = 1\\nvalue = 160.0'),\n",
       " Text(0.012326656394453005, 0.5, 'squared_error = 0.0\\nsamples = 1\\nvalue = 200.0'),\n",
       " Text(0.01848998459167951, 0.5476190476190477, 'x[0] <= -0.085\\nsquared_error = 1056.25\\nsamples = 2\\nvalue = 101.5'),\n",
       " Text(0.016435541859270673, 0.5, 'squared_error = 0.0\\nsamples = 1\\nvalue = 134.0'),\n",
       " Text(0.02054442732408834, 0.5, 'squared_error = 0.0\\nsamples = 1\\nvalue = 69.0'),\n",
       " Text(0.042116076014381096, 0.6428571428571429, 'x[4] <= 0.011\\nsquared_error = 1460.84\\nsamples = 13\\nvalue = 80.077'),\n",
       " Text(0.03492552645095018, 0.5952380952380952, 'x[6] <= 0.003\\nsquared_error = 366.595\\nsamples = 11\\nvalue = 66.364'),\n",
       " Text(0.02670775552131484, 0.5476190476190477, 'x[6] <= -0.023\\nsquared_error = 164.556\\nsamples = 6\\nvalue = 79.333'),\n",
       " Text(0.02465331278890601, 0.5, 'squared_error = 0.0\\nsamples = 1\\nvalue = 97.0'),\n",
       " Text(0.028762198253723677, 0.5, 'x[9] <= -0.049\\nsquared_error = 122.56\\nsamples = 5\\nvalue = 75.8'),\n",
       " Text(0.02670775552131484, 0.4523809523809524, 'squared_error = 0.0\\nsamples = 1\\nvalue = 96.0'),\n",
       " Text(0.030816640986132512, 0.4523809523809524, 'x[4] <= -0.048\\nsquared_error = 25.688\\nsamples = 4\\nvalue = 70.75'),\n",
       " Text(0.02670775552131484, 0.40476190476190477, 'x[8] <= -0.044\\nsquared_error = 2.25\\nsamples = 2\\nvalue = 75.5'),\n",
       " Text(0.02465331278890601, 0.35714285714285715, 'squared_error = 0.0\\nsamples = 1\\nvalue = 74.0'),\n",
       " Text(0.028762198253723677, 0.35714285714285715, 'squared_error = 0.0\\nsamples = 1\\nvalue = 77.0'),\n",
       " Text(0.03492552645095018, 0.40476190476190477, 'x[5] <= -0.019\\nsquared_error = 4.0\\nsamples = 2\\nvalue = 66.0'),\n",
       " Text(0.03287108371854135, 0.35714285714285715, 'squared_error = 0.0\\nsamples = 1\\nvalue = 68.0'),\n",
       " Text(0.03697996918335902, 0.35714285714285715, 'squared_error = 0.0\\nsamples = 1\\nvalue = 64.0'),\n",
       " Text(0.04314329738058552, 0.5476190476190477, 'x[2] <= -0.058\\nsquared_error = 164.96\\nsamples = 5\\nvalue = 50.8'),\n",
       " Text(0.03903441191576785, 0.5, 'x[6] <= 0.006\\nsquared_error = 27.556\\nsamples = 3\\nvalue = 60.333'),\n",
       " Text(0.03697996918335902, 0.4523809523809524, 'squared_error = 0.0\\nsamples = 1\\nvalue = 53.0'),\n",
       " Text(0.04108885464817668, 0.4523809523809524, 'x[8] <= -0.074\\nsquared_error = 1.0\\nsamples = 2\\nvalue = 64.0'),\n",
       " Text(0.03903441191576785, 0.40476190476190477, 'squared_error = 0.0\\nsamples = 1\\nvalue = 63.0'),\n",
       " Text(0.04314329738058552, 0.40476190476190477, 'squared_error = 0.0\\nsamples = 1\\nvalue = 65.0'),\n",
       " Text(0.04725218284540318, 0.5, 'x[8] <= -0.069\\nsquared_error = 30.25\\nsamples = 2\\nvalue = 36.5'),\n",
       " Text(0.04519774011299435, 0.4523809523809524, 'squared_error = 0.0\\nsamples = 1\\nvalue = 42.0'),\n",
       " Text(0.04930662557781202, 0.4523809523809524, 'squared_error = 0.0\\nsamples = 1\\nvalue = 31.0'),\n",
       " Text(0.04930662557781202, 0.5952380952380952, 'x[7] <= 0.016\\nsquared_error = 756.25\\nsamples = 2\\nvalue = 155.5'),\n",
       " Text(0.04725218284540318, 0.5476190476190477, 'squared_error = 0.0\\nsamples = 1\\nvalue = 128.0'),\n",
       " Text(0.05136106831022085, 0.5476190476190477, 'squared_error = 0.0\\nsamples = 1\\nvalue = 183.0'),\n",
       " Text(0.06394453004622497, 0.6904761904761905, 'x[3] <= -0.03\\nsquared_error = 2795.667\\nsamples = 18\\nvalue = 140.333'),\n",
       " Text(0.05546995377503852, 0.6428571428571429, 'x[6] <= -0.01\\nsquared_error = 194.0\\nsamples = 3\\nvalue = 195.0'),\n",
       " Text(0.05341551104262968, 0.5952380952380952, 'squared_error = 0.0\\nsamples = 1\\nvalue = 214.0'),\n",
       " Text(0.05752439650744735, 0.5952380952380952, 'x[2] <= -0.032\\nsquared_error = 20.25\\nsamples = 2\\nvalue = 185.5'),\n",
       " Text(0.05546995377503852, 0.5476190476190477, 'squared_error = 0.0\\nsamples = 1\\nvalue = 181.0'),\n",
       " Text(0.05957883923985619, 0.5476190476190477, 'squared_error = 0.0\\nsamples = 1\\nvalue = 190.0'),\n",
       " Text(0.0724191063174114, 0.6428571428571429, 'x[3] <= 0.101\\nsquared_error = 2598.773\\nsamples = 15\\nvalue = 129.4'),\n",
       " Text(0.07036466358500257, 0.5952380952380952, 'x[6] <= 0.01\\nsquared_error = 2210.454\\nsamples = 14\\nvalue = 123.214'),\n",
       " Text(0.06368772470467386, 0.5476190476190477, 'x[3] <= 0.032\\nsquared_error = 1767.111\\nsamples = 9\\nvalue = 140.0'),\n",
       " Text(0.061633281972265024, 0.5, 'x[9] <= -0.028\\nsquared_error = 848.938\\nsamples = 8\\nvalue = 151.25'),\n",
       " Text(0.05649717514124294, 0.4523809523809524, 'x[9] <= -0.04\\nsquared_error = 289.0\\nsamples = 2\\nvalue = 118.0'),\n",
       " Text(0.054442732408834106, 0.40476190476190477, 'squared_error = 0.0\\nsamples = 1\\nvalue = 135.0'),\n",
       " Text(0.05855161787365177, 0.40476190476190477, 'squared_error = 0.0\\nsamples = 1\\nvalue = 101.0'),\n",
       " Text(0.0667693888032871, 0.4523809523809524, 'x[0] <= 0.02\\nsquared_error = 544.222\\nsamples = 6\\nvalue = 162.333'),\n",
       " Text(0.06266050333846944, 0.40476190476190477, 'x[6] <= -0.016\\nsquared_error = 178.667\\nsamples = 3\\nvalue = 182.0'),\n",
       " Text(0.06060606060606061, 0.35714285714285715, 'squared_error = 0.0\\nsamples = 1\\nvalue = 200.0'),\n",
       " Text(0.06471494607087827, 0.35714285714285715, 'x[8] <= -0.047\\nsquared_error = 25.0\\nsamples = 2\\nvalue = 173.0'),\n",
       " Text(0.06266050333846944, 0.30952380952380953, 'squared_error = 0.0\\nsamples = 1\\nvalue = 178.0'),\n",
       " Text(0.0667693888032871, 0.30952380952380953, 'squared_error = 0.0\\nsamples = 1\\nvalue = 168.0'),\n",
       " Text(0.07087827426810478, 0.40476190476190477, 'x[9] <= 0.005\\nsquared_error = 136.222\\nsamples = 3\\nvalue = 142.667'),\n",
       " Text(0.06882383153569595, 0.35714285714285715, 'squared_error = 0.0\\nsamples = 1\\nvalue = 127.0'),\n",
       " Text(0.07293271700051361, 0.35714285714285715, 'x[7] <= -0.003\\nsquared_error = 20.25\\nsamples = 2\\nvalue = 150.5'),\n",
       " Text(0.07087827426810478, 0.30952380952380953, 'squared_error = 0.0\\nsamples = 1\\nvalue = 155.0'),\n",
       " Text(0.07498715973292244, 0.30952380952380953, 'squared_error = 0.0\\nsamples = 1\\nvalue = 146.0'),\n",
       " Text(0.0657421674370827, 0.5, 'squared_error = 0.0\\nsamples = 1\\nvalue = 50.0'),\n",
       " Text(0.07704160246533127, 0.5476190476190477, 'x[9] <= -0.032\\nsquared_error = 1588.4\\nsamples = 5\\nvalue = 93.0'),\n",
       " Text(0.07498715973292244, 0.5, 'squared_error = 0.0\\nsamples = 1\\nvalue = 25.0'),\n",
       " Text(0.07909604519774012, 0.5, 'x[5] <= -0.006\\nsquared_error = 540.5\\nsamples = 4\\nvalue = 110.0'),\n",
       " Text(0.07704160246533127, 0.4523809523809524, 'squared_error = 0.0\\nsamples = 1\\nvalue = 144.0'),\n",
       " Text(0.08115048793014895, 0.4523809523809524, 'x[0] <= -0.006\\nsquared_error = 206.889\\nsamples = 3\\nvalue = 98.667'),\n",
       " Text(0.07909604519774012, 0.40476190476190477, 'x[9] <= 0.011\\nsquared_error = 20.25\\nsamples = 2\\nvalue = 108.5'),\n",
       " Text(0.07704160246533127, 0.35714285714285715, 'squared_error = 0.0\\nsamples = 1\\nvalue = 113.0'),\n",
       " Text(0.08115048793014895, 0.35714285714285715, 'squared_error = 0.0\\nsamples = 1\\nvalue = 104.0'),\n",
       " Text(0.08320493066255778, 0.40476190476190477, 'squared_error = 0.0\\nsamples = 1\\nvalue = 79.0'),\n",
       " Text(0.07447354904982023, 0.5952380952380952, 'squared_error = 0.0\\nsamples = 1\\nvalue = 216.0'),\n",
       " Text(0.1384180790960452, 0.7380952380952381, 'x[9] <= -0.028\\nsquared_error = 1836.423\\nsamples = 46\\nvalue = 94.522'),\n",
       " Text(0.10220852593733949, 0.6904761904761905, 'x[2] <= -0.047\\nsquared_error = 544.506\\nsamples = 18\\nvalue = 74.222'),\n",
       " Text(0.09553158705701079, 0.6428571428571429, 'x[6] <= -0.001\\nsquared_error = 576.609\\nsamples = 8\\nvalue = 88.875'),\n",
       " Text(0.09347714432460195, 0.5952380952380952, 'x[8] <= -0.062\\nsquared_error = 264.98\\nsamples = 7\\nvalue = 81.857'),\n",
       " Text(0.08936825885978428, 0.5476190476190477, 'x[6] <= -0.027\\nsquared_error = 99.5\\nsamples = 4\\nvalue = 70.0'),\n",
       " Text(0.08731381612737545, 0.5, 'squared_error = 0.0\\nsamples = 1\\nvalue = 55.0'),\n",
       " Text(0.09142270159219312, 0.5, 'x[6] <= -0.005\\nsquared_error = 32.667\\nsamples = 3\\nvalue = 75.0'),\n",
       " Text(0.08936825885978428, 0.4523809523809524, 'x[9] <= -0.08\\nsquared_error = 1.0\\nsamples = 2\\nvalue = 71.0'),\n",
       " Text(0.08731381612737545, 0.40476190476190477, 'squared_error = 0.0\\nsamples = 1\\nvalue = 70.0'),\n",
       " Text(0.09142270159219312, 0.40476190476190477, 'squared_error = 0.0\\nsamples = 1\\nvalue = 72.0'),\n",
       " Text(0.09347714432460195, 0.4523809523809524, 'squared_error = 0.0\\nsamples = 1\\nvalue = 83.0'),\n",
       " Text(0.09758602978941962, 0.5476190476190477, 'x[4] <= -0.084\\nsquared_error = 48.222\\nsamples = 3\\nvalue = 97.667'),\n",
       " Text(0.09553158705701079, 0.5, 'squared_error = 0.0\\nsamples = 1\\nvalue = 88.0'),\n",
       " Text(0.09964047252182845, 0.5, 'x[2] <= -0.084\\nsquared_error = 2.25\\nsamples = 2\\nvalue = 102.5'),\n",
       " Text(0.09758602978941962, 0.4523809523809524, 'squared_error = 0.0\\nsamples = 1\\nvalue = 104.0'),\n",
       " Text(0.1016949152542373, 0.4523809523809524, 'squared_error = 0.0\\nsamples = 1\\nvalue = 101.0'),\n",
       " Text(0.09758602978941962, 0.5952380952380952, 'squared_error = 0.0\\nsamples = 1\\nvalue = 138.0'),\n",
       " Text(0.10888546481766821, 0.6428571428571429, 'x[8] <= -0.008\\nsquared_error = 209.65\\nsamples = 10\\nvalue = 62.5'),\n",
       " Text(0.10683102208525937, 0.5952380952380952, 'x[8] <= -0.099\\nsquared_error = 125.506\\nsamples = 9\\nvalue = 59.222'),\n",
       " Text(0.10477657935285054, 0.5476190476190477, 'squared_error = 0.0\\nsamples = 1\\nvalue = 78.0'),\n",
       " Text(0.10888546481766821, 0.5476190476190477, 'x[5] <= -0.061\\nsquared_error = 91.609\\nsamples = 8\\nvalue = 56.875'),\n",
       " Text(0.10683102208525937, 0.5, 'squared_error = 0.0\\nsamples = 2\\nvalue = 71.0'),\n",
       " Text(0.11093990755007704, 0.5, 'x[6] <= -0.021\\nsquared_error = 33.472\\nsamples = 6\\nvalue = 52.167'),\n",
       " Text(0.10580380071905496, 0.4523809523809524, 'x[7] <= 0.007\\nsquared_error = 9.0\\nsamples = 2\\nvalue = 58.0'),\n",
       " Text(0.10374935798664613, 0.40476190476190477, 'squared_error = 0.0\\nsamples = 1\\nvalue = 55.0'),\n",
       " Text(0.10785824345146379, 0.40476190476190477, 'squared_error = 0.0\\nsamples = 1\\nvalue = 61.0'),\n",
       " Text(0.11607601438109913, 0.4523809523809524, 'x[9] <= -0.047\\nsquared_error = 20.188\\nsamples = 4\\nvalue = 49.25'),\n",
       " Text(0.11196712891628145, 0.40476190476190477, 'x[5] <= 0.009\\nsquared_error = 0.25\\nsamples = 2\\nvalue = 53.5'),\n",
       " Text(0.10991268618387262, 0.35714285714285715, 'squared_error = 0.0\\nsamples = 1\\nvalue = 53.0'),\n",
       " Text(0.1140215716486903, 0.35714285714285715, 'squared_error = 0.0\\nsamples = 1\\nvalue = 54.0'),\n",
       " Text(0.12018489984591679, 0.40476190476190477, 'x[0] <= -0.035\\nsquared_error = 4.0\\nsamples = 2\\nvalue = 45.0'),\n",
       " Text(0.11813045711350796, 0.35714285714285715, 'squared_error = 0.0\\nsamples = 1\\nvalue = 43.0'),\n",
       " Text(0.12223934257832562, 0.35714285714285715, 'squared_error = 0.0\\nsamples = 1\\nvalue = 47.0'),\n",
       " Text(0.11093990755007704, 0.5952380952380952, 'squared_error = 0.0\\nsamples = 1\\nvalue = 92.0'),\n",
       " Text(0.1746276322547509, 0.6904761904761905, 'x[6] <= 0.003\\nsquared_error = 2231.745\\nsamples = 28\\nvalue = 107.571'),\n",
       " Text(0.1561376476630714, 0.6428571428571429, 'x[0] <= 0.08\\nsquared_error = 1452.45\\nsamples = 20\\nvalue = 95.5'),\n",
       " Text(0.15408320493066255, 0.5952380952380952, 'x[2] <= -0.012\\nsquared_error = 935.418\\nsamples = 19\\nvalue = 90.053'),\n",
       " Text(0.14072932717000514, 0.5476190476190477, 'x[5] <= -0.023\\nsquared_error = 890.329\\nsamples = 15\\nvalue = 97.267'),\n",
       " Text(0.1325115562403698, 0.5, 'x[6] <= -0.007\\nsquared_error = 1023.5\\nsamples = 4\\nvalue = 121.0'),\n",
       " Text(0.13045711350796096, 0.4523809523809524, 'x[6] <= -0.021\\nsquared_error = 253.556\\nsamples = 3\\nvalue = 137.667'),\n",
       " Text(0.12840267077555212, 0.40476190476190477, 'x[7] <= -0.013\\nsquared_error = 6.25\\nsamples = 2\\nvalue = 126.5'),\n",
       " Text(0.1263482280431433, 0.35714285714285715, 'squared_error = 0.0\\nsamples = 1\\nvalue = 129.0'),\n",
       " Text(0.13045711350796096, 0.35714285714285715, 'squared_error = 0.0\\nsamples = 1\\nvalue = 124.0'),\n",
       " Text(0.1325115562403698, 0.40476190476190477, 'squared_error = 0.0\\nsamples = 1\\nvalue = 160.0'),\n",
       " Text(0.13456599897277863, 0.4523809523809524, 'squared_error = 0.0\\nsamples = 1\\nvalue = 71.0'),\n",
       " Text(0.14894709809964046, 0.5, 'x[2] <= -0.022\\nsquared_error = 562.595\\nsamples = 11\\nvalue = 88.636'),\n",
       " Text(0.14072932717000514, 0.4523809523809524, 'x[8] <= -0.023\\nsquared_error = 237.0\\nsamples = 4\\nvalue = 66.0'),\n",
       " Text(0.13662044170518747, 0.40476190476190477, 'x[5] <= 0.035\\nsquared_error = 81.0\\nsamples = 2\\nvalue = 80.0'),\n",
       " Text(0.13456599897277863, 0.35714285714285715, 'squared_error = 0.0\\nsamples = 1\\nvalue = 71.0'),\n",
       " Text(0.1386748844375963, 0.35714285714285715, 'squared_error = 0.0\\nsamples = 1\\nvalue = 89.0'),\n",
       " Text(0.1448382126348228, 0.40476190476190477, 'x[6] <= -0.018\\nsquared_error = 1.0\\nsamples = 2\\nvalue = 52.0'),\n",
       " Text(0.14278376990241398, 0.35714285714285715, 'squared_error = 0.0\\nsamples = 1\\nvalue = 51.0'),\n",
       " Text(0.14689265536723164, 0.35714285714285715, 'squared_error = 0.0\\nsamples = 1\\nvalue = 53.0'),\n",
       " Text(0.15716486902927582, 0.4523809523809524, 'x[5] <= -0.015\\nsquared_error = 288.531\\nsamples = 7\\nvalue = 101.571'),\n",
       " Text(0.15305598356445815, 0.40476190476190477, 'x[8] <= -0.019\\nsquared_error = 9.0\\nsamples = 2\\nvalue = 80.0'),\n",
       " Text(0.1510015408320493, 0.35714285714285715, 'squared_error = 0.0\\nsamples = 1\\nvalue = 83.0'),\n",
       " Text(0.15511042629686697, 0.35714285714285715, 'squared_error = 0.0\\nsamples = 1\\nvalue = 77.0'),\n",
       " Text(0.16127375449409348, 0.40476190476190477, 'x[8] <= -0.032\\nsquared_error = 139.76\\nsamples = 5\\nvalue = 110.2'),\n",
       " Text(0.15921931176168463, 0.35714285714285715, 'squared_error = 0.0\\nsamples = 1\\nvalue = 132.0'),\n",
       " Text(0.1633281972265023, 0.35714285714285715, 'x[5] <= 0.028\\nsquared_error = 26.188\\nsamples = 4\\nvalue = 104.75'),\n",
       " Text(0.16127375449409348, 0.30952380952380953, 'squared_error = 0.0\\nsamples = 1\\nvalue = 97.0'),\n",
       " Text(0.16538263995891114, 0.30952380952380953, 'x[9] <= 0.007\\nsquared_error = 8.222\\nsamples = 3\\nvalue = 107.333'),\n",
       " Text(0.1633281972265023, 0.2619047619047619, 'squared_error = 0.0\\nsamples = 1\\nvalue = 111.0'),\n",
       " Text(0.16743708269132, 0.2619047619047619, 'x[9] <= 0.034\\nsquared_error = 2.25\\nsamples = 2\\nvalue = 105.5'),\n",
       " Text(0.16538263995891114, 0.21428571428571427, 'squared_error = 0.0\\nsamples = 1\\nvalue = 107.0'),\n",
       " Text(0.1694915254237288, 0.21428571428571427, 'squared_error = 0.0\\nsamples = 1\\nvalue = 104.0'),\n",
       " Text(0.16743708269132, 0.5476190476190477, 'x[9] <= 0.022\\nsquared_error = 177.5\\nsamples = 4\\nvalue = 63.0'),\n",
       " Text(0.1633281972265023, 0.5, 'x[9] <= -0.001\\nsquared_error = 64.0\\nsamples = 2\\nvalue = 52.0'),\n",
       " Text(0.16127375449409348, 0.4523809523809524, 'squared_error = 0.0\\nsamples = 1\\nvalue = 44.0'),\n",
       " Text(0.16538263995891114, 0.4523809523809524, 'squared_error = 0.0\\nsamples = 1\\nvalue = 60.0'),\n",
       " Text(0.17154596815613765, 0.5, 'x[8] <= -0.036\\nsquared_error = 49.0\\nsamples = 2\\nvalue = 74.0'),\n",
       " Text(0.1694915254237288, 0.4523809523809524, 'squared_error = 0.0\\nsamples = 1\\nvalue = 67.0'),\n",
       " Text(0.17360041088854647, 0.4523809523809524, 'squared_error = 0.0\\nsamples = 1\\nvalue = 81.0'),\n",
       " Text(0.15819209039548024, 0.5952380952380952, 'squared_error = 0.0\\nsamples = 1\\nvalue = 199.0'),\n",
       " Text(0.19311761684643042, 0.6428571428571429, 'x[3] <= 0.003\\nsquared_error = 2904.938\\nsamples = 8\\nvalue = 137.75'),\n",
       " Text(0.1859270672829995, 0.5952380952380952, 'x[2] <= -0.029\\nsquared_error = 908.56\\nsamples = 5\\nvalue = 101.2'),\n",
       " Text(0.18181818181818182, 0.5476190476190477, 'x[8] <= -0.029\\nsquared_error = 72.667\\nsamples = 3\\nvalue = 123.0'),\n",
       " Text(0.17976373908577298, 0.5, 'x[3] <= -0.025\\nsquared_error = 1.0\\nsamples = 2\\nvalue = 117.0'),\n",
       " Text(0.17770929635336416, 0.4523809523809524, 'squared_error = 0.0\\nsamples = 1\\nvalue = 116.0'),\n",
       " Text(0.18181818181818182, 0.4523809523809524, 'squared_error = 0.0\\nsamples = 1\\nvalue = 118.0'),\n",
       " Text(0.18387262455059064, 0.5, 'squared_error = 0.0\\nsamples = 1\\nvalue = 135.0'),\n",
       " Text(0.19003595274781715, 0.5476190476190477, 'x[9] <= -0.005\\nsquared_error = 380.25\\nsamples = 2\\nvalue = 68.5'),\n",
       " Text(0.18798151001540833, 0.5, 'squared_error = 0.0\\nsamples = 1\\nvalue = 49.0'),\n",
       " Text(0.192090395480226, 0.5, 'squared_error = 0.0\\nsamples = 1\\nvalue = 88.0'),\n",
       " Text(0.20030816640986132, 0.5952380952380952, 'x[5] <= 0.001\\nsquared_error = 294.889\\nsamples = 3\\nvalue = 198.667'),\n",
       " Text(0.1982537236774525, 0.5476190476190477, 'x[2] <= -0.022\\nsquared_error = 90.25\\nsamples = 2\\nvalue = 209.5'),\n",
       " Text(0.19619928094504366, 0.5, 'squared_error = 0.0\\nsamples = 1\\nvalue = 200.0'),\n",
       " Text(0.20030816640986132, 0.5, 'squared_error = 0.0\\nsamples = 1\\nvalue = 219.0'),\n",
       " Text(0.20236260914227017, 0.5476190476190477, 'squared_error = 0.0\\nsamples = 1\\nvalue = 177.0'),\n",
       " Text(0.1445814072932717, 0.7857142857142857, 'x[0] <= 0.056\\nsquared_error = 132.25\\nsamples = 2\\nvalue = 241.5'),\n",
       " Text(0.14252696456086286, 0.7380952380952381, 'squared_error = 0.0\\nsamples = 1\\nvalue = 253.0'),\n",
       " Text(0.14663585002568053, 0.7380952380952381, 'squared_error = 0.0\\nsamples = 1\\nvalue = 230.0'),\n",
       " Text(0.3018265279917822, 0.8333333333333334, 'x[1] <= 0.003\\nsquared_error = 1076.471\\nsamples = 84\\nvalue = 83.369'),\n",
       " Text(0.2569658448895737, 0.7857142857142857, 'x[2] <= -0.063\\nsquared_error = 1193.75\\nsamples = 64\\nvalue = 88.0'),\n",
       " Text(0.20955315870570107, 0.7380952380952381, 'x[0] <= -0.1\\nsquared_error = 645.673\\nsamples = 14\\nvalue = 68.571'),\n",
       " Text(0.20749871597329225, 0.6904761904761905, 'squared_error = 0.0\\nsamples = 1\\nvalue = 137.0'),\n",
       " Text(0.21160760143810992, 0.6904761904761905, 'x[8] <= -0.065\\nsquared_error = 307.444\\nsamples = 13\\nvalue = 63.308'),\n",
       " Text(0.20647149460708783, 0.6428571428571429, 'x[9] <= -0.034\\nsquared_error = 6.25\\nsamples = 2\\nvalue = 87.5'),\n",
       " Text(0.20441705187467898, 0.5952380952380952, 'squared_error = 0.0\\nsamples = 1\\nvalue = 90.0'),\n",
       " Text(0.20852593733949668, 0.5952380952380952, 'squared_error = 0.0\\nsamples = 1\\nvalue = 85.0'),\n",
       " Text(0.216743708269132, 0.6428571428571429, 'x[3] <= -0.083\\nsquared_error = 236.446\\nsamples = 11\\nvalue = 58.909'),\n",
       " Text(0.21263482280431434, 0.5952380952380952, 'x[5] <= -0.026\\nsquared_error = 144.0\\nsamples = 2\\nvalue = 84.0'),\n",
       " Text(0.2105803800719055, 0.5476190476190477, 'squared_error = 0.0\\nsamples = 1\\nvalue = 72.0'),\n",
       " Text(0.21468926553672316, 0.5476190476190477, 'squared_error = 0.0\\nsamples = 1\\nvalue = 96.0'),\n",
       " Text(0.22085259373394966, 0.5952380952380952, 'x[0] <= 0.029\\nsquared_error = 86.0\\nsamples = 9\\nvalue = 53.333'),\n",
       " Text(0.21879815100154082, 0.5476190476190477, 'x[5] <= -0.079\\nsquared_error = 47.75\\nsamples = 8\\nvalue = 51.0'),\n",
       " Text(0.216743708269132, 0.5, 'squared_error = 0.0\\nsamples = 1\\nvalue = 37.0'),\n",
       " Text(0.22085259373394966, 0.5, 'x[2] <= -0.068\\nsquared_error = 22.571\\nsamples = 7\\nvalue = 53.0'),\n",
       " Text(0.21879815100154082, 0.4523809523809524, 'x[6] <= 0.133\\nsquared_error = 11.44\\nsamples = 5\\nvalue = 50.6'),\n",
       " Text(0.216743708269132, 0.40476190476190477, 'x[0] <= -0.069\\nsquared_error = 1.5\\nsamples = 4\\nvalue = 49.0'),\n",
       " Text(0.21468926553672316, 0.35714285714285715, 'squared_error = 0.0\\nsamples = 1\\nvalue = 51.0'),\n",
       " Text(0.21879815100154082, 0.35714285714285715, 'x[5] <= -0.005\\nsquared_error = 0.222\\nsamples = 3\\nvalue = 48.333'),\n",
       " Text(0.216743708269132, 0.30952380952380953, 'squared_error = 0.0\\nsamples = 2\\nvalue = 48.0'),\n",
       " Text(0.22085259373394966, 0.30952380952380953, 'squared_error = 0.0\\nsamples = 1\\nvalue = 49.0'),\n",
       " Text(0.22085259373394966, 0.40476190476190477, 'squared_error = 0.0\\nsamples = 1\\nvalue = 57.0'),\n",
       " Text(0.2229070364663585, 0.4523809523809524, 'squared_error = 0.0\\nsamples = 2\\nvalue = 59.0'),\n",
       " Text(0.2229070364663585, 0.5476190476190477, 'squared_error = 0.0\\nsamples = 1\\nvalue = 72.0'),\n",
       " Text(0.3043785310734463, 0.7380952380952381, 'x[3] <= 0.025\\nsquared_error = 1211.926\\nsamples = 50\\nvalue = 93.44'),\n",
       " Text(0.2923728813559322, 0.6904761904761905, 'x[2] <= -0.013\\nsquared_error = 1092.947\\nsamples = 48\\nvalue = 91.396'),\n",
       " Text(0.27452491011813046, 0.6428571428571429, 'x[8] <= -0.011\\nsquared_error = 1086.812\\nsamples = 38\\nvalue = 97.632'),\n",
       " Text(0.2542372881355932, 0.5952380952380952, 'x[0] <= -0.04\\nsquared_error = 954.217\\nsamples = 35\\nvalue = 94.2'),\n",
       " Text(0.2352336928608115, 0.5476190476190477, 'x[5] <= -0.081\\nsquared_error = 442.222\\nsamples = 9\\nvalue = 114.333'),\n",
       " Text(0.229070364663585, 0.5, 'x[0] <= -0.073\\nsquared_error = 20.25\\nsamples = 2\\nvalue = 147.5'),\n",
       " Text(0.22701592193117617, 0.4523809523809524, 'squared_error = 0.0\\nsamples = 1\\nvalue = 152.0'),\n",
       " Text(0.23112480739599384, 0.4523809523809524, 'squared_error = 0.0\\nsamples = 1\\nvalue = 143.0'),\n",
       " Text(0.241397021058038, 0.5, 'x[2] <= -0.044\\nsquared_error = 158.694\\nsamples = 7\\nvalue = 104.857'),\n",
       " Text(0.2352336928608115, 0.4523809523809524, 'x[3] <= -0.031\\nsquared_error = 107.188\\nsamples = 4\\nvalue = 113.25'),\n",
       " Text(0.23317925012840268, 0.40476190476190477, 'squared_error = 0.0\\nsamples = 1\\nvalue = 128.0'),\n",
       " Text(0.23728813559322035, 0.40476190476190477, 'x[8] <= -0.062\\nsquared_error = 46.222\\nsamples = 3\\nvalue = 108.333'),\n",
       " Text(0.2352336928608115, 0.35714285714285715, 'squared_error = 0.0\\nsamples = 1\\nvalue = 99.0'),\n",
       " Text(0.23934257832562916, 0.35714285714285715, 'x[3] <= -0.023\\nsquared_error = 4.0\\nsamples = 2\\nvalue = 113.0'),\n",
       " Text(0.23728813559322035, 0.30952380952380953, 'squared_error = 0.0\\nsamples = 1\\nvalue = 115.0'),\n",
       " Text(0.241397021058038, 0.30952380952380953, 'squared_error = 0.0\\nsamples = 1\\nvalue = 111.0'),\n",
       " Text(0.24756034925526452, 0.4523809523809524, 'x[6] <= 0.063\\nsquared_error = 8.222\\nsamples = 3\\nvalue = 93.667'),\n",
       " Text(0.24550590652285567, 0.40476190476190477, 'x[3] <= -0.021\\nsquared_error = 2.25\\nsamples = 2\\nvalue = 95.5'),\n",
       " Text(0.24345146379044685, 0.35714285714285715, 'squared_error = 0.0\\nsamples = 1\\nvalue = 94.0'),\n",
       " Text(0.24756034925526452, 0.35714285714285715, 'squared_error = 0.0\\nsamples = 1\\nvalue = 97.0'),\n",
       " Text(0.24961479198767333, 0.40476190476190477, 'squared_error = 0.0\\nsamples = 1\\nvalue = 90.0'),\n",
       " Text(0.27324088341037495, 0.5476190476190477, 'x[2] <= -0.03\\nsquared_error = 942.562\\nsamples = 26\\nvalue = 87.231'),\n",
       " Text(0.2598870056497175, 0.5, 'x[4] <= 0.049\\nsquared_error = 705.627\\nsamples = 20\\nvalue = 80.65'),\n",
       " Text(0.25783256291730866, 0.4523809523809524, 'x[6] <= 0.027\\nsquared_error = 411.296\\nsamples = 19\\nvalue = 76.579'),\n",
       " Text(0.25577812018489987, 0.40476190476190477, 'squared_error = 0.0\\nsamples = 1\\nvalue = 40.0'),\n",
       " Text(0.2598870056497175, 0.40476190476190477, 'x[4] <= -0.055\\nsquared_error = 355.682\\nsamples = 18\\nvalue = 78.611'),\n",
       " Text(0.2516692347200822, 0.35714285714285715, 'x[6] <= 0.038\\nsquared_error = 30.25\\nsamples = 2\\nvalue = 119.5'),\n",
       " Text(0.24961479198767333, 0.30952380952380953, 'squared_error = 0.0\\nsamples = 1\\nvalue = 125.0'),\n",
       " Text(0.253723677452491, 0.30952380952380953, 'squared_error = 0.0\\nsamples = 1\\nvalue = 114.0'),\n",
       " Text(0.26810477657935283, 0.35714285714285715, 'x[0] <= 0.004\\nsquared_error = 161.25\\nsamples = 16\\nvalue = 73.5'),\n",
       " Text(0.25783256291730866, 0.30952380952380953, 'x[8] <= -0.069\\nsquared_error = 55.633\\nsamples = 7\\nvalue = 65.714'),\n",
       " Text(0.25577812018489987, 0.2619047619047619, 'squared_error = 0.0\\nsamples = 1\\nvalue = 52.0'),\n",
       " Text(0.2598870056497175, 0.2619047619047619, 'x[4] <= -0.019\\nsquared_error = 28.333\\nsamples = 6\\nvalue = 68.0'),\n",
       " Text(0.25577812018489987, 0.21428571428571427, 'x[5] <= -0.082\\nsquared_error = 4.667\\nsamples = 3\\nvalue = 63.0'),\n",
       " Text(0.253723677452491, 0.16666666666666666, 'squared_error = 0.0\\nsamples = 1\\nvalue = 60.0'),\n",
       " Text(0.25783256291730866, 0.16666666666666666, 'x[4] <= -0.041\\nsquared_error = 0.25\\nsamples = 2\\nvalue = 64.5'),\n",
       " Text(0.25577812018489987, 0.11904761904761904, 'squared_error = 0.0\\nsamples = 1\\nvalue = 64.0'),\n",
       " Text(0.2598870056497175, 0.11904761904761904, 'squared_error = 0.0\\nsamples = 1\\nvalue = 65.0'),\n",
       " Text(0.2639958911145352, 0.21428571428571427, 'x[3] <= -0.028\\nsquared_error = 2.0\\nsamples = 3\\nvalue = 73.0'),\n",
       " Text(0.26194144838212635, 0.16666666666666666, 'squared_error = 0.0\\nsamples = 2\\nvalue = 72.0'),\n",
       " Text(0.26605033384694404, 0.16666666666666666, 'squared_error = 0.0\\nsamples = 1\\nvalue = 75.0'),\n",
       " Text(0.278376990241397, 0.30952380952380953, 'x[0] <= 0.018\\nsquared_error = 159.58\\nsamples = 9\\nvalue = 79.556'),\n",
       " Text(0.27426810477657937, 0.2619047619047619, 'x[4] <= 0.022\\nsquared_error = 14.0\\nsamples = 3\\nvalue = 92.0'),\n",
       " Text(0.2722136620441705, 0.21428571428571427, 'x[5] <= -0.03\\nsquared_error = 2.25\\nsamples = 2\\nvalue = 94.5'),\n",
       " Text(0.2701592193117617, 0.16666666666666666, 'squared_error = 0.0\\nsamples = 1\\nvalue = 93.0'),\n",
       " Text(0.27426810477657937, 0.16666666666666666, 'squared_error = 0.0\\nsamples = 1\\nvalue = 96.0'),\n",
       " Text(0.2763225475089882, 0.21428571428571427, 'squared_error = 0.0\\nsamples = 1\\nvalue = 87.0'),\n",
       " Text(0.2824858757062147, 0.2619047619047619, 'x[2] <= -0.06\\nsquared_error = 116.222\\nsamples = 6\\nvalue = 73.333'),\n",
       " Text(0.28043143297380585, 0.21428571428571427, 'squared_error = 0.0\\nsamples = 1\\nvalue = 89.0'),\n",
       " Text(0.28454031843862354, 0.21428571428571427, 'x[8] <= -0.022\\nsquared_error = 80.56\\nsamples = 5\\nvalue = 70.2'),\n",
       " Text(0.2824858757062147, 0.16666666666666666, 'x[3] <= -0.019\\nsquared_error = 12.5\\nsamples = 4\\nvalue = 66.0'),\n",
       " Text(0.28043143297380585, 0.11904761904761904, 'x[4] <= -0.024\\nsquared_error = 0.667\\nsamples = 3\\nvalue = 64.0'),\n",
       " Text(0.278376990241397, 0.07142857142857142, 'squared_error = 0.0\\nsamples = 1\\nvalue = 65.0'),\n",
       " Text(0.2824858757062147, 0.07142857142857142, 'x[8] <= -0.044\\nsquared_error = 0.25\\nsamples = 2\\nvalue = 63.5'),\n",
       " Text(0.28043143297380585, 0.023809523809523808, 'squared_error = 0.0\\nsamples = 1\\nvalue = 63.0'),\n",
       " Text(0.28454031843862354, 0.023809523809523808, 'squared_error = 0.0\\nsamples = 1\\nvalue = 64.0'),\n",
       " Text(0.28454031843862354, 0.11904761904761904, 'squared_error = 0.0\\nsamples = 1\\nvalue = 72.0'),\n",
       " Text(0.28659476117103233, 0.16666666666666666, 'squared_error = 0.0\\nsamples = 1\\nvalue = 87.0'),\n",
       " Text(0.26194144838212635, 0.4523809523809524, 'squared_error = 0.0\\nsamples = 1\\nvalue = 158.0'),\n",
       " Text(0.28659476117103233, 0.5, 'x[3] <= -0.011\\nsquared_error = 1106.806\\nsamples = 6\\nvalue = 109.167'),\n",
       " Text(0.28454031843862354, 0.4523809523809524, 'x[0] <= 0.033\\nsquared_error = 157.76\\nsamples = 5\\nvalue = 95.2'),\n",
       " Text(0.2824858757062147, 0.40476190476190477, 'x[0] <= 0.011\\nsquared_error = 34.75\\nsamples = 4\\nvalue = 89.5'),\n",
       " Text(0.28043143297380585, 0.35714285714285715, 'squared_error = 0.0\\nsamples = 2\\nvalue = 84.0'),\n",
       " Text(0.28454031843862354, 0.35714285714285715, 'x[8] <= -0.057\\nsquared_error = 9.0\\nsamples = 2\\nvalue = 95.0'),\n",
       " Text(0.2824858757062147, 0.30952380952380953, 'squared_error = 0.0\\nsamples = 1\\nvalue = 98.0'),\n",
       " Text(0.28659476117103233, 0.30952380952380953, 'squared_error = 0.0\\nsamples = 1\\nvalue = 92.0'),\n",
       " Text(0.28659476117103233, 0.40476190476190477, 'squared_error = 0.0\\nsamples = 1\\nvalue = 118.0'),\n",
       " Text(0.2886492039034412, 0.4523809523809524, 'squared_error = 0.0\\nsamples = 1\\nvalue = 179.0'),\n",
       " Text(0.2948125321006677, 0.5952380952380952, 'x[5] <= 0.005\\nsquared_error = 893.556\\nsamples = 3\\nvalue = 137.667'),\n",
       " Text(0.29275808936825887, 0.5476190476190477, 'x[3] <= -0.023\\nsquared_error = 100.0\\nsamples = 2\\nvalue = 158.0'),\n",
       " Text(0.29070364663585, 0.5, 'squared_error = 0.0\\nsamples = 1\\nvalue = 168.0'),\n",
       " Text(0.2948125321006677, 0.5, 'squared_error = 0.0\\nsamples = 1\\nvalue = 148.0'),\n",
       " Text(0.2968669748330765, 0.5476190476190477, 'squared_error = 0.0\\nsamples = 1\\nvalue = 97.0'),\n",
       " Text(0.31022085259373394, 0.6428571428571429, 'x[8] <= -0.038\\nsquared_error = 407.01\\nsamples = 10\\nvalue = 67.7'),\n",
       " Text(0.3050847457627119, 0.5952380952380952, 'x[4] <= 0.022\\nsquared_error = 177.889\\nsamples = 6\\nvalue = 59.667'),\n",
       " Text(0.30303030303030304, 0.5476190476190477, 'x[0] <= -0.007\\nsquared_error = 104.24\\nsamples = 5\\nvalue = 55.4'),\n",
       " Text(0.29892141756548535, 0.5, 'x[0] <= -0.078\\nsquared_error = 12.667\\nsamples = 3\\nvalue = 63.0'),\n",
       " Text(0.2968669748330765, 0.4523809523809524, 'squared_error = 0.0\\nsamples = 1\\nvalue = 68.0'),\n",
       " Text(0.3009758602978942, 0.4523809523809524, 'x[0] <= -0.051\\nsquared_error = 0.25\\nsamples = 2\\nvalue = 60.5'),\n",
       " Text(0.29892141756548535, 0.40476190476190477, 'squared_error = 0.0\\nsamples = 1\\nvalue = 61.0'),\n",
       " Text(0.30303030303030304, 0.40476190476190477, 'squared_error = 0.0\\nsamples = 1\\nvalue = 60.0'),\n",
       " Text(0.3071391884951207, 0.5, 'x[0] <= 0.029\\nsquared_error = 25.0\\nsamples = 2\\nvalue = 44.0'),\n",
       " Text(0.3050847457627119, 0.4523809523809524, 'squared_error = 0.0\\nsamples = 1\\nvalue = 49.0'),\n",
       " Text(0.3091936312275295, 0.4523809523809524, 'squared_error = 0.0\\nsamples = 1\\nvalue = 39.0'),\n",
       " Text(0.3071391884951207, 0.5476190476190477, 'squared_error = 0.0\\nsamples = 1\\nvalue = 81.0'),\n",
       " Text(0.31535695942475606, 0.5952380952380952, 'x[5] <= 0.009\\nsquared_error = 508.688\\nsamples = 4\\nvalue = 79.75'),\n",
       " Text(0.3133025166923472, 0.5476190476190477, 'x[0] <= -0.025\\nsquared_error = 156.25\\nsamples = 2\\nvalue = 100.5'),\n",
       " Text(0.31124807395993837, 0.5, 'squared_error = 0.0\\nsamples = 1\\nvalue = 113.0'),\n",
       " Text(0.31535695942475606, 0.5, 'squared_error = 0.0\\nsamples = 1\\nvalue = 88.0'),\n",
       " Text(0.31741140215716485, 0.5476190476190477, 'squared_error = 0.0\\nsamples = 2\\nvalue = 59.0'),\n",
       " Text(0.3163841807909605, 0.6904761904761905, 'x[4] <= -0.004\\nsquared_error = 1560.25\\nsamples = 2\\nvalue = 142.5'),\n",
       " Text(0.31432973805855163, 0.6428571428571429, 'squared_error = 0.0\\nsamples = 1\\nvalue = 182.0'),\n",
       " Text(0.31843862352336927, 0.6428571428571429, 'squared_error = 0.0\\nsamples = 1\\nvalue = 103.0'),\n",
       " Text(0.34668721109399075, 0.7857142857142857, 'x[0] <= 0.005\\nsquared_error = 412.948\\nsamples = 20\\nvalue = 68.55'),\n",
       " Text(0.33281972265023113, 0.7380952380952381, 'x[6] <= 0.034\\nsquared_error = 145.16\\nsamples = 10\\nvalue = 55.8'),\n",
       " Text(0.3246019517205958, 0.6904761904761905, 'x[4] <= -0.006\\nsquared_error = 24.0\\nsamples = 3\\nvalue = 71.0'),\n",
       " Text(0.32254750898818696, 0.6428571428571429, 'squared_error = 0.0\\nsamples = 1\\nvalue = 77.0'),\n",
       " Text(0.3266563944530046, 0.6428571428571429, 'x[9] <= 0.007\\nsquared_error = 9.0\\nsamples = 2\\nvalue = 68.0'),\n",
       " Text(0.3246019517205958, 0.5952380952380952, 'squared_error = 0.0\\nsamples = 1\\nvalue = 71.0'),\n",
       " Text(0.32871083718541344, 0.5952380952380952, 'squared_error = 0.0\\nsamples = 1\\nvalue = 65.0'),\n",
       " Text(0.34103749357986646, 0.6904761904761905, 'x[0] <= -0.031\\nsquared_error = 55.633\\nsamples = 7\\nvalue = 49.286'),\n",
       " Text(0.33487416538264, 0.6428571428571429, 'x[9] <= 0.015\\nsquared_error = 6.0\\nsamples = 3\\nvalue = 42.0'),\n",
       " Text(0.33281972265023113, 0.5952380952380952, 'squared_error = 0.0\\nsamples = 1\\nvalue = 45.0'),\n",
       " Text(0.33692860811504877, 0.5952380952380952, 'x[3] <= -0.042\\nsquared_error = 2.25\\nsamples = 2\\nvalue = 40.5'),\n",
       " Text(0.33487416538264, 0.5476190476190477, 'squared_error = 0.0\\nsamples = 1\\nvalue = 42.0'),\n",
       " Text(0.3389830508474576, 0.5476190476190477, 'squared_error = 0.0\\nsamples = 1\\nvalue = 39.0'),\n",
       " Text(0.34720082177709294, 0.6428571428571429, 'x[8] <= -0.014\\nsquared_error = 23.188\\nsamples = 4\\nvalue = 54.75'),\n",
       " Text(0.34514637904468415, 0.5952380952380952, 'x[4] <= -0.004\\nsquared_error = 0.667\\nsamples = 3\\nvalue = 52.0'),\n",
       " Text(0.3430919363122753, 0.5476190476190477, 'x[5] <= -0.015\\nsquared_error = 0.25\\nsamples = 2\\nvalue = 51.5'),\n",
       " Text(0.34103749357986646, 0.5, 'squared_error = 0.0\\nsamples = 1\\nvalue = 51.0'),\n",
       " Text(0.34514637904468415, 0.5, 'squared_error = 0.0\\nsamples = 1\\nvalue = 52.0'),\n",
       " Text(0.34720082177709294, 0.5476190476190477, 'squared_error = 0.0\\nsamples = 1\\nvalue = 53.0'),\n",
       " Text(0.3492552645095018, 0.5952380952380952, 'squared_error = 0.0\\nsamples = 1\\nvalue = 63.0'),\n",
       " Text(0.3605546995377504, 0.7380952380952381, 'x[9] <= 0.005\\nsquared_error = 355.61\\nsamples = 10\\nvalue = 81.3'),\n",
       " Text(0.3554185927067283, 0.6904761904761905, 'x[8] <= -0.083\\nsquared_error = 171.061\\nsamples = 7\\nvalue = 71.286'),\n",
       " Text(0.3533641499743195, 0.6428571428571429, 'squared_error = 0.0\\nsamples = 1\\nvalue = 47.0'),\n",
       " Text(0.3574730354391371, 0.6428571428571429, 'x[9] <= -0.009\\nsquared_error = 84.889\\nsamples = 6\\nvalue = 75.333'),\n",
       " Text(0.3533641499743195, 0.5952380952380952, 'x[6] <= 0.036\\nsquared_error = 38.188\\nsamples = 4\\nvalue = 80.75'),\n",
       " Text(0.35130970724191063, 0.5476190476190477, 'squared_error = 0.0\\nsamples = 1\\nvalue = 91.0'),\n",
       " Text(0.3554185927067283, 0.5476190476190477, 'x[0] <= 0.069\\nsquared_error = 4.222\\nsamples = 3\\nvalue = 77.333'),\n",
       " Text(0.3533641499743195, 0.5, 'x[7] <= -0.058\\nsquared_error = 1.0\\nsamples = 2\\nvalue = 76.0'),\n",
       " Text(0.35130970724191063, 0.4523809523809524, 'squared_error = 0.0\\nsamples = 1\\nvalue = 77.0'),\n",
       " Text(0.3554185927067283, 0.4523809523809524, 'squared_error = 0.0\\nsamples = 1\\nvalue = 75.0'),\n",
       " Text(0.3574730354391371, 0.5, 'squared_error = 0.0\\nsamples = 1\\nvalue = 80.0'),\n",
       " Text(0.3615819209039548, 0.5952380952380952, 'x[7] <= -0.011\\nsquared_error = 2.25\\nsamples = 2\\nvalue = 64.5'),\n",
       " Text(0.35952747817154596, 0.5476190476190477, 'squared_error = 0.0\\nsamples = 1\\nvalue = 66.0'),\n",
       " Text(0.36363636363636365, 0.5476190476190477, 'squared_error = 0.0\\nsamples = 1\\nvalue = 63.0'),\n",
       " Text(0.3656908063687725, 0.6904761904761905, 'x[9] <= 0.011\\nsquared_error = 6.222\\nsamples = 3\\nvalue = 104.667'),\n",
       " Text(0.36363636363636365, 0.6428571428571429, 'squared_error = 0.0\\nsamples = 1\\nvalue = 108.0'),\n",
       " Text(0.3677452491011813, 0.6428571428571429, 'x[2] <= -0.039\\nsquared_error = 1.0\\nsamples = 2\\nvalue = 103.0'),\n",
       " Text(0.3656908063687725, 0.5952380952380952, 'squared_error = 0.0\\nsamples = 1\\nvalue = 102.0'),\n",
       " Text(0.3697996918335901, 0.5952380952380952, 'squared_error = 0.0\\nsamples = 1\\nvalue = 104.0'),\n",
       " Text(0.41059964047252184, 0.8809523809523809, 'x[0] <= -0.08\\nsquared_error = 4075.084\\nsamples = 47\\nvalue = 159.745'),\n",
       " Text(0.39201335387776065, 0.8333333333333334, 'x[5] <= 0.022\\nsquared_error = 784.0\\nsamples = 2\\nvalue = 274.0'),\n",
       " Text(0.3899589111453518, 0.7857142857142857, 'squared_error = 0.0\\nsamples = 1\\nvalue = 246.0'),\n",
       " Text(0.3940677966101695, 0.7857142857142857, 'squared_error = 0.0\\nsamples = 1\\nvalue = 302.0'),\n",
       " Text(0.429185927067283, 0.8333333333333334, 'x[3] <= 0.01\\nsquared_error = 3615.378\\nsamples = 45\\nvalue = 154.667'),\n",
       " Text(0.3981766820749872, 0.7857142857142857, 'x[4] <= -0.048\\nsquared_error = 1713.249\\nsamples = 26\\nvalue = 135.538'),\n",
       " Text(0.3800719054956343, 0.7380952380952381, 'x[2] <= 0.035\\nsquared_error = 782.222\\nsamples = 6\\nvalue = 176.333'),\n",
       " Text(0.3739085772984078, 0.6904761904761905, 'x[5] <= -0.06\\nsquared_error = 136.222\\nsamples = 3\\nvalue = 197.667'),\n",
       " Text(0.371854134565999, 0.6428571428571429, 'squared_error = 0.0\\nsamples = 1\\nvalue = 182.0'),\n",
       " Text(0.37596302003081666, 0.6428571428571429, 'x[6] <= -0.019\\nsquared_error = 20.25\\nsamples = 2\\nvalue = 205.5'),\n",
       " Text(0.3739085772984078, 0.5952380952380952, 'squared_error = 0.0\\nsamples = 1\\nvalue = 201.0'),\n",
       " Text(0.37801746276322545, 0.5952380952380952, 'squared_error = 0.0\\nsamples = 1\\nvalue = 210.0'),\n",
       " Text(0.38623523369286084, 0.6904761904761905, 'x[3] <= -0.023\\nsquared_error = 518.0\\nsamples = 3\\nvalue = 155.0'),\n",
       " Text(0.384180790960452, 0.6428571428571429, 'x[8] <= -0.063\\nsquared_error = 9.0\\nsamples = 2\\nvalue = 139.0'),\n",
       " Text(0.38212634822804314, 0.5952380952380952, 'squared_error = 0.0\\nsamples = 1\\nvalue = 142.0'),\n",
       " Text(0.38623523369286084, 0.5952380952380952, 'squared_error = 0.0\\nsamples = 1\\nvalue = 136.0'),\n",
       " Text(0.3882896764252696, 0.6428571428571429, 'squared_error = 0.0\\nsamples = 1\\nvalue = 187.0'),\n",
       " Text(0.41628145865434, 0.7380952380952381, 'x[5] <= 0.043\\nsquared_error = 1343.51\\nsamples = 20\\nvalue = 123.3'),\n",
       " Text(0.40729327170005136, 0.6904761904761905, 'x[7] <= -0.012\\nsquared_error = 1257.059\\nsamples = 17\\nvalue = 130.0'),\n",
       " Text(0.3975346687211094, 0.6428571428571429, 'x[3] <= -0.001\\nsquared_error = 1215.284\\nsamples = 9\\nvalue = 111.222'),\n",
       " Text(0.39034411915767847, 0.5952380952380952, 'x[3] <= -0.062\\nsquared_error = 486.139\\nsamples = 6\\nvalue = 92.833'),\n",
       " Text(0.3882896764252696, 0.5476190476190477, 'squared_error = 0.0\\nsamples = 1\\nvalue = 55.0'),\n",
       " Text(0.3923985618900873, 0.5476190476190477, 'x[4] <= -0.017\\nsquared_error = 239.84\\nsamples = 5\\nvalue = 100.4'),\n",
       " Text(0.3882896764252696, 0.5, 'x[5] <= -0.039\\nsquared_error = 16.667\\nsamples = 3\\nvalue = 90.0'),\n",
       " Text(0.38623523369286084, 0.4523809523809524, 'squared_error = 0.0\\nsamples = 1\\nvalue = 85.0'),\n",
       " Text(0.39034411915767847, 0.4523809523809524, 'x[5] <= -0.026\\nsquared_error = 6.25\\nsamples = 2\\nvalue = 92.5'),\n",
       " Text(0.3882896764252696, 0.40476190476190477, 'squared_error = 0.0\\nsamples = 1\\nvalue = 90.0'),\n",
       " Text(0.3923985618900873, 0.40476190476190477, 'squared_error = 0.0\\nsamples = 1\\nvalue = 95.0'),\n",
       " Text(0.396507447354905, 0.5, 'x[4] <= 0.001\\nsquared_error = 169.0\\nsamples = 2\\nvalue = 116.0'),\n",
       " Text(0.39445300462249616, 0.4523809523809524, 'squared_error = 0.0\\nsamples = 1\\nvalue = 129.0'),\n",
       " Text(0.3985618900873138, 0.4523809523809524, 'squared_error = 0.0\\nsamples = 1\\nvalue = 103.0'),\n",
       " Text(0.40472521828454033, 0.5952380952380952, 'x[6] <= 0.038\\nsquared_error = 644.667\\nsamples = 3\\nvalue = 148.0'),\n",
       " Text(0.4026707755521315, 0.5476190476190477, 'x[9] <= -0.042\\nsquared_error = 100.0\\nsamples = 2\\nvalue = 131.0'),\n",
       " Text(0.40061633281972264, 0.5, 'squared_error = 0.0\\nsamples = 1\\nvalue = 141.0'),\n",
       " Text(0.40472521828454033, 0.5, 'squared_error = 0.0\\nsamples = 1\\nvalue = 121.0'),\n",
       " Text(0.4067796610169492, 0.5476190476190477, 'squared_error = 0.0\\nsamples = 1\\nvalue = 182.0'),\n",
       " Text(0.41705187467899335, 0.6428571428571429, 'x[0] <= 0.009\\nsquared_error = 461.109\\nsamples = 8\\nvalue = 151.125'),\n",
       " Text(0.41294298921417566, 0.5952380952380952, 'x[3] <= -0.018\\nsquared_error = 178.25\\nsamples = 4\\nvalue = 167.5'),\n",
       " Text(0.4108885464817668, 0.5476190476190477, 'x[3] <= -0.031\\nsquared_error = 50.889\\nsamples = 3\\nvalue = 174.333'),\n",
       " Text(0.40883410374935797, 0.5, 'x[3] <= -0.057\\nsquared_error = 6.25\\nsamples = 2\\nvalue = 169.5'),\n",
       " Text(0.4067796610169492, 0.4523809523809524, 'squared_error = 0.0\\nsamples = 1\\nvalue = 172.0'),\n",
       " Text(0.4108885464817668, 0.4523809523809524, 'squared_error = 0.0\\nsamples = 1\\nvalue = 167.0'),\n",
       " Text(0.41294298921417566, 0.5, 'squared_error = 0.0\\nsamples = 1\\nvalue = 184.0'),\n",
       " Text(0.4149974319465845, 0.5476190476190477, 'squared_error = 0.0\\nsamples = 1\\nvalue = 147.0'),\n",
       " Text(0.421160760143811, 0.5952380952380952, 'x[0] <= 0.038\\nsquared_error = 207.688\\nsamples = 4\\nvalue = 134.75'),\n",
       " Text(0.41910631741140214, 0.5476190476190477, 'x[2] <= 0.071\\nsquared_error = 4.667\\nsamples = 3\\nvalue = 143.0'),\n",
       " Text(0.41705187467899335, 0.5, 'x[4] <= -0.024\\nsquared_error = 0.25\\nsamples = 2\\nvalue = 144.5'),\n",
       " Text(0.4149974319465845, 0.4523809523809524, 'squared_error = 0.0\\nsamples = 1\\nvalue = 145.0'),\n",
       " Text(0.41910631741140214, 0.4523809523809524, 'squared_error = 0.0\\nsamples = 1\\nvalue = 144.0'),\n",
       " Text(0.421160760143811, 0.5, 'squared_error = 0.0\\nsamples = 1\\nvalue = 140.0'),\n",
       " Text(0.42321520287621983, 0.5476190476190477, 'squared_error = 0.0\\nsamples = 1\\nvalue = 110.0'),\n",
       " Text(0.4252696456086287, 0.6904761904761905, 'x[8] <= -0.064\\nsquared_error = 137.556\\nsamples = 3\\nvalue = 85.333'),\n",
       " Text(0.42321520287621983, 0.6428571428571429, 'squared_error = 0.0\\nsamples = 1\\nvalue = 69.0'),\n",
       " Text(0.42732408834103747, 0.6428571428571429, 'x[8] <= -0.017\\nsquared_error = 6.25\\nsamples = 2\\nvalue = 93.5'),\n",
       " Text(0.4252696456086287, 0.5952380952380952, 'squared_error = 0.0\\nsamples = 1\\nvalue = 96.0'),\n",
       " Text(0.4293785310734463, 0.5952380952380952, 'squared_error = 0.0\\nsamples = 1\\nvalue = 91.0'),\n",
       " Text(0.4601951720595788, 0.7857142857142857, 'x[2] <= 0.039\\nsquared_error = 5032.449\\nsamples = 19\\nvalue = 180.842'),\n",
       " Text(0.44684129429892144, 0.7380952380952381, 'x[5] <= 0.013\\nsquared_error = 3309.556\\nsamples = 9\\nvalue = 140.333'),\n",
       " Text(0.4396507447354905, 0.6904761904761905, 'x[9] <= -0.007\\nsquared_error = 1484.889\\nsamples = 6\\nvalue = 108.333'),\n",
       " Text(0.43554185927067285, 0.6428571428571429, 'x[2] <= 0.032\\nsquared_error = 81.0\\nsamples = 2\\nvalue = 61.0'),\n",
       " Text(0.433487416538264, 0.5952380952380952, 'squared_error = 0.0\\nsamples = 1\\nvalue = 52.0'),\n",
       " Text(0.43759630200308164, 0.5952380952380952, 'squared_error = 0.0\\nsamples = 1\\nvalue = 70.0'),\n",
       " Text(0.4437596302003082, 0.6428571428571429, 'x[2] <= 0.023\\nsquared_error = 506.5\\nsamples = 4\\nvalue = 132.0'),\n",
       " Text(0.44170518746789933, 0.5952380952380952, 'x[2] <= 0.012\\nsquared_error = 33.556\\nsamples = 3\\nvalue = 119.333'),\n",
       " Text(0.4396507447354905, 0.5476190476190477, 'squared_error = 0.0\\nsamples = 1\\nvalue = 127.0'),\n",
       " Text(0.4437596302003082, 0.5476190476190477, 'x[8] <= -0.046\\nsquared_error = 6.25\\nsamples = 2\\nvalue = 115.5'),\n",
       " Text(0.44170518746789933, 0.5, 'squared_error = 0.0\\nsamples = 1\\nvalue = 113.0'),\n",
       " Text(0.445814072932717, 0.5, 'squared_error = 0.0\\nsamples = 1\\nvalue = 118.0'),\n",
       " Text(0.445814072932717, 0.5952380952380952, 'squared_error = 0.0\\nsamples = 1\\nvalue = 170.0'),\n",
       " Text(0.45403184386235235, 0.6904761904761905, 'x[2] <= 0.026\\nsquared_error = 814.889\\nsamples = 3\\nvalue = 204.333'),\n",
       " Text(0.4519774011299435, 0.6428571428571429, 'x[0] <= 0.033\\nsquared_error = 42.25\\nsamples = 2\\nvalue = 184.5'),\n",
       " Text(0.44992295839753466, 0.5952380952380952, 'squared_error = 0.0\\nsamples = 1\\nvalue = 191.0'),\n",
       " Text(0.45403184386235235, 0.5952380952380952, 'squared_error = 0.0\\nsamples = 1\\nvalue = 178.0'),\n",
       " Text(0.4560862865947612, 0.6428571428571429, 'squared_error = 0.0\\nsamples = 1\\nvalue = 244.0'),\n",
       " Text(0.47354904982023627, 0.7380952380952381, 'x[4] <= -0.02\\nsquared_error = 3777.01\\nsamples = 10\\nvalue = 217.3'),\n",
       " Text(0.4643040575243965, 0.6904761904761905, 'x[9] <= -0.014\\nsquared_error = 222.688\\nsamples = 4\\nvalue = 275.75'),\n",
       " Text(0.4601951720595788, 0.6428571428571429, 'x[4] <= -0.028\\nsquared_error = 4.0\\nsamples = 2\\nvalue = 261.0'),\n",
       " Text(0.45814072932717, 0.5952380952380952, 'squared_error = 0.0\\nsamples = 1\\nvalue = 259.0'),\n",
       " Text(0.4622496147919877, 0.5952380952380952, 'squared_error = 0.0\\nsamples = 1\\nvalue = 263.0'),\n",
       " Text(0.46841294298921415, 0.6428571428571429, 'x[2] <= 0.062\\nsquared_error = 6.25\\nsamples = 2\\nvalue = 290.5'),\n",
       " Text(0.46635850025680536, 0.5952380952380952, 'squared_error = 0.0\\nsamples = 1\\nvalue = 293.0'),\n",
       " Text(0.470467385721623, 0.5952380952380952, 'squared_error = 0.0\\nsamples = 1\\nvalue = 288.0'),\n",
       " Text(0.482794042116076, 0.6904761904761905, 'x[5] <= 0.017\\nsquared_error = 2350.556\\nsamples = 6\\nvalue = 178.333'),\n",
       " Text(0.47663071391884954, 0.6428571428571429, 'x[8] <= -0.029\\nsquared_error = 752.889\\nsamples = 3\\nvalue = 138.333'),\n",
       " Text(0.4745762711864407, 0.5952380952380952, 'squared_error = 0.0\\nsamples = 1\\nvalue = 175.0'),\n",
       " Text(0.4786851566512583, 0.5952380952380952, 'x[6] <= -0.01\\nsquared_error = 121.0\\nsamples = 2\\nvalue = 120.0'),\n",
       " Text(0.47663071391884954, 0.5476190476190477, 'squared_error = 0.0\\nsamples = 1\\nvalue = 109.0'),\n",
       " Text(0.48073959938366717, 0.5476190476190477, 'squared_error = 0.0\\nsamples = 1\\nvalue = 131.0'),\n",
       " Text(0.4889573703133025, 0.6428571428571429, 'x[9] <= 0.018\\nsquared_error = 748.222\\nsamples = 3\\nvalue = 218.333'),\n",
       " Text(0.4869029275808937, 0.5952380952380952, 'x[9] <= -0.016\\nsquared_error = 1.0\\nsamples = 2\\nvalue = 199.0'),\n",
       " Text(0.48484848484848486, 0.5476190476190477, 'squared_error = 0.0\\nsamples = 1\\nvalue = 198.0'),\n",
       " Text(0.4889573703133025, 0.5476190476190477, 'squared_error = 0.0\\nsamples = 1\\nvalue = 200.0'),\n",
       " Text(0.49101181304571134, 0.5952380952380952, 'squared_error = 0.0\\nsamples = 1\\nvalue = 257.0'),\n",
       " Text(0.7585357681689779, 0.9285714285714286, 'x[2] <= 0.015\\nsquared_error = 5135.611\\nsamples = 224\\nvalue = 193.152'),\n",
       " Text(0.6019055758859785, 0.8809523809523809, 'x[2] <= -0.022\\nsquared_error = 4095.838\\nsamples = 116\\nvalue = 162.681'),\n",
       " Text(0.5321648690292758, 0.8333333333333334, 'x[4] <= -0.052\\nsquared_error = 2869.499\\nsamples = 42\\nvalue = 137.69'),\n",
       " Text(0.4971751412429379, 0.7857142857142857, 'x[5] <= -0.069\\nsquared_error = 1904.139\\nsamples = 6\\nvalue = 193.833'),\n",
       " Text(0.4930662557781202, 0.7380952380952381, 'x[8] <= 0.0\\nsquared_error = 390.889\\nsamples = 3\\nvalue = 167.667'),\n",
       " Text(0.49101181304571134, 0.6904761904761905, 'squared_error = 0.0\\nsamples = 1\\nvalue = 140.0'),\n",
       " Text(0.49512069851052903, 0.6904761904761905, 'x[5] <= -0.075\\nsquared_error = 12.25\\nsamples = 2\\nvalue = 181.5'),\n",
       " Text(0.4930662557781202, 0.6428571428571429, 'squared_error = 0.0\\nsamples = 1\\nvalue = 178.0'),\n",
       " Text(0.4971751412429379, 0.6428571428571429, 'squared_error = 0.0\\nsamples = 1\\nvalue = 185.0'),\n",
       " Text(0.5012840267077555, 0.7380952380952381, 'x[2] <= -0.024\\nsquared_error = 2048.0\\nsamples = 3\\nvalue = 220.0'),\n",
       " Text(0.49922958397534667, 0.6904761904761905, 'squared_error = 0.0\\nsamples = 2\\nvalue = 252.0'),\n",
       " Text(0.5033384694401644, 0.6904761904761905, 'squared_error = 0.0\\nsamples = 1\\nvalue = 156.0'),\n",
       " Text(0.5671545968156138, 0.7857142857142857, 'x[9] <= 0.042\\nsquared_error = 2417.5\\nsamples = 36\\nvalue = 128.333'),\n",
       " Text(0.5436569080636877, 0.7380952380952381, 'x[8] <= 0.027\\nsquared_error = 2266.21\\nsamples = 30\\nvalue = 119.3'),\n",
       " Text(0.5166923472008218, 0.6904761904761905, 'x[2] <= -0.049\\nsquared_error = 1735.556\\nsamples = 21\\nvalue = 105.667'),\n",
       " Text(0.5012840267077555, 0.6428571428571429, 'x[6] <= -0.029\\nsquared_error = 2180.531\\nsamples = 7\\nvalue = 137.429'),\n",
       " Text(0.49614791987673346, 0.5952380952380952, 'x[5] <= -0.007\\nsquared_error = 676.0\\nsamples = 2\\nvalue = 188.0'),\n",
       " Text(0.4940934771443246, 0.5476190476190477, 'squared_error = 0.0\\nsamples = 1\\nvalue = 162.0'),\n",
       " Text(0.49820236260914225, 0.5476190476190477, 'squared_error = 0.0\\nsamples = 1\\nvalue = 214.0'),\n",
       " Text(0.5064201335387776, 0.5952380952380952, 'x[0] <= -0.0\\nsquared_error = 1350.16\\nsamples = 5\\nvalue = 117.2'),\n",
       " Text(0.50231124807396, 0.5476190476190477, 'x[6] <= -0.008\\nsquared_error = 21.556\\nsamples = 3\\nvalue = 87.667'),\n",
       " Text(0.5002568053415511, 0.5, 'x[4] <= -0.012\\nsquared_error = 2.25\\nsamples = 2\\nvalue = 84.5'),\n",
       " Text(0.49820236260914225, 0.4523809523809524, 'squared_error = 0.0\\nsamples = 1\\nvalue = 86.0'),\n",
       " Text(0.50231124807396, 0.4523809523809524, 'squared_error = 0.0\\nsamples = 1\\nvalue = 83.0'),\n",
       " Text(0.5043656908063687, 0.5, 'squared_error = 0.0\\nsamples = 1\\nvalue = 94.0'),\n",
       " Text(0.5105290190035953, 0.5476190476190477, 'x[5] <= -0.039\\nsquared_error = 72.25\\nsamples = 2\\nvalue = 161.5'),\n",
       " Text(0.5084745762711864, 0.5, 'squared_error = 0.0\\nsamples = 1\\nvalue = 170.0'),\n",
       " Text(0.5125834617360041, 0.5, 'squared_error = 0.0\\nsamples = 1\\nvalue = 153.0'),\n",
       " Text(0.5321006676938881, 0.6428571428571429, 'x[5] <= -0.0\\nsquared_error = 756.454\\nsamples = 14\\nvalue = 89.786'),\n",
       " Text(0.5228556753980482, 0.5952380952380952, 'x[0] <= 0.027\\nsquared_error = 507.265\\nsamples = 7\\nvalue = 77.143'),\n",
       " Text(0.5187467899332306, 0.5476190476190477, 'x[8] <= 0.011\\nsquared_error = 140.0\\nsamples = 4\\nvalue = 60.0'),\n",
       " Text(0.5166923472008218, 0.5, 'squared_error = 0.0\\nsamples = 1\\nvalue = 42.0'),\n",
       " Text(0.5208012326656395, 0.5, 'x[2] <= -0.025\\nsquared_error = 42.667\\nsamples = 3\\nvalue = 66.0'),\n",
       " Text(0.5187467899332306, 0.4523809523809524, 'squared_error = 0.0\\nsamples = 1\\nvalue = 74.0'),\n",
       " Text(0.5228556753980482, 0.4523809523809524, 'x[9] <= 0.013\\nsquared_error = 16.0\\nsamples = 2\\nvalue = 62.0'),\n",
       " Text(0.5208012326656395, 0.40476190476190477, 'squared_error = 0.0\\nsamples = 1\\nvalue = 58.0'),\n",
       " Text(0.5249101181304571, 0.40476190476190477, 'squared_error = 0.0\\nsamples = 1\\nvalue = 66.0'),\n",
       " Text(0.5269645608628659, 0.5476190476190477, 'x[5] <= -0.009\\nsquared_error = 82.667\\nsamples = 3\\nvalue = 100.0'),\n",
       " Text(0.5249101181304571, 0.5, 'squared_error = 0.0\\nsamples = 1\\nvalue = 88.0'),\n",
       " Text(0.5290190035952748, 0.5, 'x[5] <= -0.005\\nsquared_error = 16.0\\nsamples = 2\\nvalue = 106.0'),\n",
       " Text(0.5269645608628659, 0.4523809523809524, 'squared_error = 0.0\\nsamples = 1\\nvalue = 110.0'),\n",
       " Text(0.5310734463276836, 0.4523809523809524, 'squared_error = 0.0\\nsamples = 1\\nvalue = 102.0'),\n",
       " Text(0.5413456599897278, 0.5952380952380952, 'x[5] <= 0.018\\nsquared_error = 685.959\\nsamples = 7\\nvalue = 102.429'),\n",
       " Text(0.5351823317925013, 0.5476190476190477, 'x[8] <= 0.005\\nsquared_error = 620.222\\nsamples = 3\\nvalue = 123.667'),\n",
       " Text(0.5331278890600925, 0.5, 'squared_error = 0.0\\nsamples = 1\\nvalue = 93.0'),\n",
       " Text(0.5372367745249101, 0.5, 'x[6] <= -0.031\\nsquared_error = 225.0\\nsamples = 2\\nvalue = 139.0'),\n",
       " Text(0.5351823317925013, 0.4523809523809524, 'squared_error = 0.0\\nsamples = 1\\nvalue = 124.0'),\n",
       " Text(0.539291217257319, 0.4523809523809524, 'squared_error = 0.0\\nsamples = 1\\nvalue = 154.0'),\n",
       " Text(0.5475089881869543, 0.5476190476190477, 'x[8] <= 0.02\\nsquared_error = 143.25\\nsamples = 4\\nvalue = 86.5'),\n",
       " Text(0.5454545454545454, 0.5, 'x[4] <= 0.012\\nsquared_error = 54.889\\nsamples = 3\\nvalue = 92.333'),\n",
       " Text(0.5434001027221366, 0.4523809523809524, 'squared_error = 0.0\\nsamples = 1\\nvalue = 102.0'),\n",
       " Text(0.5475089881869543, 0.4523809523809524, 'x[6] <= -0.043\\nsquared_error = 12.25\\nsamples = 2\\nvalue = 87.5'),\n",
       " Text(0.5454545454545454, 0.40476190476190477, 'squared_error = 0.0\\nsamples = 1\\nvalue = 91.0'),\n",
       " Text(0.5495634309193631, 0.40476190476190477, 'squared_error = 0.0\\nsamples = 1\\nvalue = 84.0'),\n",
       " Text(0.5495634309193631, 0.5, 'squared_error = 0.0\\nsamples = 1\\nvalue = 69.0'),\n",
       " Text(0.5706214689265536, 0.6904761904761905, 'x[6] <= 0.036\\nsquared_error = 2058.765\\nsamples = 9\\nvalue = 151.111'),\n",
       " Text(0.5649717514124294, 0.6428571428571429, 'x[8] <= 0.099\\nsquared_error = 982.204\\nsamples = 7\\nvalue = 170.286'),\n",
       " Text(0.5598356445814073, 0.5952380952380952, 'x[2] <= -0.027\\nsquared_error = 303.76\\nsamples = 5\\nvalue = 186.2'),\n",
       " Text(0.5557267591165896, 0.5476190476190477, 'x[9] <= 0.034\\nsquared_error = 66.889\\nsamples = 3\\nvalue = 199.333'),\n",
       " Text(0.5536723163841808, 0.5, 'x[2] <= -0.037\\nsquared_error = 20.25\\nsamples = 2\\nvalue = 204.5'),\n",
       " Text(0.551617873651772, 0.4523809523809524, 'squared_error = 0.0\\nsamples = 1\\nvalue = 200.0'),\n",
       " Text(0.5557267591165896, 0.4523809523809524, 'squared_error = 0.0\\nsamples = 1\\nvalue = 209.0'),\n",
       " Text(0.5577812018489985, 0.5, 'squared_error = 0.0\\nsamples = 1\\nvalue = 189.0'),\n",
       " Text(0.5639445300462249, 0.5476190476190477, 'x[2] <= -0.025\\nsquared_error = 12.25\\nsamples = 2\\nvalue = 166.5'),\n",
       " Text(0.5618900873138162, 0.5, 'squared_error = 0.0\\nsamples = 1\\nvalue = 170.0'),\n",
       " Text(0.5659989727786338, 0.5, 'squared_error = 0.0\\nsamples = 1\\nvalue = 163.0'),\n",
       " Text(0.5701078582434514, 0.5952380952380952, 'x[0] <= -0.027\\nsquared_error = 462.25\\nsamples = 2\\nvalue = 130.5'),\n",
       " Text(0.5680534155110426, 0.5476190476190477, 'squared_error = 0.0\\nsamples = 1\\nvalue = 109.0'),\n",
       " Text(0.5721623009758603, 0.5476190476190477, 'squared_error = 0.0\\nsamples = 1\\nvalue = 152.0'),\n",
       " Text(0.576271186440678, 0.6428571428571429, 'x[3] <= -0.014\\nsquared_error = 36.0\\nsamples = 2\\nvalue = 84.0'),\n",
       " Text(0.5742167437082691, 0.5952380952380952, 'squared_error = 0.0\\nsamples = 1\\nvalue = 78.0'),\n",
       " Text(0.5783256291730868, 0.5952380952380952, 'squared_error = 0.0\\nsamples = 1\\nvalue = 90.0'),\n",
       " Text(0.5906522855675398, 0.7380952380952381, 'x[8] <= 0.033\\nsquared_error = 725.917\\nsamples = 6\\nvalue = 173.5'),\n",
       " Text(0.588597842835131, 0.6904761904761905, 'x[2] <= -0.034\\nsquared_error = 184.16\\nsamples = 5\\nvalue = 184.2'),\n",
       " Text(0.5844889573703133, 0.6428571428571429, 'x[2] <= -0.037\\nsquared_error = 80.222\\nsamples = 3\\nvalue = 193.667'),\n",
       " Text(0.5824345146379045, 0.5952380952380952, 'squared_error = 0.0\\nsamples = 1\\nvalue = 206.0'),\n",
       " Text(0.5865434001027221, 0.5952380952380952, 'x[0] <= 0.033\\nsquared_error = 6.25\\nsamples = 2\\nvalue = 187.5'),\n",
       " Text(0.5844889573703133, 0.5476190476190477, 'squared_error = 0.0\\nsamples = 1\\nvalue = 190.0'),\n",
       " Text(0.588597842835131, 0.5476190476190477, 'squared_error = 0.0\\nsamples = 1\\nvalue = 185.0'),\n",
       " Text(0.5927067282999486, 0.6428571428571429, 'x[4] <= 0.01\\nsquared_error = 4.0\\nsamples = 2\\nvalue = 170.0'),\n",
       " Text(0.5906522855675398, 0.5952380952380952, 'squared_error = 0.0\\nsamples = 1\\nvalue = 168.0'),\n",
       " Text(0.5947611710323575, 0.5952380952380952, 'squared_error = 0.0\\nsamples = 1\\nvalue = 172.0'),\n",
       " Text(0.5927067282999486, 0.6904761904761905, 'squared_error = 0.0\\nsamples = 1\\nvalue = 120.0'),\n",
       " Text(0.671646282742681, 0.8333333333333334, 'x[8] <= 0.014\\nsquared_error = 4236.225\\nsamples = 74\\nvalue = 176.865'),\n",
       " Text(0.6117103235747303, 0.7857142857142857, 'x[6] <= -0.045\\nsquared_error = 3862.497\\nsamples = 18\\nvalue = 139.944'),\n",
       " Text(0.6029789419619929, 0.7380952380952381, 'x[4] <= -0.024\\nsquared_error = 3496.64\\nsamples = 5\\nvalue = 209.6'),\n",
       " Text(0.5988700564971752, 0.6904761904761905, 'x[3] <= 0.044\\nsquared_error = 100.0\\nsamples = 2\\nvalue = 267.0'),\n",
       " Text(0.5968156137647663, 0.6428571428571429, 'squared_error = 0.0\\nsamples = 1\\nvalue = 277.0'),\n",
       " Text(0.600924499229584, 0.6428571428571429, 'squared_error = 0.0\\nsamples = 1\\nvalue = 257.0'),\n",
       " Text(0.6070878274268104, 0.6904761904761905, 'x[4] <= 0.003\\nsquared_error = 2100.222\\nsamples = 3\\nvalue = 171.333'),\n",
       " Text(0.6050333846944016, 0.6428571428571429, 'x[0] <= 0.02\\nsquared_error = 110.25\\nsamples = 2\\nvalue = 139.5'),\n",
       " Text(0.6029789419619929, 0.5952380952380952, 'squared_error = 0.0\\nsamples = 1\\nvalue = 150.0'),\n",
       " Text(0.6070878274268104, 0.5952380952380952, 'squared_error = 0.0\\nsamples = 1\\nvalue = 129.0'),\n",
       " Text(0.6091422701592193, 0.6428571428571429, 'squared_error = 0.0\\nsamples = 1\\nvalue = 235.0'),\n",
       " Text(0.6204417051874679, 0.7380952380952381, 'x[9] <= 0.001\\nsquared_error = 1419.361\\nsamples = 13\\nvalue = 113.154'),\n",
       " Text(0.6153055983564458, 0.6904761904761905, 'x[0] <= -0.065\\nsquared_error = 767.472\\nsamples = 6\\nvalue = 145.167'),\n",
       " Text(0.613251155624037, 0.6428571428571429, 'squared_error = 0.0\\nsamples = 1\\nvalue = 200.0'),\n",
       " Text(0.6173600410888547, 0.6428571428571429, 'x[2] <= -0.002\\nsquared_error = 199.36\\nsamples = 5\\nvalue = 134.2'),\n",
       " Text(0.6153055983564458, 0.5952380952380952, 'x[8] <= 0.007\\nsquared_error = 50.75\\nsamples = 4\\nvalue = 140.5'),\n",
       " Text(0.613251155624037, 0.5476190476190477, 'x[3] <= -0.054\\nsquared_error = 18.667\\nsamples = 3\\nvalue = 137.0'),\n",
       " Text(0.6111967128916281, 0.5, 'squared_error = 0.0\\nsamples = 1\\nvalue = 131.0'),\n",
       " Text(0.6153055983564458, 0.5, 'x[7] <= 0.016\\nsquared_error = 1.0\\nsamples = 2\\nvalue = 140.0'),\n",
       " Text(0.613251155624037, 0.4523809523809524, 'squared_error = 0.0\\nsamples = 1\\nvalue = 141.0'),\n",
       " Text(0.6173600410888547, 0.4523809523809524, 'squared_error = 0.0\\nsamples = 1\\nvalue = 139.0'),\n",
       " Text(0.6173600410888547, 0.5476190476190477, 'squared_error = 0.0\\nsamples = 1\\nvalue = 151.0'),\n",
       " Text(0.6194144838212635, 0.5952380952380952, 'squared_error = 0.0\\nsamples = 1\\nvalue = 109.0'),\n",
       " Text(0.6255778120184899, 0.6904761904761905, 'x[0] <= -0.013\\nsquared_error = 346.776\\nsamples = 7\\nvalue = 85.714'),\n",
       " Text(0.6235233692860811, 0.6428571428571429, 'squared_error = 0.0\\nsamples = 1\\nvalue = 48.0'),\n",
       " Text(0.6276322547508988, 0.6428571428571429, 'x[8] <= 0.005\\nsquared_error = 128.0\\nsamples = 6\\nvalue = 92.0'),\n",
       " Text(0.6235233692860811, 0.5952380952380952, 'x[2] <= 0.003\\nsquared_error = 36.0\\nsamples = 2\\nvalue = 79.0'),\n",
       " Text(0.6214689265536724, 0.5476190476190477, 'squared_error = 0.0\\nsamples = 1\\nvalue = 85.0'),\n",
       " Text(0.6255778120184899, 0.5476190476190477, 'squared_error = 0.0\\nsamples = 1\\nvalue = 73.0'),\n",
       " Text(0.6317411402157165, 0.5952380952380952, 'x[0] <= 0.054\\nsquared_error = 47.25\\nsamples = 4\\nvalue = 98.5'),\n",
       " Text(0.6296866974833076, 0.5476190476190477, 'x[5] <= 0.04\\nsquared_error = 14.0\\nsamples = 3\\nvalue = 95.0'),\n",
       " Text(0.6276322547508988, 0.5, 'x[3] <= 0.041\\nsquared_error = 2.25\\nsamples = 2\\nvalue = 92.5'),\n",
       " Text(0.6255778120184899, 0.4523809523809524, 'squared_error = 0.0\\nsamples = 1\\nvalue = 94.0'),\n",
       " Text(0.6296866974833076, 0.4523809523809524, 'squared_error = 0.0\\nsamples = 1\\nvalue = 91.0'),\n",
       " Text(0.6317411402157165, 0.5, 'squared_error = 0.0\\nsamples = 1\\nvalue = 100.0'),\n",
       " Text(0.6337955829481253, 0.5476190476190477, 'squared_error = 0.0\\nsamples = 1\\nvalue = 109.0'),\n",
       " Text(0.7315822419106317, 0.7857142857142857, 'x[9] <= 0.034\\nsquared_error = 3777.375\\nsamples = 56\\nvalue = 188.732'),\n",
       " Text(0.6973709553158706, 0.7380952380952381, 'x[9] <= -0.003\\nsquared_error = 2994.518\\nsamples = 43\\nvalue = 174.395'),\n",
       " Text(0.6624293785310734, 0.6904761904761905, 'x[8] <= 0.034\\nsquared_error = 2473.379\\nsamples = 21\\nvalue = 193.381'),\n",
       " Text(0.6510015408320493, 0.6428571428571429, 'x[3] <= 0.036\\nsquared_error = 2266.149\\nsamples = 11\\nvalue = 215.818'),\n",
       " Text(0.6435541859270673, 0.5952380952380952, 'x[4] <= -0.017\\nsquared_error = 1007.25\\nsamples = 8\\nvalue = 239.0'),\n",
       " Text(0.637904468412943, 0.5476190476190477, 'x[7] <= -0.003\\nsquared_error = 64.0\\nsamples = 2\\nvalue = 284.0'),\n",
       " Text(0.6358500256805342, 0.5, 'squared_error = 0.0\\nsamples = 1\\nvalue = 276.0'),\n",
       " Text(0.6399589111453519, 0.5, 'squared_error = 0.0\\nsamples = 1\\nvalue = 292.0'),\n",
       " Text(0.6492039034411916, 0.5476190476190477, 'x[2] <= -0.002\\nsquared_error = 421.667\\nsamples = 6\\nvalue = 224.0'),\n",
       " Text(0.6440677966101694, 0.5, 'x[3] <= -0.026\\nsquared_error = 44.188\\nsamples = 4\\nvalue = 210.25'),\n",
       " Text(0.6399589111453519, 0.4523809523809524, 'x[4] <= -0.002\\nsquared_error = 4.0\\nsamples = 2\\nvalue = 204.0'),\n",
       " Text(0.637904468412943, 0.40476190476190477, 'squared_error = 0.0\\nsamples = 1\\nvalue = 202.0'),\n",
       " Text(0.6420133538777607, 0.40476190476190477, 'squared_error = 0.0\\nsamples = 1\\nvalue = 206.0'),\n",
       " Text(0.6481766820749871, 0.4523809523809524, 'x[8] <= 0.025\\nsquared_error = 6.25\\nsamples = 2\\nvalue = 216.5'),\n",
       " Text(0.6461222393425783, 0.40476190476190477, 'squared_error = 0.0\\nsamples = 1\\nvalue = 214.0'),\n",
       " Text(0.650231124807396, 0.40476190476190477, 'squared_error = 0.0\\nsamples = 1\\nvalue = 219.0'),\n",
       " Text(0.6543400102722137, 0.5, 'x[9] <= -0.047\\nsquared_error = 42.25\\nsamples = 2\\nvalue = 251.5'),\n",
       " Text(0.6522855675398048, 0.4523809523809524, 'squared_error = 0.0\\nsamples = 1\\nvalue = 258.0'),\n",
       " Text(0.6563944530046225, 0.4523809523809524, 'squared_error = 0.0\\nsamples = 1\\nvalue = 245.0'),\n",
       " Text(0.6584488957370314, 0.5952380952380952, 'x[0] <= -0.004\\nsquared_error = 368.667\\nsamples = 3\\nvalue = 154.0'),\n",
       " Text(0.6563944530046225, 0.5476190476190477, 'squared_error = 0.0\\nsamples = 1\\nvalue = 181.0'),\n",
       " Text(0.6605033384694402, 0.5476190476190477, 'x[2] <= 0.009\\nsquared_error = 6.25\\nsamples = 2\\nvalue = 140.5'),\n",
       " Text(0.6584488957370314, 0.5, 'squared_error = 0.0\\nsamples = 1\\nvalue = 138.0'),\n",
       " Text(0.662557781201849, 0.5, 'squared_error = 0.0\\nsamples = 1\\nvalue = 143.0'),\n",
       " Text(0.6738572162300975, 0.6428571428571429, 'x[4] <= -0.008\\nsquared_error = 1538.41\\nsamples = 10\\nvalue = 168.7'),\n",
       " Text(0.6666666666666666, 0.5952380952380952, 'x[2] <= -0.012\\nsquared_error = 284.667\\nsamples = 3\\nvalue = 123.0'),\n",
       " Text(0.6646122239342578, 0.5476190476190477, 'squared_error = 0.0\\nsamples = 1\\nvalue = 101.0'),\n",
       " Text(0.6687211093990755, 0.5476190476190477, 'x[8] <= 0.048\\nsquared_error = 64.0\\nsamples = 2\\nvalue = 134.0'),\n",
       " Text(0.6666666666666666, 0.5, 'squared_error = 0.0\\nsamples = 1\\nvalue = 142.0'),\n",
       " Text(0.6707755521314843, 0.5, 'squared_error = 0.0\\nsamples = 1\\nvalue = 126.0'),\n",
       " Text(0.6810477657935285, 0.5952380952380952, 'x[9] <= -0.034\\nsquared_error = 797.061\\nsamples = 7\\nvalue = 188.286'),\n",
       " Text(0.6769388803287109, 0.5476190476190477, 'x[9] <= -0.04\\nsquared_error = 342.25\\nsamples = 2\\nvalue = 152.5'),\n",
       " Text(0.674884437596302, 0.5, 'squared_error = 0.0\\nsamples = 1\\nvalue = 171.0'),\n",
       " Text(0.6789933230611197, 0.5, 'squared_error = 0.0\\nsamples = 1\\nvalue = 134.0'),\n",
       " Text(0.6851566512583461, 0.5476190476190477, 'x[2] <= -0.015\\nsquared_error = 261.84\\nsamples = 5\\nvalue = 202.6'),\n",
       " Text(0.6831022085259374, 0.5, 'squared_error = 0.0\\nsamples = 1\\nvalue = 233.0'),\n",
       " Text(0.687211093990755, 0.5, 'x[0] <= 0.029\\nsquared_error = 38.5\\nsamples = 4\\nvalue = 195.0'),\n",
       " Text(0.6851566512583461, 0.4523809523809524, 'squared_error = 0.0\\nsamples = 1\\nvalue = 185.0'),\n",
       " Text(0.6892655367231638, 0.4523809523809524, 'x[6] <= 0.038\\nsquared_error = 6.889\\nsamples = 3\\nvalue = 198.333'),\n",
       " Text(0.687211093990755, 0.40476190476190477, 'x[0] <= 0.067\\nsquared_error = 0.25\\nsamples = 2\\nvalue = 196.5'),\n",
       " Text(0.6851566512583461, 0.35714285714285715, 'squared_error = 0.0\\nsamples = 1\\nvalue = 197.0'),\n",
       " Text(0.6892655367231638, 0.35714285714285715, 'squared_error = 0.0\\nsamples = 1\\nvalue = 196.0'),\n",
       " Text(0.6913199794555727, 0.40476190476190477, 'squared_error = 0.0\\nsamples = 1\\nvalue = 202.0'),\n",
       " Text(0.7323125321006677, 0.6904761904761905, 'x[7] <= 0.1\\nsquared_error = 2819.471\\nsamples = 22\\nvalue = 156.273'),\n",
       " Text(0.7229712378017463, 0.6428571428571429, 'x[4] <= 0.062\\nsquared_error = 2338.6\\nsamples = 20\\nvalue = 148.0'),\n",
       " Text(0.71045197740113, 0.5952380952380952, 'x[4] <= 0.035\\nsquared_error = 2125.973\\nsamples = 15\\nvalue = 162.4'),\n",
       " Text(0.7018489984591679, 0.5476190476190477, 'x[1] <= 0.003\\nsquared_error = 844.354\\nsamples = 12\\nvalue = 143.75'),\n",
       " Text(0.6954288649203904, 0.5, 'x[7] <= 0.023\\nsquared_error = 144.0\\nsamples = 2\\nvalue = 186.0'),\n",
       " Text(0.6933744221879815, 0.4523809523809524, 'squared_error = 0.0\\nsamples = 1\\nvalue = 198.0'),\n",
       " Text(0.6974833076527992, 0.4523809523809524, 'squared_error = 0.0\\nsamples = 1\\nvalue = 174.0'),\n",
       " Text(0.7082691319979456, 0.5, 'x[8] <= 0.026\\nsquared_error = 556.01\\nsamples = 10\\nvalue = 135.3'),\n",
       " Text(0.7015921931176169, 0.4523809523809524, 'x[0] <= 0.009\\nsquared_error = 500.188\\nsamples = 4\\nvalue = 114.75'),\n",
       " Text(0.699537750385208, 0.40476190476190477, 'x[5] <= 0.006\\nsquared_error = 82.889\\nsamples = 3\\nvalue = 102.667'),\n",
       " Text(0.6974833076527992, 0.35714285714285715, 'x[2] <= 0.008\\nsquared_error = 4.0\\nsamples = 2\\nvalue = 109.0'),\n",
       " Text(0.6954288649203904, 0.30952380952380953, 'squared_error = 0.0\\nsamples = 1\\nvalue = 107.0'),\n",
       " Text(0.699537750385208, 0.30952380952380953, 'squared_error = 0.0\\nsamples = 1\\nvalue = 111.0'),\n",
       " Text(0.7015921931176169, 0.35714285714285715, 'squared_error = 0.0\\nsamples = 1\\nvalue = 90.0'),\n",
       " Text(0.7036466358500256, 0.40476190476190477, 'squared_error = 0.0\\nsamples = 1\\nvalue = 151.0'),\n",
       " Text(0.7149460708782742, 0.4523809523809524, 'x[5] <= -0.0\\nsquared_error = 124.0\\nsamples = 6\\nvalue = 149.0'),\n",
       " Text(0.7098099640472522, 0.40476190476190477, 'x[2] <= -0.001\\nsquared_error = 65.688\\nsamples = 4\\nvalue = 154.75'),\n",
       " Text(0.7057010785824345, 0.35714285714285715, 'x[5] <= -0.033\\nsquared_error = 2.25\\nsamples = 2\\nvalue = 162.5'),\n",
       " Text(0.7036466358500256, 0.30952380952380953, 'squared_error = 0.0\\nsamples = 1\\nvalue = 161.0'),\n",
       " Text(0.7077555213148433, 0.30952380952380953, 'squared_error = 0.0\\nsamples = 1\\nvalue = 164.0'),\n",
       " Text(0.7139188495120699, 0.35714285714285715, 'x[3] <= -0.002\\nsquared_error = 9.0\\nsamples = 2\\nvalue = 147.0'),\n",
       " Text(0.711864406779661, 0.30952380952380953, 'squared_error = 0.0\\nsamples = 1\\nvalue = 144.0'),\n",
       " Text(0.7159732922444787, 0.30952380952380953, 'squared_error = 0.0\\nsamples = 1\\nvalue = 150.0'),\n",
       " Text(0.7200821777092964, 0.40476190476190477, 'x[9] <= 0.013\\nsquared_error = 42.25\\nsamples = 2\\nvalue = 137.5'),\n",
       " Text(0.7180277349768875, 0.35714285714285715, 'squared_error = 0.0\\nsamples = 1\\nvalue = 144.0'),\n",
       " Text(0.7221366204417052, 0.35714285714285715, 'squared_error = 0.0\\nsamples = 1\\nvalue = 131.0'),\n",
       " Text(0.7190549563430919, 0.5476190476190477, 'x[6] <= -0.018\\nsquared_error = 296.0\\nsamples = 3\\nvalue = 237.0'),\n",
       " Text(0.7170005136106831, 0.5, 'squared_error = 0.0\\nsamples = 1\\nvalue = 259.0'),\n",
       " Text(0.7211093990755008, 0.5, 'x[8] <= 0.037\\nsquared_error = 81.0\\nsamples = 2\\nvalue = 226.0'),\n",
       " Text(0.7190549563430919, 0.4523809523809524, 'squared_error = 0.0\\nsamples = 1\\nvalue = 217.0'),\n",
       " Text(0.7231638418079096, 0.4523809523809524, 'squared_error = 0.0\\nsamples = 1\\nvalue = 235.0'),\n",
       " Text(0.7354904982023626, 0.5952380952380952, 'x[6] <= 0.01\\nsquared_error = 488.16\\nsamples = 5\\nvalue = 104.8'),\n",
       " Text(0.731381612737545, 0.5476190476190477, 'x[0] <= 0.071\\nsquared_error = 53.556\\nsamples = 3\\nvalue = 120.667'),\n",
       " Text(0.7293271700051361, 0.5, 'x[1] <= 0.003\\nsquared_error = 0.25\\nsamples = 2\\nvalue = 115.5'),\n",
       " Text(0.7272727272727273, 0.4523809523809524, 'squared_error = 0.0\\nsamples = 1\\nvalue = 115.0'),\n",
       " Text(0.731381612737545, 0.4523809523809524, 'squared_error = 0.0\\nsamples = 1\\nvalue = 116.0'),\n",
       " Text(0.7334360554699538, 0.5, 'squared_error = 0.0\\nsamples = 1\\nvalue = 131.0'),\n",
       " Text(0.7395993836671803, 0.5476190476190477, 'x[8] <= 0.042\\nsquared_error = 196.0\\nsamples = 2\\nvalue = 81.0'),\n",
       " Text(0.7375449409347714, 0.5, 'squared_error = 0.0\\nsamples = 1\\nvalue = 67.0'),\n",
       " Text(0.7416538263995891, 0.5, 'squared_error = 0.0\\nsamples = 1\\nvalue = 95.0'),\n",
       " Text(0.7416538263995891, 0.6428571428571429, 'x[4] <= 0.071\\nsquared_error = 100.0\\nsamples = 2\\nvalue = 239.0'),\n",
       " Text(0.7395993836671803, 0.5952380952380952, 'squared_error = 0.0\\nsamples = 1\\nvalue = 229.0'),\n",
       " Text(0.743708269131998, 0.5952380952380952, 'squared_error = 0.0\\nsamples = 1\\nvalue = 249.0'),\n",
       " Text(0.765793528505393, 0.7380952380952381, 'x[3] <= 0.029\\nsquared_error = 3438.13\\nsamples = 13\\nvalue = 236.154'),\n",
       " Text(0.7539804827940421, 0.6904761904761905, 'x[4] <= 0.012\\nsquared_error = 2576.56\\nsamples = 5\\nvalue = 185.2'),\n",
       " Text(0.7498715973292245, 0.6428571428571429, 'x[4] <= -0.004\\nsquared_error = 441.0\\nsamples = 2\\nvalue = 241.0'),\n",
       " Text(0.7478171545968156, 0.5952380952380952, 'squared_error = 0.0\\nsamples = 1\\nvalue = 262.0'),\n",
       " Text(0.7519260400616333, 0.5952380952380952, 'squared_error = 0.0\\nsamples = 1\\nvalue = 220.0'),\n",
       " Text(0.7580893682588598, 0.6428571428571429, 'x[6] <= -0.032\\nsquared_error = 540.667\\nsamples = 3\\nvalue = 148.0'),\n",
       " Text(0.7560349255264509, 0.5952380952380952, 'squared_error = 0.0\\nsamples = 1\\nvalue = 179.0'),\n",
       " Text(0.7601438109912686, 0.5952380952380952, 'x[5] <= 0.03\\nsquared_error = 90.25\\nsamples = 2\\nvalue = 132.5'),\n",
       " Text(0.7580893682588598, 0.5476190476190477, 'squared_error = 0.0\\nsamples = 1\\nvalue = 123.0'),\n",
       " Text(0.7621982537236774, 0.5476190476190477, 'squared_error = 0.0\\nsamples = 1\\nvalue = 142.0'),\n",
       " Text(0.7776065742167437, 0.6904761904761905, 'x[6] <= 0.058\\nsquared_error = 1339.75\\nsamples = 8\\nvalue = 268.0'),\n",
       " Text(0.7755521314843349, 0.6428571428571429, 'x[8] <= 0.093\\nsquared_error = 563.143\\nsamples = 7\\nvalue = 279.0'),\n",
       " Text(0.7704160246533128, 0.5952380952380952, 'x[2] <= 0.002\\nsquared_error = 116.96\\nsamples = 5\\nvalue = 292.8'),\n",
       " Text(0.7663071391884951, 0.5476190476190477, 'x[6] <= -0.056\\nsquared_error = 22.889\\nsamples = 3\\nvalue = 285.333'),\n",
       " Text(0.7642526964560863, 0.5, 'squared_error = 0.0\\nsamples = 1\\nvalue = 292.0'),\n",
       " Text(0.768361581920904, 0.5, 'x[3] <= 0.075\\nsquared_error = 1.0\\nsamples = 2\\nvalue = 282.0'),\n",
       " Text(0.7663071391884951, 0.4523809523809524, 'squared_error = 0.0\\nsamples = 1\\nvalue = 283.0'),\n",
       " Text(0.7704160246533128, 0.4523809523809524, 'squared_error = 0.0\\nsamples = 1\\nvalue = 281.0'),\n",
       " Text(0.7745249101181304, 0.5476190476190477, 'x[5] <= 0.019\\nsquared_error = 49.0\\nsamples = 2\\nvalue = 304.0'),\n",
       " Text(0.7724704673857217, 0.5, 'squared_error = 0.0\\nsamples = 1\\nvalue = 311.0'),\n",
       " Text(0.7765793528505393, 0.5, 'squared_error = 0.0\\nsamples = 1\\nvalue = 297.0'),\n",
       " Text(0.7806882383153569, 0.5952380952380952, 'x[6] <= -0.045\\nsquared_error = 12.25\\nsamples = 2\\nvalue = 244.5'),\n",
       " Text(0.7786337955829481, 0.5476190476190477, 'squared_error = 0.0\\nsamples = 1\\nvalue = 248.0'),\n",
       " Text(0.7827426810477658, 0.5476190476190477, 'squared_error = 0.0\\nsamples = 1\\nvalue = 241.0'),\n",
       " Text(0.7796610169491526, 0.6428571428571429, 'squared_error = 0.0\\nsamples = 1\\nvalue = 191.0'),\n",
       " Text(0.9151659604519774, 0.8809523809523809, 'x[2] <= 0.069\\nsquared_error = 4184.05\\nsamples = 108\\nvalue = 225.88'),\n",
       " Text(0.8599929378531074, 0.8333333333333334, 'x[3] <= 0.017\\nsquared_error = 3966.115\\nsamples = 77\\nvalue = 208.571'),\n",
       " Text(0.816512583461736, 0.7857142857142857, 'x[9] <= 0.113\\nsquared_error = 5206.955\\nsamples = 33\\nvalue = 178.212'),\n",
       " Text(0.8066255778120185, 0.7380952380952381, 'x[6] <= -0.071\\nsquared_error = 4435.507\\nsamples = 30\\nvalue = 167.6'),\n",
       " Text(0.79301489470981, 0.6904761904761905, 'x[3] <= -0.014\\nsquared_error = 42.25\\nsamples = 2\\nvalue = 265.5'),\n",
       " Text(0.7909604519774012, 0.6428571428571429, 'squared_error = 0.0\\nsamples = 1\\nvalue = 272.0'),\n",
       " Text(0.7950693374422187, 0.6428571428571429, 'squared_error = 0.0\\nsamples = 1\\nvalue = 259.0'),\n",
       " Text(0.820236260914227, 0.6904761904761905, 'x[8] <= 0.065\\nsquared_error = 4015.81\\nsamples = 28\\nvalue = 160.607'),\n",
       " Text(0.7991782229070364, 0.6428571428571429, 'x[2] <= 0.025\\nsquared_error = 3021.648\\nsamples = 23\\nvalue = 146.783'),\n",
       " Text(0.7889060092449923, 0.5952380952380952, 'x[5] <= 0.038\\nsquared_error = 2731.5\\nsamples = 4\\nvalue = 208.0'),\n",
       " Text(0.7868515665125835, 0.5476190476190477, 'x[0] <= 0.042\\nsquared_error = 797.556\\nsamples = 3\\nvalue = 234.667'),\n",
       " Text(0.7847971237801746, 0.5, 'x[4] <= 0.008\\nsquared_error = 132.25\\nsamples = 2\\nvalue = 253.5'),\n",
       " Text(0.7827426810477658, 0.4523809523809524, 'squared_error = 0.0\\nsamples = 1\\nvalue = 265.0'),\n",
       " Text(0.7868515665125835, 0.4523809523809524, 'squared_error = 0.0\\nsamples = 1\\nvalue = 242.0'),\n",
       " Text(0.7889060092449923, 0.5, 'squared_error = 0.0\\nsamples = 1\\nvalue = 197.0'),\n",
       " Text(0.7909604519774012, 0.5476190476190477, 'squared_error = 0.0\\nsamples = 1\\nvalue = 128.0'),\n",
       " Text(0.8094504365690807, 0.5952380952380952, 'x[4] <= 0.003\\nsquared_error = 2127.673\\nsamples = 19\\nvalue = 133.895'),\n",
       " Text(0.7950693374422187, 0.5476190476190477, 'x[4] <= -0.039\\nsquared_error = 858.0\\nsamples = 5\\nvalue = 91.0'),\n",
       " Text(0.79301489470981, 0.5, 'squared_error = 0.0\\nsamples = 1\\nvalue = 141.0'),\n",
       " Text(0.7971237801746276, 0.5, 'x[6] <= -0.023\\nsquared_error = 291.25\\nsamples = 4\\nvalue = 78.5'),\n",
       " Text(0.7950693374422187, 0.4523809523809524, 'squared_error = 0.0\\nsamples = 1\\nvalue = 52.0'),\n",
       " Text(0.7991782229070364, 0.4523809523809524, 'x[3] <= -0.013\\nsquared_error = 76.222\\nsamples = 3\\nvalue = 87.333'),\n",
       " Text(0.7971237801746276, 0.40476190476190477, 'x[4] <= -0.017\\nsquared_error = 12.25\\nsamples = 2\\nvalue = 81.5'),\n",
       " Text(0.7950693374422187, 0.35714285714285715, 'squared_error = 0.0\\nsamples = 1\\nvalue = 78.0'),\n",
       " Text(0.7991782229070364, 0.35714285714285715, 'squared_error = 0.0\\nsamples = 1\\nvalue = 85.0'),\n",
       " Text(0.8012326656394453, 0.40476190476190477, 'squared_error = 0.0\\nsamples = 1\\nvalue = 99.0'),\n",
       " Text(0.8238315356959425, 0.5476190476190477, 'x[7] <= 0.054\\nsquared_error = 1689.311\\nsamples = 14\\nvalue = 149.214'),\n",
       " Text(0.8145865434001027, 0.5, 'x[3] <= 0.005\\nsquared_error = 752.859\\nsamples = 8\\nvalue = 172.875'),\n",
       " Text(0.8094504365690807, 0.4523809523809524, 'x[9] <= 0.005\\nsquared_error = 334.139\\nsamples = 6\\nvalue = 185.167'),\n",
       " Text(0.805341551104263, 0.40476190476190477, 'x[2] <= 0.033\\nsquared_error = 144.0\\nsamples = 2\\nvalue = 208.0'),\n",
       " Text(0.8032871083718541, 0.35714285714285715, 'squared_error = 0.0\\nsamples = 1\\nvalue = 196.0'),\n",
       " Text(0.8073959938366718, 0.35714285714285715, 'squared_error = 0.0\\nsamples = 1\\nvalue = 220.0'),\n",
       " Text(0.8135593220338984, 0.40476190476190477, 'x[5] <= 0.063\\nsquared_error = 38.188\\nsamples = 4\\nvalue = 173.75'),\n",
       " Text(0.8115048793014895, 0.35714285714285715, 'x[8] <= 0.035\\nsquared_error = 8.667\\nsamples = 3\\nvalue = 177.0'),\n",
       " Text(0.8094504365690807, 0.30952380952380953, 'x[6] <= -0.032\\nsquared_error = 1.0\\nsamples = 2\\nvalue = 179.0'),\n",
       " Text(0.8073959938366718, 0.2619047619047619, 'squared_error = 0.0\\nsamples = 1\\nvalue = 178.0'),\n",
       " Text(0.8115048793014895, 0.2619047619047619, 'squared_error = 0.0\\nsamples = 1\\nvalue = 180.0'),\n",
       " Text(0.8135593220338984, 0.30952380952380953, 'squared_error = 0.0\\nsamples = 1\\nvalue = 173.0'),\n",
       " Text(0.8156137647663071, 0.35714285714285715, 'squared_error = 0.0\\nsamples = 1\\nvalue = 164.0'),\n",
       " Text(0.8197226502311248, 0.4523809523809524, 'x[9] <= 0.047\\nsquared_error = 196.0\\nsamples = 2\\nvalue = 136.0'),\n",
       " Text(0.8176682074987159, 0.40476190476190477, 'squared_error = 0.0\\nsamples = 1\\nvalue = 122.0'),\n",
       " Text(0.8217770929635336, 0.40476190476190477, 'squared_error = 0.0\\nsamples = 1\\nvalue = 150.0'),\n",
       " Text(0.8330765279917822, 0.5, 'x[4] <= 0.047\\nsquared_error = 1196.222\\nsamples = 6\\nvalue = 117.667'),\n",
       " Text(0.8279404211607602, 0.4523809523809524, 'x[6] <= -0.064\\nsquared_error = 342.25\\nsamples = 2\\nvalue = 155.5'),\n",
       " Text(0.8258859784283513, 0.40476190476190477, 'squared_error = 0.0\\nsamples = 1\\nvalue = 137.0'),\n",
       " Text(0.829994863893169, 0.40476190476190477, 'squared_error = 0.0\\nsamples = 1\\nvalue = 174.0'),\n",
       " Text(0.8382126348228043, 0.4523809523809524, 'x[6] <= -0.034\\nsquared_error = 549.688\\nsamples = 4\\nvalue = 98.75'),\n",
       " Text(0.8341037493579867, 0.40476190476190477, 'x[3] <= -0.021\\nsquared_error = 64.0\\nsamples = 2\\nvalue = 76.0'),\n",
       " Text(0.8320493066255779, 0.35714285714285715, 'squared_error = 0.0\\nsamples = 1\\nvalue = 68.0'),\n",
       " Text(0.8361581920903954, 0.35714285714285715, 'squared_error = 0.0\\nsamples = 1\\nvalue = 84.0'),\n",
       " Text(0.842321520287622, 0.40476190476190477, 'x[9] <= 0.001\\nsquared_error = 0.25\\nsamples = 2\\nvalue = 121.5'),\n",
       " Text(0.8402670775552131, 0.35714285714285715, 'squared_error = 0.0\\nsamples = 1\\nvalue = 121.0'),\n",
       " Text(0.8443759630200308, 0.35714285714285715, 'squared_error = 0.0\\nsamples = 1\\nvalue = 122.0'),\n",
       " Text(0.8412942989214176, 0.6428571428571429, 'x[2] <= 0.047\\nsquared_error = 3665.76\\nsamples = 5\\nvalue = 224.2'),\n",
       " Text(0.8371854134565999, 0.5952380952380952, 'x[3] <= -0.029\\nsquared_error = 1210.889\\nsamples = 3\\nvalue = 265.667'),\n",
       " Text(0.8351309707241911, 0.5476190476190477, 'squared_error = 0.0\\nsamples = 1\\nvalue = 310.0'),\n",
       " Text(0.8392398561890088, 0.5476190476190477, 'x[6] <= 0.001\\nsquared_error = 342.25\\nsamples = 2\\nvalue = 243.5'),\n",
       " Text(0.8371854134565999, 0.5, 'squared_error = 0.0\\nsamples = 1\\nvalue = 225.0'),\n",
       " Text(0.8412942989214176, 0.5, 'squared_error = 0.0\\nsamples = 1\\nvalue = 262.0'),\n",
       " Text(0.8454031843862352, 0.5952380952380952, 'x[8] <= 0.094\\nsquared_error = 900.0\\nsamples = 2\\nvalue = 162.0'),\n",
       " Text(0.8433487416538265, 0.5476190476190477, 'squared_error = 0.0\\nsamples = 1\\nvalue = 192.0'),\n",
       " Text(0.847457627118644, 0.5476190476190477, 'squared_error = 0.0\\nsamples = 1\\nvalue = 132.0'),\n",
       " Text(0.8263995891114535, 0.7380952380952381, 'x[6] <= -0.069\\nsquared_error = 533.556\\nsamples = 3\\nvalue = 284.333'),\n",
       " Text(0.8243451463790447, 0.6904761904761905, 'squared_error = 0.0\\nsamples = 1\\nvalue = 317.0'),\n",
       " Text(0.8284540318438623, 0.6904761904761905, 'squared_error = 0.0\\nsamples = 2\\nvalue = 268.0'),\n",
       " Text(0.9034732922444787, 0.7857142857142857, 'x[8] <= 0.074\\nsquared_error = 1825.77\\nsamples = 44\\nvalue = 231.341'),\n",
       " Text(0.8880970724191063, 0.7380952380952381, 'x[3] <= 0.096\\nsquared_error = 1763.842\\nsamples = 36\\nvalue = 224.639'),\n",
       " Text(0.8727529532614279, 0.6904761904761905, 'x[9] <= -0.02\\nsquared_error = 1619.152\\nsamples = 32\\nvalue = 218.688'),\n",
       " Text(0.8608115048793015, 0.6428571428571429, 'x[6] <= 0.03\\nsquared_error = 483.222\\nsamples = 6\\nvalue = 246.333'),\n",
       " Text(0.8556753980482794, 0.5952380952380952, 'x[3] <= 0.046\\nsquared_error = 110.25\\nsamples = 4\\nvalue = 232.5'),\n",
       " Text(0.8515665125834617, 0.5476190476190477, 'x[8] <= 0.024\\nsquared_error = 4.0\\nsamples = 2\\nvalue = 223.0'),\n",
       " Text(0.8495120698510529, 0.5, 'squared_error = 0.0\\nsamples = 1\\nvalue = 225.0'),\n",
       " Text(0.8536209553158706, 0.5, 'squared_error = 0.0\\nsamples = 1\\nvalue = 221.0'),\n",
       " Text(0.8597842835130971, 0.5476190476190477, 'x[5] <= 0.032\\nsquared_error = 36.0\\nsamples = 2\\nvalue = 242.0'),\n",
       " Text(0.8577298407806883, 0.5, 'squared_error = 0.0\\nsamples = 1\\nvalue = 236.0'),\n",
       " Text(0.861838726245506, 0.5, 'squared_error = 0.0\\nsamples = 1\\nvalue = 248.0'),\n",
       " Text(0.8659476117103235, 0.5952380952380952, 'x[4] <= 0.067\\nsquared_error = 81.0\\nsamples = 2\\nvalue = 274.0'),\n",
       " Text(0.8638931689779148, 0.5476190476190477, 'squared_error = 0.0\\nsamples = 1\\nvalue = 265.0'),\n",
       " Text(0.8680020544427324, 0.5476190476190477, 'squared_error = 0.0\\nsamples = 1\\nvalue = 283.0'),\n",
       " Text(0.8846944016435542, 0.6428571428571429, 'x[2] <= 0.018\\nsquared_error = 1664.213\\nsamples = 26\\nvalue = 212.308'),\n",
       " Text(0.8741653826399589, 0.5952380952380952, 'x[6] <= -0.04\\nsquared_error = 889.556\\nsamples = 3\\nvalue = 174.667'),\n",
       " Text(0.8721109399075501, 0.5476190476190477, 'squared_error = 0.0\\nsamples = 1\\nvalue = 212.0'),\n",
       " Text(0.8762198253723678, 0.5476190476190477, 'x[8] <= 0.041\\nsquared_error = 289.0\\nsamples = 2\\nvalue = 156.0'),\n",
       " Text(0.8741653826399589, 0.5, 'squared_error = 0.0\\nsamples = 1\\nvalue = 173.0'),\n",
       " Text(0.8782742681047766, 0.5, 'squared_error = 0.0\\nsamples = 1\\nvalue = 139.0'),\n",
       " Text(0.8952234206471494, 0.5952380952380952, 'x[9] <= 0.088\\nsquared_error = 1556.344\\nsamples = 23\\nvalue = 217.217'),\n",
       " Text(0.8931689779147406, 0.5476190476190477, 'x[9] <= 0.038\\nsquared_error = 1443.134\\nsamples = 22\\nvalue = 220.045'),\n",
       " Text(0.8823831535695943, 0.5, 'x[5] <= -0.048\\nsquared_error = 1422.984\\nsamples = 16\\nvalue = 211.875'),\n",
       " Text(0.8803287108371854, 0.4523809523809524, 'squared_error = 0.0\\nsamples = 1\\nvalue = 281.0'),\n",
       " Text(0.884437596302003, 0.4523809523809524, 'x[5] <= 0.009\\nsquared_error = 1178.062\\nsamples = 15\\nvalue = 207.267'),\n",
       " Text(0.8751926040061633, 0.40476190476190477, 'x[3] <= 0.025\\nsquared_error = 395.143\\nsamples = 7\\nvalue = 186.0'),\n",
       " Text(0.8731381612737545, 0.35714285714285715, 'squared_error = 0.0\\nsamples = 1\\nvalue = 151.0'),\n",
       " Text(0.8772470467385721, 0.35714285714285715, 'x[6] <= 0.05\\nsquared_error = 222.806\\nsamples = 6\\nvalue = 191.833'),\n",
       " Text(0.8751926040061633, 0.30952380952380953, 'x[2] <= 0.025\\nsquared_error = 107.2\\nsamples = 5\\nvalue = 197.0'),\n",
       " Text(0.8731381612737545, 0.2619047619047619, 'squared_error = 0.0\\nsamples = 1\\nvalue = 178.0'),\n",
       " Text(0.8772470467385721, 0.2619047619047619, 'x[5] <= -0.003\\nsquared_error = 21.188\\nsamples = 4\\nvalue = 201.75'),\n",
       " Text(0.8751926040061633, 0.21428571428571427, 'x[0] <= 0.02\\nsquared_error = 8.0\\nsamples = 3\\nvalue = 204.0'),\n",
       " Text(0.8731381612737545, 0.16666666666666666, 'squared_error = 0.0\\nsamples = 2\\nvalue = 202.0'),\n",
       " Text(0.8772470467385721, 0.16666666666666666, 'squared_error = 0.0\\nsamples = 1\\nvalue = 208.0'),\n",
       " Text(0.879301489470981, 0.21428571428571427, 'squared_error = 0.0\\nsamples = 1\\nvalue = 195.0'),\n",
       " Text(0.879301489470981, 0.30952380952380953, 'squared_error = 0.0\\nsamples = 1\\nvalue = 166.0'),\n",
       " Text(0.8936825885978429, 0.40476190476190477, 'x[4] <= 0.025\\nsquared_error = 1121.109\\nsamples = 8\\nvalue = 225.875'),\n",
       " Text(0.8895737031330252, 0.35714285714285715, 'x[9] <= 0.024\\nsquared_error = 330.688\\nsamples = 4\\nvalue = 252.25'),\n",
       " Text(0.8875192604006163, 0.30952380952380953, 'x[6] <= 0.014\\nsquared_error = 210.889\\nsamples = 3\\nvalue = 244.667'),\n",
       " Text(0.8854648176682075, 0.2619047619047619, 'x[8] <= 0.018\\nsquared_error = 6.25\\nsamples = 2\\nvalue = 234.5'),\n",
       " Text(0.8834103749357987, 0.21428571428571427, 'squared_error = 0.0\\nsamples = 1\\nvalue = 237.0'),\n",
       " Text(0.8875192604006163, 0.21428571428571427, 'squared_error = 0.0\\nsamples = 1\\nvalue = 232.0'),\n",
       " Text(0.8895737031330252, 0.2619047619047619, 'squared_error = 0.0\\nsamples = 1\\nvalue = 265.0'),\n",
       " Text(0.891628145865434, 0.30952380952380953, 'squared_error = 0.0\\nsamples = 1\\nvalue = 275.0'),\n",
       " Text(0.8977914740626605, 0.35714285714285715, 'x[9] <= 0.003\\nsquared_error = 520.25\\nsamples = 4\\nvalue = 199.5'),\n",
       " Text(0.8957370313302516, 0.30952380952380953, 'squared_error = 0.0\\nsamples = 1\\nvalue = 163.0'),\n",
       " Text(0.8998459167950693, 0.30952380952380953, 'x[7] <= 0.022\\nsquared_error = 101.556\\nsamples = 3\\nvalue = 211.667'),\n",
       " Text(0.8977914740626605, 0.2619047619047619, 'squared_error = 0.0\\nsamples = 1\\nvalue = 198.0'),\n",
       " Text(0.9019003595274782, 0.2619047619047619, 'x[8] <= 0.048\\nsquared_error = 12.25\\nsamples = 2\\nvalue = 218.5'),\n",
       " Text(0.8998459167950693, 0.21428571428571427, 'squared_error = 0.0\\nsamples = 1\\nvalue = 222.0'),\n",
       " Text(0.903954802259887, 0.21428571428571427, 'squared_error = 0.0\\nsamples = 1\\nvalue = 215.0'),\n",
       " Text(0.903954802259887, 0.5, 'x[2] <= 0.054\\nsquared_error = 844.139\\nsamples = 6\\nvalue = 241.833'),\n",
       " Text(0.9019003595274782, 0.4523809523809524, 'x[3] <= 0.026\\nsquared_error = 264.8\\nsamples = 5\\nvalue = 253.0'),\n",
       " Text(0.8998459167950693, 0.40476190476190477, 'squared_error = 0.0\\nsamples = 1\\nvalue = 281.0'),\n",
       " Text(0.903954802259887, 0.40476190476190477, 'x[6] <= -0.071\\nsquared_error = 86.0\\nsamples = 4\\nvalue = 246.0'),\n",
       " Text(0.9019003595274782, 0.35714285714285715, 'squared_error = 0.0\\nsamples = 1\\nvalue = 232.0'),\n",
       " Text(0.9060092449922958, 0.35714285714285715, 'x[0] <= -0.015\\nsquared_error = 27.556\\nsamples = 3\\nvalue = 250.667'),\n",
       " Text(0.903954802259887, 0.30952380952380953, 'squared_error = 0.0\\nsamples = 1\\nvalue = 258.0'),\n",
       " Text(0.9080636877247047, 0.30952380952380953, 'x[2] <= 0.037\\nsquared_error = 1.0\\nsamples = 2\\nvalue = 247.0'),\n",
       " Text(0.9060092449922958, 0.2619047619047619, 'squared_error = 0.0\\nsamples = 1\\nvalue = 248.0'),\n",
       " Text(0.9101181304571135, 0.2619047619047619, 'squared_error = 0.0\\nsamples = 1\\nvalue = 246.0'),\n",
       " Text(0.9060092449922958, 0.4523809523809524, 'squared_error = 0.0\\nsamples = 1\\nvalue = 186.0'),\n",
       " Text(0.8972778633795583, 0.5476190476190477, 'squared_error = 0.0\\nsamples = 1\\nvalue = 155.0'),\n",
       " Text(0.9034411915767848, 0.6904761904761905, 'x[1] <= 0.003\\nsquared_error = 371.188\\nsamples = 4\\nvalue = 272.25'),\n",
       " Text(0.901386748844376, 0.6428571428571429, 'x[2] <= 0.033\\nsquared_error = 114.667\\nsamples = 3\\nvalue = 282.0'),\n",
       " Text(0.8993323061119671, 0.5952380952380952, 'squared_error = 0.0\\nsamples = 1\\nvalue = 296.0'),\n",
       " Text(0.9034411915767848, 0.5952380952380952, 'x[5] <= 0.005\\nsquared_error = 25.0\\nsamples = 2\\nvalue = 275.0'),\n",
       " Text(0.901386748844376, 0.5476190476190477, 'squared_error = 0.0\\nsamples = 1\\nvalue = 280.0'),\n",
       " Text(0.9054956343091937, 0.5476190476190477, 'squared_error = 0.0\\nsamples = 1\\nvalue = 270.0'),\n",
       " Text(0.9054956343091937, 0.6428571428571429, 'squared_error = 0.0\\nsamples = 1\\nvalue = 243.0'),\n",
       " Text(0.9188495120698511, 0.7380952380952381, 'x[6] <= -0.038\\nsquared_error = 992.75\\nsamples = 8\\nvalue = 261.5'),\n",
       " Text(0.9137134052388289, 0.6904761904761905, 'x[2] <= 0.035\\nsquared_error = 347.44\\nsamples = 5\\nvalue = 241.4'),\n",
       " Text(0.9116589625064201, 0.6428571428571429, 'squared_error = 0.0\\nsamples = 1\\nvalue = 273.0'),\n",
       " Text(0.9157678479712378, 0.6428571428571429, 'x[8] <= 0.116\\nsquared_error = 122.25\\nsamples = 4\\nvalue = 233.5'),\n",
       " Text(0.9116589625064201, 0.5952380952380952, 'x[9] <= 0.073\\nsquared_error = 42.25\\nsamples = 2\\nvalue = 223.5'),\n",
       " Text(0.9096045197740112, 0.5476190476190477, 'squared_error = 0.0\\nsamples = 1\\nvalue = 230.0'),\n",
       " Text(0.9137134052388289, 0.5476190476190477, 'squared_error = 0.0\\nsamples = 1\\nvalue = 217.0'),\n",
       " Text(0.9198767334360555, 0.5952380952380952, 'x[5] <= -0.042\\nsquared_error = 2.25\\nsamples = 2\\nvalue = 243.5'),\n",
       " Text(0.9178222907036466, 0.5476190476190477, 'squared_error = 0.0\\nsamples = 1\\nvalue = 245.0'),\n",
       " Text(0.9219311761684643, 0.5476190476190477, 'squared_error = 0.0\\nsamples = 1\\nvalue = 242.0'),\n",
       " Text(0.9239856189008732, 0.6904761904761905, 'x[3] <= 0.048\\nsquared_error = 272.667\\nsamples = 3\\nvalue = 295.0'),\n",
       " Text(0.9219311761684643, 0.6428571428571429, 'squared_error = 0.0\\nsamples = 1\\nvalue = 272.0'),\n",
       " Text(0.926040061633282, 0.6428571428571429, 'x[4] <= 0.018\\nsquared_error = 12.25\\nsamples = 2\\nvalue = 306.5'),\n",
       " Text(0.9239856189008732, 0.5952380952380952, 'squared_error = 0.0\\nsamples = 1\\nvalue = 303.0'),\n",
       " Text(0.9280945043656909, 0.5952380952380952, 'squared_error = 0.0\\nsamples = 1\\nvalue = 310.0'),\n",
       " Text(0.9703389830508474, 0.8333333333333334, 'x[5] <= 0.022\\nsquared_error = 2133.016\\nsamples = 31\\nvalue = 268.871'),\n",
       " Text(0.955572675911659, 0.7857142857142857, 'x[8] <= 0.032\\nsquared_error = 1073.612\\nsamples = 19\\nvalue = 290.421'),\n",
       " Text(0.943502824858757, 0.7380952380952381, 'x[6] <= -0.014\\nsquared_error = 999.265\\nsamples = 7\\nvalue = 315.857'),\n",
       " Text(0.938366718027735, 0.6904761904761905, 'x[2] <= 0.108\\nsquared_error = 72.56\\nsamples = 5\\nvalue = 335.2'),\n",
       " Text(0.9342578325629173, 0.6428571428571429, 'x[3] <= 0.048\\nsquared_error = 30.25\\nsamples = 2\\nvalue = 326.5'),\n",
       " Text(0.9322033898305084, 0.5952380952380952, 'squared_error = 0.0\\nsamples = 1\\nvalue = 332.0'),\n",
       " Text(0.9363122752953261, 0.5952380952380952, 'squared_error = 0.0\\nsamples = 1\\nvalue = 321.0'),\n",
       " Text(0.9424756034925527, 0.6428571428571429, 'x[2] <= 0.118\\nsquared_error = 16.667\\nsamples = 3\\nvalue = 341.0'),\n",
       " Text(0.9404211607601438, 0.5952380952380952, 'squared_error = 0.0\\nsamples = 1\\nvalue = 336.0'),\n",
       " Text(0.9445300462249615, 0.5952380952380952, 'x[7] <= 0.071\\nsquared_error = 6.25\\nsamples = 2\\nvalue = 343.5'),\n",
       " Text(0.9424756034925527, 0.5476190476190477, 'squared_error = 0.0\\nsamples = 1\\nvalue = 346.0'),\n",
       " Text(0.9465844889573704, 0.5476190476190477, 'squared_error = 0.0\\nsamples = 1\\nvalue = 341.0'),\n",
       " Text(0.9486389316897792, 0.6904761904761905, 'x[5] <= 0.004\\nsquared_error = 42.25\\nsamples = 2\\nvalue = 267.5'),\n",
       " Text(0.9465844889573704, 0.6428571428571429, 'squared_error = 0.0\\nsamples = 1\\nvalue = 274.0'),\n",
       " Text(0.9506933744221879, 0.6428571428571429, 'squared_error = 0.0\\nsamples = 1\\nvalue = 261.0'),\n",
       " Text(0.9676425269645609, 0.7380952380952381, 'x[7] <= 0.037\\nsquared_error = 519.41\\nsamples = 12\\nvalue = 275.583'),\n",
       " Text(0.965588084232152, 0.6904761904761905, 'x[5] <= 0.007\\nsquared_error = 260.231\\nsamples = 11\\nvalue = 280.636'),\n",
       " Text(0.9599383667180277, 0.6428571428571429, 'x[0] <= 0.04\\nsquared_error = 51.688\\nsamples = 8\\nvalue = 271.75'),\n",
       " Text(0.9548022598870056, 0.5952380952380952, 'x[5] <= -0.028\\nsquared_error = 48.556\\nsamples = 6\\nvalue = 269.667'),\n",
       " Text(0.9506933744221879, 0.5476190476190477, 'x[6] <= -0.034\\nsquared_error = 6.25\\nsamples = 2\\nvalue = 260.5'),\n",
       " Text(0.9486389316897792, 0.5, 'squared_error = 0.0\\nsamples = 1\\nvalue = 263.0'),\n",
       " Text(0.9527478171545968, 0.5, 'squared_error = 0.0\\nsamples = 1\\nvalue = 258.0'),\n",
       " Text(0.9589111453518233, 0.5476190476190477, 'x[9] <= 0.038\\nsquared_error = 6.688\\nsamples = 4\\nvalue = 274.25'),\n",
       " Text(0.9568567026194145, 0.5, 'squared_error = 0.0\\nsamples = 1\\nvalue = 270.0'),\n",
       " Text(0.9609655880842322, 0.5, 'x[3] <= 0.027\\nsquared_error = 0.889\\nsamples = 3\\nvalue = 275.667'),\n",
       " Text(0.9589111453518233, 0.4523809523809524, 'squared_error = 0.0\\nsamples = 2\\nvalue = 275.0'),\n",
       " Text(0.963020030816641, 0.4523809523809524, 'squared_error = 0.0\\nsamples = 1\\nvalue = 277.0'),\n",
       " Text(0.9650744735490498, 0.5952380952380952, 'x[5] <= -0.052\\nsquared_error = 9.0\\nsamples = 2\\nvalue = 278.0'),\n",
       " Text(0.963020030816641, 0.5476190476190477, 'squared_error = 0.0\\nsamples = 1\\nvalue = 281.0'),\n",
       " Text(0.9671289162814587, 0.5476190476190477, 'squared_error = 0.0\\nsamples = 1\\nvalue = 275.0'),\n",
       " Text(0.9712378017462763, 0.6428571428571429, 'x[2] <= 0.08\\nsquared_error = 44.222\\nsamples = 3\\nvalue = 304.333'),\n",
       " Text(0.9691833590138675, 0.5952380952380952, 'squared_error = 0.0\\nsamples = 1\\nvalue = 295.0'),\n",
       " Text(0.9732922444786851, 0.5952380952380952, 'x[8] <= 0.05\\nsquared_error = 1.0\\nsamples = 2\\nvalue = 309.0'),\n",
       " Text(0.9712378017462763, 0.5476190476190477, 'squared_error = 0.0\\nsamples = 1\\nvalue = 308.0'),\n",
       " Text(0.975346687211094, 0.5476190476190477, 'squared_error = 0.0\\nsamples = 1\\nvalue = 310.0'),\n",
       " Text(0.9696969696969697, 0.6904761904761905, 'squared_error = 0.0\\nsamples = 1\\nvalue = 220.0'),\n",
       " Text(0.9851052901900359, 0.7857142857142857, 'x[5] <= 0.024\\nsquared_error = 1910.854\\nsamples = 12\\nvalue = 234.75'),\n",
       " Text(0.9830508474576272, 0.7380952380952381, 'squared_error = 0.0\\nsamples = 1\\nvalue = 128.0'),\n",
       " Text(0.9871597329224447, 0.7380952380952381, 'x[7] <= 0.127\\nsquared_error = 954.43\\nsamples = 11\\nvalue = 244.455'),\n",
       " Text(0.9851052901900359, 0.6904761904761905, 'x[4] <= 0.023\\nsquared_error = 633.21\\nsamples = 10\\nvalue = 238.3'),\n",
       " Text(0.9794555726759117, 0.6428571428571429, 'x[1] <= 0.003\\nsquared_error = 56.25\\nsamples = 2\\nvalue = 271.5'),\n",
       " Text(0.9774011299435028, 0.5952380952380952, 'squared_error = 0.0\\nsamples = 1\\nvalue = 279.0'),\n",
       " Text(0.9815100154083205, 0.5952380952380952, 'squared_error = 0.0\\nsamples = 1\\nvalue = 264.0'),\n",
       " Text(0.9907550077041603, 0.6428571428571429, 'x[9] <= 0.044\\nsquared_error = 433.0\\nsamples = 8\\nvalue = 230.0'),\n",
       " Text(0.9856189008731382, 0.5952380952380952, 'x[3] <= 0.092\\nsquared_error = 41.04\\nsamples = 5\\nvalue = 241.4'),\n",
       " Text(0.9835644581407293, 0.5476190476190477, 'x[9] <= 0.013\\nsquared_error = 16.188\\nsamples = 4\\nvalue = 238.75'),\n",
       " Text(0.9794555726759117, 0.5, 'x[3] <= 0.041\\nsquared_error = 4.0\\nsamples = 2\\nvalue = 235.0'),\n",
       " Text(0.9774011299435028, 0.4523809523809524, 'squared_error = 0.0\\nsamples = 1\\nvalue = 237.0'),\n",
       " Text(0.9815100154083205, 0.4523809523809524, 'squared_error = 0.0\\nsamples = 1\\nvalue = 233.0'),\n",
       " Text(0.987673343605547, 0.5, 'x[4] <= 0.045\\nsquared_error = 0.25\\nsamples = 2\\nvalue = 242.5'),\n",
       " Text(0.9856189008731382, 0.4523809523809524, 'squared_error = 0.0\\nsamples = 1\\nvalue = 242.0'),\n",
       " Text(0.9897277863379559, 0.4523809523809524, 'squared_error = 0.0\\nsamples = 1\\nvalue = 243.0'),\n",
       " Text(0.987673343605547, 0.5476190476190477, 'squared_error = 0.0\\nsamples = 1\\nvalue = 252.0'),\n",
       " Text(0.9958911145351823, 0.5952380952380952, 'x[3] <= 0.003\\nsquared_error = 508.667\\nsamples = 3\\nvalue = 211.0'),\n",
       " Text(0.9938366718027735, 0.5476190476190477, 'x[0] <= -0.042\\nsquared_error = 42.25\\nsamples = 2\\nvalue = 226.5'),\n",
       " Text(0.9917822290703646, 0.5, 'squared_error = 0.0\\nsamples = 1\\nvalue = 233.0'),\n",
       " Text(0.9958911145351823, 0.5, 'squared_error = 0.0\\nsamples = 1\\nvalue = 220.0'),\n",
       " Text(0.9979455572675912, 0.5476190476190477, 'squared_error = 0.0\\nsamples = 1\\nvalue = 180.0'),\n",
       " Text(0.9892141756548536, 0.6904761904761905, 'squared_error = 0.0\\nsamples = 1\\nvalue = 306.0')]"
      ]
     },
     "execution_count": 77,
     "metadata": {},
     "output_type": "execute_result"
    },
    {
     "data": {
      "image/png": "[encoded data removed]",
      "text/plain": [
       "<Figure size 432x288 with 1 Axes>"
      ]
     },
     "metadata": {
      "needs_background": "light"
     },
     "output_type": "display_data"
    }
   ],
   "source": [
    "tree.plot_tree(clf, filled=True)"
   ]
  },
  {
   "cell_type": "code",
   "execution_count": 78,
   "id": "75eed8f7",
   "metadata": {},
   "outputs": [
    {
     "name": "stdout",
     "output_type": "stream",
     "text": [
      "[321. 215. 127.  64. 175. 275. 179. 232. 142.  99. 252. 174. 129.  74.\n",
      " 264.  49.  86.  75. 101. 155. 170. 276. 110. 136.  68. 128. 103.  93.\n",
      " 191. 196. 217. 181. 168. 200. 219. 281. 151. 257.  49. 198.  96. 179.\n",
      "  95. 198. 244.  89. 214. 182.  84. 270. 156. 138. 113. 131. 195. 171.\n",
      " 122.  61. 230. 235.  52. 121. 144. 107. 132. 302.  53. 317. 137.  57.\n",
      "  98. 170.  88.  90.  67. 163. 104. 186. 180. 283. 141. 150.  47. 297.\n",
      " 104.  49. 103. 142.  59.  85. 137.  53.  51. 197. 135.  72. 208. 237.\n",
      " 145. 110. 292.  97. 197. 158. 163.  63. 192. 233.  68. 160. 178.  68.\n",
      " 109.  94. 118. 275. 275. 127. 281.  71.  42.  71. 128. 272. 135.  51.\n",
      " 220. 167.  78. 131. 212. 182. 174.]\n"
     ]
    }
   ],
   "source": [
    "y_pred = clf.predict(X_test)\n",
    "print(y_pred)"
   ]
  },
  {
   "cell_type": "code",
   "execution_count": 79,
   "id": "c3c4a378",
   "metadata": {},
   "outputs": [
    {
     "data": {
      "text/plain": [
       "1.0"
      ]
     },
     "execution_count": 79,
     "metadata": {},
     "output_type": "execute_result"
    }
   ],
   "source": [
    "clf.score(X_test, y_test)"
   ]
  },
  {
   "cell_type": "markdown",
   "id": "caebfd8a",
   "metadata": {},
   "source": [
    "Calculate the root mean square error on the test set. Do a grid search to find the max_depth parameter value that minimizes this error."
   ]
  },
  {
   "cell_type": "code",
   "execution_count": 80,
   "id": "ffff32ab",
   "metadata": {},
   "outputs": [],
   "source": [
    "from sklearn.model_selection import GridSearchCV\n",
    "from sklearn.model_selection import KFold\n",
    "from sklearn.model_selection import cross_val_score\n",
    "from sklearn.metrics import accuracy_score"
   ]
  },
  {
   "cell_type": "code",
   "execution_count": 81,
   "id": "40e187d1",
   "metadata": {},
   "outputs": [],
   "source": [
    "from sklearn.metrics import accuracy_score\n",
    "def scores(dx):\n",
    "    y_train_pred = dx.predict(X_train)\n",
    "    y_test_pred = dx.predict(X_test)\n",
    "    train_score = accuracy_score(y_train, y_train_pred)\n",
    "    test_score=  accuracy_score(y_test, y_test_pred)\n",
    "    print(\"train_score\", train_score)\n",
    "    print(\"test_score\", test_score)"
   ]
  },
  {
   "cell_type": "code",
   "execution_count": 82,
   "id": "d0db5b1a",
   "metadata": {},
   "outputs": [],
   "source": [
    "kfold = KFold(n_splits = 5, random_state = 47, shuffle = True)\n"
   ]
  },
  {
   "cell_type": "code",
   "execution_count": 83,
   "id": "065ebb4a",
   "metadata": {},
   "outputs": [],
   "source": [
    "# Create the parameter grid based on the results of random search\n",
    "params = {\n",
    "    'max_depth': [2,4,6,9,20],\n",
    "    'criterion': [\"gini\", \"entropy\"]\n",
    "    \n",
    "}"
   ]
  },
  {
   "cell_type": "code",
   "execution_count": 84,
   "id": "b605fb3d",
   "metadata": {},
   "outputs": [],
   "source": [
    "dx = tree.DecisionTreeClassifier()"
   ]
  },
  {
   "cell_type": "code",
   "execution_count": 85,
   "id": "7ff2eae4",
   "metadata": {},
   "outputs": [],
   "source": [
    "#Instantiate the grid search model \n",
    "grid_search = GridSearchCV( estimator = dx,\n",
    "                          param_grid = params,\n",
    "                          cv = kfold, n_jobs = 1, verbose = 1, scoring = \"accuracy\")"
   ]
  },
  {
   "cell_type": "code",
   "execution_count": 86,
   "id": "828d928a",
   "metadata": {},
   "outputs": [
    {
     "name": "stdout",
     "output_type": "stream",
     "text": [
      "Fitting 5 folds for each of 10 candidates, totalling 50 fits\n"
     ]
    },
    {
     "data": {
      "text/html": [
       "<style>#sk-container-id-6 {color: black;}#sk-container-id-6 pre{padding: 0;}#sk-container-id-6 div.sk-toggleable {background-color: white;}#sk-container-id-6 label.sk-toggleable__label {cursor: pointer;display: block;width: 100%;margin-bottom: 0;padding: 0.3em;box-sizing: border-box;text-align: center;}#sk-container-id-6 label.sk-toggleable__label-arrow:before {content: \"▸\";float: left;margin-right: 0.25em;color: #696969;}#sk-container-id-6 label.sk-toggleable__label-arrow:hover:before {color: black;}#sk-container-id-6 div.sk-estimator:hover label.sk-toggleable__label-arrow:before {color: black;}#sk-container-id-6 div.sk-toggleable__content {max-height: 0;max-width: 0;overflow: hidden;text-align: left;background-color: #f0f8ff;}#sk-container-id-6 div.sk-toggleable__content pre {margin: 0.2em;color: black;border-radius: 0.25em;background-color: #f0f8ff;}#sk-container-id-6 input.sk-toggleable__control:checked~div.sk-toggleable__content {max-height: 200px;max-width: 100%;overflow: auto;}#sk-container-id-6 input.sk-toggleable__control:checked~label.sk-toggleable__label-arrow:before {content: \"▾\";}#sk-container-id-6 div.sk-estimator input.sk-toggleable__control:checked~label.sk-toggleable__label {background-color: #d4ebff;}#sk-container-id-6 div.sk-label input.sk-toggleable__control:checked~label.sk-toggleable__label {background-color: #d4ebff;}#sk-container-id-6 input.sk-hidden--visually {border: 0;clip: rect(1px 1px 1px 1px);clip: rect(1px, 1px, 1px, 1px);height: 1px;margin: -1px;overflow: hidden;padding: 0;position: absolute;width: 1px;}#sk-container-id-6 div.sk-estimator {font-family: monospace;background-color: #f0f8ff;border: 1px dotted black;border-radius: 0.25em;box-sizing: border-box;margin-bottom: 0.5em;}#sk-container-id-6 div.sk-estimator:hover {background-color: #d4ebff;}#sk-container-id-6 div.sk-parallel-item::after {content: \"\";width: 100%;border-bottom: 1px solid gray;flex-grow: 1;}#sk-container-id-6 div.sk-label:hover label.sk-toggleable__label {background-color: #d4ebff;}#sk-container-id-6 div.sk-serial::before {content: \"\";position: absolute;border-left: 1px solid gray;box-sizing: border-box;top: 0;bottom: 0;left: 50%;z-index: 0;}#sk-container-id-6 div.sk-serial {display: flex;flex-direction: column;align-items: center;background-color: white;padding-right: 0.2em;padding-left: 0.2em;position: relative;}#sk-container-id-6 div.sk-item {position: relative;z-index: 1;}#sk-container-id-6 div.sk-parallel {display: flex;align-items: stretch;justify-content: center;background-color: white;position: relative;}#sk-container-id-6 div.sk-item::before, #sk-container-id-6 div.sk-parallel-item::before {content: \"\";position: absolute;border-left: 1px solid gray;box-sizing: border-box;top: 0;bottom: 0;left: 50%;z-index: -1;}#sk-container-id-6 div.sk-parallel-item {display: flex;flex-direction: column;z-index: 1;position: relative;background-color: white;}#sk-container-id-6 div.sk-parallel-item:first-child::after {align-self: flex-end;width: 50%;}#sk-container-id-6 div.sk-parallel-item:last-child::after {align-self: flex-start;width: 50%;}#sk-container-id-6 div.sk-parallel-item:only-child::after {width: 0;}#sk-container-id-6 div.sk-dashed-wrapped {border: 1px dashed gray;margin: 0 0.4em 0.5em 0.4em;box-sizing: border-box;padding-bottom: 0.4em;background-color: white;}#sk-container-id-6 div.sk-label label {font-family: monospace;font-weight: bold;display: inline-block;line-height: 1.2em;}#sk-container-id-6 div.sk-label-container {text-align: center;}#sk-container-id-6 div.sk-container {/* jupyter's `normalize.less` sets `[hidden] { display: none; }` but bootstrap.min.css set `[hidden] { display: none !important; }` so we also need the `!important` here to be able to override the default hidden behavior on the sphinx rendered scikit-learn.org. See: https://github.com/scikit-learn/scikit-learn/issues/21755 */display: inline-block !important;position: relative;}#sk-container-id-6 div.sk-text-repr-fallback {display: none;}</style><div id=\"sk-container-id-6\" class=\"sk-top-container\"><div class=\"sk-text-repr-fallback\"><pre>GridSearchCV(cv=KFold(n_splits=5, random_state=47, shuffle=True),\n",
       "             estimator=DecisionTreeClassifier(), n_jobs=1,\n",
       "             param_grid={&#x27;criterion&#x27;: [&#x27;gini&#x27;, &#x27;entropy&#x27;],\n",
       "                         &#x27;max_depth&#x27;: [2, 4, 6, 9, 20]},\n",
       "             scoring=&#x27;accuracy&#x27;, verbose=1)</pre><b>In a Jupyter environment, please rerun this cell to show the HTML representation or trust the notebook. <br />On GitHub, the HTML representation is unable to render, please try loading this page with nbviewer.org.</b></div><div class=\"sk-container\" hidden><div class=\"sk-item sk-dashed-wrapped\"><div class=\"sk-label-container\"><div class=\"sk-label sk-toggleable\"><input class=\"sk-toggleable__control sk-hidden--visually\" id=\"sk-estimator-id-8\" type=\"checkbox\" ><label for=\"sk-estimator-id-8\" class=\"sk-toggleable__label sk-toggleable__label-arrow\">GridSearchCV</label><div class=\"sk-toggleable__content\"><pre>GridSearchCV(cv=KFold(n_splits=5, random_state=47, shuffle=True),\n",
       "             estimator=DecisionTreeClassifier(), n_jobs=1,\n",
       "             param_grid={&#x27;criterion&#x27;: [&#x27;gini&#x27;, &#x27;entropy&#x27;],\n",
       "                         &#x27;max_depth&#x27;: [2, 4, 6, 9, 20]},\n",
       "             scoring=&#x27;accuracy&#x27;, verbose=1)</pre></div></div></div><div class=\"sk-parallel\"><div class=\"sk-parallel-item\"><div class=\"sk-item\"><div class=\"sk-label-container\"><div class=\"sk-label sk-toggleable\"><input class=\"sk-toggleable__control sk-hidden--visually\" id=\"sk-estimator-id-9\" type=\"checkbox\" ><label for=\"sk-estimator-id-9\" class=\"sk-toggleable__label sk-toggleable__label-arrow\">estimator: DecisionTreeClassifier</label><div class=\"sk-toggleable__content\"><pre>DecisionTreeClassifier()</pre></div></div></div><div class=\"sk-serial\"><div class=\"sk-item\"><div class=\"sk-estimator sk-toggleable\"><input class=\"sk-toggleable__control sk-hidden--visually\" id=\"sk-estimator-id-10\" type=\"checkbox\" ><label for=\"sk-estimator-id-10\" class=\"sk-toggleable__label sk-toggleable__label-arrow\">DecisionTreeClassifier</label><div class=\"sk-toggleable__content\"><pre>DecisionTreeClassifier()</pre></div></div></div></div></div></div></div></div></div></div>"
      ],
      "text/plain": [
       "GridSearchCV(cv=KFold(n_splits=5, random_state=47, shuffle=True),\n",
       "             estimator=DecisionTreeClassifier(), n_jobs=1,\n",
       "             param_grid={'criterion': ['gini', 'entropy'],\n",
       "                         'max_depth': [2, 4, 6, 9, 20]},\n",
       "             scoring='accuracy', verbose=1)"
      ]
     },
     "execution_count": 86,
     "metadata": {},
     "output_type": "execute_result"
    }
   ],
   "source": [
    "grid_search.fit(X_train, y_train)"
   ]
  },
  {
   "cell_type": "code",
   "execution_count": 87,
   "id": "c2f8fe3d",
   "metadata": {},
   "outputs": [
    {
     "name": "stdout",
     "output_type": "stream",
     "text": [
      "   mean_fit_time  std_fit_time  mean_score_time  std_score_time  \\\n",
      "0       0.002314      0.002261         0.000429        0.000526   \n",
      "1       0.001599      0.003197         0.004798        0.003917   \n",
      "2       0.007214      0.001605         0.000801        0.001602   \n",
      "3       0.007985      0.000019         0.000000        0.000000   \n",
      "4       0.011200      0.003938         0.001605        0.003209   \n",
      "5       0.004792      0.003913         0.003203        0.003923   \n",
      "6       0.011215      0.003901         0.000000        0.000000   \n",
      "7       0.020707      0.003854         0.000000        0.000000   \n",
      "8       0.020139      0.003430         0.000000        0.000000   \n",
      "9       0.017493      0.002833         0.000215        0.000429   \n",
      "\n",
      "  param_criterion param_max_depth                                     params  \\\n",
      "0            gini               2      {'criterion': 'gini', 'max_depth': 2}   \n",
      "1            gini               4      {'criterion': 'gini', 'max_depth': 4}   \n",
      "2            gini               6      {'criterion': 'gini', 'max_depth': 6}   \n",
      "3            gini               9      {'criterion': 'gini', 'max_depth': 9}   \n",
      "4            gini              20     {'criterion': 'gini', 'max_depth': 20}   \n",
      "5         entropy               2   {'criterion': 'entropy', 'max_depth': 2}   \n",
      "6         entropy               4   {'criterion': 'entropy', 'max_depth': 4}   \n",
      "7         entropy               6   {'criterion': 'entropy', 'max_depth': 6}   \n",
      "8         entropy               9   {'criterion': 'entropy', 'max_depth': 9}   \n",
      "9         entropy              20  {'criterion': 'entropy', 'max_depth': 20}   \n",
      "\n",
      "   split0_test_score  split1_test_score  split2_test_score  split3_test_score  \\\n",
      "0           0.000000           0.016129           0.000000           0.000000   \n",
      "1           0.000000           0.016129           0.000000           0.000000   \n",
      "2           0.000000           0.016129           0.000000           0.000000   \n",
      "3           0.000000           0.000000           0.000000           0.016129   \n",
      "4           0.000000           0.016129           0.016129           0.016129   \n",
      "5           0.016129           0.000000           0.032258           0.000000   \n",
      "6           0.000000           0.000000           0.016129           0.000000   \n",
      "7           0.000000           0.000000           0.000000           0.016129   \n",
      "8           0.000000           0.000000           0.000000           0.000000   \n",
      "9           0.000000           0.000000           0.000000           0.016129   \n",
      "\n",
      "   split4_test_score  mean_test_score  std_test_score  rank_test_score  \n",
      "0           0.000000         0.003226        0.006452                8  \n",
      "1           0.032787         0.009783        0.013089                1  \n",
      "2           0.016393         0.006504        0.007967                4  \n",
      "3           0.000000         0.003226        0.006452                8  \n",
      "4           0.000000         0.009677        0.007902                2  \n",
      "5           0.000000         0.009677        0.012903                2  \n",
      "6           0.016393         0.006504        0.007967                4  \n",
      "7           0.016393         0.006504        0.007967                4  \n",
      "8           0.016393         0.003279        0.006557                7  \n",
      "9           0.000000         0.003226        0.006452                8  \n"
     ]
    }
   ],
   "source": [
    "score_df0 = pd.DataFrame(grid_search.cv_results_)\n",
    "print(score_df0)"
   ]
  },
  {
   "cell_type": "code",
   "execution_count": 88,
   "id": "d32a0e10",
   "metadata": {},
   "outputs": [
    {
     "data": {
      "text/html": [
       "<div>\n",
       "<style scoped>\n",
       "    .dataframe tbody tr th:only-of-type {\n",
       "        vertical-align: middle;\n",
       "    }\n",
       "\n",
       "    .dataframe tbody tr th {\n",
       "        vertical-align: top;\n",
       "    }\n",
       "\n",
       "    .dataframe thead th {\n",
       "        text-align: right;\n",
       "    }\n",
       "</style>\n",
       "<table border=\"1\" class=\"dataframe\">\n",
       "  <thead>\n",
       "    <tr style=\"text-align: right;\">\n",
       "      <th></th>\n",
       "      <th>mean_fit_time</th>\n",
       "      <th>std_fit_time</th>\n",
       "      <th>mean_score_time</th>\n",
       "      <th>std_score_time</th>\n",
       "      <th>param_criterion</th>\n",
       "      <th>param_max_depth</th>\n",
       "      <th>params</th>\n",
       "      <th>split0_test_score</th>\n",
       "      <th>split1_test_score</th>\n",
       "      <th>split2_test_score</th>\n",
       "      <th>split3_test_score</th>\n",
       "      <th>split4_test_score</th>\n",
       "      <th>mean_test_score</th>\n",
       "      <th>std_test_score</th>\n",
       "      <th>rank_test_score</th>\n",
       "    </tr>\n",
       "  </thead>\n",
       "  <tbody>\n",
       "    <tr>\n",
       "      <th>1</th>\n",
       "      <td>0.001599</td>\n",
       "      <td>0.003197</td>\n",
       "      <td>0.004798</td>\n",
       "      <td>0.003917</td>\n",
       "      <td>gini</td>\n",
       "      <td>4</td>\n",
       "      <td>{'criterion': 'gini', 'max_depth': 4}</td>\n",
       "      <td>0.0</td>\n",
       "      <td>0.016129</td>\n",
       "      <td>0.0</td>\n",
       "      <td>0.0</td>\n",
       "      <td>0.032787</td>\n",
       "      <td>0.009783</td>\n",
       "      <td>0.013089</td>\n",
       "      <td>1</td>\n",
       "    </tr>\n",
       "  </tbody>\n",
       "</table>\n",
       "</div>"
      ],
      "text/plain": [
       "   mean_fit_time  std_fit_time  mean_score_time  std_score_time  \\\n",
       "1       0.001599      0.003197         0.004798        0.003917   \n",
       "\n",
       "  param_criterion param_max_depth                                 params  \\\n",
       "1            gini               4  {'criterion': 'gini', 'max_depth': 4}   \n",
       "\n",
       "   split0_test_score  split1_test_score  split2_test_score  split3_test_score  \\\n",
       "1                0.0           0.016129                0.0                0.0   \n",
       "\n",
       "   split4_test_score  mean_test_score  std_test_score  rank_test_score  \n",
       "1           0.032787         0.009783        0.013089                1  "
      ]
     },
     "execution_count": 88,
     "metadata": {},
     "output_type": "execute_result"
    }
   ],
   "source": [
    "score_df0.nlargest(1, \"mean_test_score\")"
   ]
  },
  {
   "cell_type": "code",
   "execution_count": 89,
   "id": "26827260",
   "metadata": {},
   "outputs": [
    {
     "data": {
      "text/html": [
       "<style>#sk-container-id-7 {color: black;}#sk-container-id-7 pre{padding: 0;}#sk-container-id-7 div.sk-toggleable {background-color: white;}#sk-container-id-7 label.sk-toggleable__label {cursor: pointer;display: block;width: 100%;margin-bottom: 0;padding: 0.3em;box-sizing: border-box;text-align: center;}#sk-container-id-7 label.sk-toggleable__label-arrow:before {content: \"▸\";float: left;margin-right: 0.25em;color: #696969;}#sk-container-id-7 label.sk-toggleable__label-arrow:hover:before {color: black;}#sk-container-id-7 div.sk-estimator:hover label.sk-toggleable__label-arrow:before {color: black;}#sk-container-id-7 div.sk-toggleable__content {max-height: 0;max-width: 0;overflow: hidden;text-align: left;background-color: #f0f8ff;}#sk-container-id-7 div.sk-toggleable__content pre {margin: 0.2em;color: black;border-radius: 0.25em;background-color: #f0f8ff;}#sk-container-id-7 input.sk-toggleable__control:checked~div.sk-toggleable__content {max-height: 200px;max-width: 100%;overflow: auto;}#sk-container-id-7 input.sk-toggleable__control:checked~label.sk-toggleable__label-arrow:before {content: \"▾\";}#sk-container-id-7 div.sk-estimator input.sk-toggleable__control:checked~label.sk-toggleable__label {background-color: #d4ebff;}#sk-container-id-7 div.sk-label input.sk-toggleable__control:checked~label.sk-toggleable__label {background-color: #d4ebff;}#sk-container-id-7 input.sk-hidden--visually {border: 0;clip: rect(1px 1px 1px 1px);clip: rect(1px, 1px, 1px, 1px);height: 1px;margin: -1px;overflow: hidden;padding: 0;position: absolute;width: 1px;}#sk-container-id-7 div.sk-estimator {font-family: monospace;background-color: #f0f8ff;border: 1px dotted black;border-radius: 0.25em;box-sizing: border-box;margin-bottom: 0.5em;}#sk-container-id-7 div.sk-estimator:hover {background-color: #d4ebff;}#sk-container-id-7 div.sk-parallel-item::after {content: \"\";width: 100%;border-bottom: 1px solid gray;flex-grow: 1;}#sk-container-id-7 div.sk-label:hover label.sk-toggleable__label {background-color: #d4ebff;}#sk-container-id-7 div.sk-serial::before {content: \"\";position: absolute;border-left: 1px solid gray;box-sizing: border-box;top: 0;bottom: 0;left: 50%;z-index: 0;}#sk-container-id-7 div.sk-serial {display: flex;flex-direction: column;align-items: center;background-color: white;padding-right: 0.2em;padding-left: 0.2em;position: relative;}#sk-container-id-7 div.sk-item {position: relative;z-index: 1;}#sk-container-id-7 div.sk-parallel {display: flex;align-items: stretch;justify-content: center;background-color: white;position: relative;}#sk-container-id-7 div.sk-item::before, #sk-container-id-7 div.sk-parallel-item::before {content: \"\";position: absolute;border-left: 1px solid gray;box-sizing: border-box;top: 0;bottom: 0;left: 50%;z-index: -1;}#sk-container-id-7 div.sk-parallel-item {display: flex;flex-direction: column;z-index: 1;position: relative;background-color: white;}#sk-container-id-7 div.sk-parallel-item:first-child::after {align-self: flex-end;width: 50%;}#sk-container-id-7 div.sk-parallel-item:last-child::after {align-self: flex-start;width: 50%;}#sk-container-id-7 div.sk-parallel-item:only-child::after {width: 0;}#sk-container-id-7 div.sk-dashed-wrapped {border: 1px dashed gray;margin: 0 0.4em 0.5em 0.4em;box-sizing: border-box;padding-bottom: 0.4em;background-color: white;}#sk-container-id-7 div.sk-label label {font-family: monospace;font-weight: bold;display: inline-block;line-height: 1.2em;}#sk-container-id-7 div.sk-label-container {text-align: center;}#sk-container-id-7 div.sk-container {/* jupyter's `normalize.less` sets `[hidden] { display: none; }` but bootstrap.min.css set `[hidden] { display: none !important; }` so we also need the `!important` here to be able to override the default hidden behavior on the sphinx rendered scikit-learn.org. See: https://github.com/scikit-learn/scikit-learn/issues/21755 */display: inline-block !important;position: relative;}#sk-container-id-7 div.sk-text-repr-fallback {display: none;}</style><div id=\"sk-container-id-7\" class=\"sk-top-container\"><div class=\"sk-text-repr-fallback\"><pre>DecisionTreeClassifier(max_depth=4)</pre><b>In a Jupyter environment, please rerun this cell to show the HTML representation or trust the notebook. <br />On GitHub, the HTML representation is unable to render, please try loading this page with nbviewer.org.</b></div><div class=\"sk-container\" hidden><div class=\"sk-item\"><div class=\"sk-estimator sk-toggleable\"><input class=\"sk-toggleable__control sk-hidden--visually\" id=\"sk-estimator-id-11\" type=\"checkbox\" checked><label for=\"sk-estimator-id-11\" class=\"sk-toggleable__label sk-toggleable__label-arrow\">DecisionTreeClassifier</label><div class=\"sk-toggleable__content\"><pre>DecisionTreeClassifier(max_depth=4)</pre></div></div></div></div></div>"
      ],
      "text/plain": [
       "DecisionTreeClassifier(max_depth=4)"
      ]
     },
     "execution_count": 89,
     "metadata": {},
     "output_type": "execute_result"
    }
   ],
   "source": [
    "dx_1 = grid_search.best_estimator_\n",
    "dx_1"
   ]
  },
  {
   "cell_type": "code",
   "execution_count": 90,
   "id": "63864dc6",
   "metadata": {},
   "outputs": [
    {
     "data": {
      "text/plain": [
       "{'criterion': 'gini', 'max_depth': 4}"
      ]
     },
     "execution_count": 90,
     "metadata": {},
     "output_type": "execute_result"
    }
   ],
   "source": [
    "grid_search.best_params_"
   ]
  },
  {
   "cell_type": "code",
   "execution_count": 91,
   "id": "d1a862e7",
   "metadata": {},
   "outputs": [
    {
     "data": {
      "text/plain": [
       "0.00978318350079323"
      ]
     },
     "execution_count": 91,
     "metadata": {},
     "output_type": "execute_result"
    }
   ],
   "source": [
    "grid_search.best_score_"
   ]
  },
  {
   "cell_type": "code",
   "execution_count": 92,
   "id": "b9280ed2",
   "metadata": {},
   "outputs": [
    {
     "data": {
      "text/plain": [
       "{'max_depth': [2, 4, 6, 9, 20], 'criterion': ['gini', 'entropy']}"
      ]
     },
     "execution_count": 92,
     "metadata": {},
     "output_type": "execute_result"
    }
   ],
   "source": [
    "grid_search.param_grid"
   ]
  },
  {
   "cell_type": "code",
   "execution_count": 94,
   "id": "61a91b54",
   "metadata": {},
   "outputs": [
    {
     "name": "stdout",
     "output_type": "stream",
     "text": [
      "train_score 0.11003236245954692\n",
      "test_score 0.007518796992481203\n"
     ]
    }
   ],
   "source": [
    "scores(dx_1)"
   ]
  },
  {
   "cell_type": "markdown",
   "id": "ef8cfdf4",
   "metadata": {},
   "source": [
    "Interpreting the Root mean squared error for the test data"
   ]
  },
  {
   "cell_type": "code",
   "execution_count": 95,
   "id": "6a296acf",
   "metadata": {},
   "outputs": [],
   "source": [
    "from sklearn.metrics import mean_squared_error\n",
    "from math import sqrt\n",
    "import math"
   ]
  },
  {
   "cell_type": "code",
   "execution_count": 96,
   "id": "2abb7fb4",
   "metadata": {},
   "outputs": [],
   "source": [
    "#calculate RMSE \n",
    "#sqrt(mean_squared_error(y_test, y_pred))"
   ]
  },
  {
   "cell_type": "code",
   "execution_count": 97,
   "id": "069d24ea",
   "metadata": {},
   "outputs": [],
   "source": [
    "mse = sklearn.metrics.mean_squared_error(y_test, y_pred)"
   ]
  },
  {
   "cell_type": "code",
   "execution_count": 98,
   "id": "7a44f341",
   "metadata": {},
   "outputs": [],
   "source": [
    "rmse = math.sqrt(mse)"
   ]
  },
  {
   "cell_type": "code",
   "execution_count": 99,
   "id": "d944983c",
   "metadata": {},
   "outputs": [
    {
     "name": "stdout",
     "output_type": "stream",
     "text": [
      "0.0\n"
     ]
    }
   ],
   "source": [
    "print(rmse)"
   ]
  },
  {
   "cell_type": "code",
   "execution_count": null,
   "id": "2eda446f",
   "metadata": {},
   "outputs": [],
   "source": []
  }
 ],
 "metadata": {
  "kernelspec": {
   "display_name": "Python 3",
   "language": "python",
   "name": "python3"
  },
  "language_info": {
   "codemirror_mode": {
    "name": "ipython",
    "version": 3
   },
   "file_extension": ".py",
   "mimetype": "text/x-python",
   "name": "python",
   "nbconvert_exporter": "python",
   "pygments_lexer": "ipython3",
   "version": "3.8.8"
  }
 },
 "nbformat": 4,
 "nbformat_minor": 5
}
